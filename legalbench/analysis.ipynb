{
 "cells": [
  {
   "cell_type": "markdown",
   "metadata": {},
   "source": [
    "# LegalBench Results Analysis\n",
    "\n",
    "This notebook analyzes the balanced accuracy scores across different models from the LegalBench evaluation results."
   ]
  },
  {
   "cell_type": "code",
   "execution_count": 25,
   "metadata": {},
   "outputs": [],
   "source": [
    "import json\n",
    "import pandas as pd\n",
    "import plotly.express as px\n",
    "import plotly.graph_objects as go\n",
    "from pathlib import Path\n",
    "import re"
   ]
  },
  {
   "cell_type": "code",
   "execution_count": 26,
   "metadata": {},
   "outputs": [
    {
     "name": "stdout",
     "output_type": "stream",
     "text": [
      "Loaded 58 results for target models\n",
      "\n",
      "Results by model:\n",
      "model\n",
      "gemma-3-12b-it              29\n",
      "Mistral-7B-Instruct-v0.3    29\n",
      "Name: count, dtype: int64\n",
      "\n",
      "Unique tasks: 29\n",
      "['overruling'\n",
      " 'maud_change_in_law__subject_to_disproportionate_impact_modifier'\n",
      " 'cuad_affiliate_license-licensor' 'cuad_irrevocable_or_perpetual_license'\n",
      " 'cuad_governing_law' 'maud_relational_language_(mae)_applies_to'\n",
      " 'abercrombie' 'cuad_covenant_not_to_sue' 'cuad_cap_on_liability'\n",
      " 'maud_pandemic_or_other_public_health_event__subject_to_disproportionate_impact_modifier'\n",
      " 'international_citizenship_questions' 'maud_fls_(mae)_standard'\n",
      " 'cuad_unlimited-all-you-can-eat-license' 'cuad_license_grant'\n",
      " 'opp115_international_and_specific_audiences'\n",
      " 'cuad_revenue-profit_sharing'\n",
      " 'maud_ability_to_consummate_concept_is_subject_to_mae_carveouts'\n",
      " 'definition_extraction' 'opp115_do_not_track' 'definition_classification'\n",
      " 'maud_changes_in_gaap_or_other_accounting_principles__subject_to_disproportionate_impact_modifier'\n",
      " 'ssla_plaintiff' 'textualism_tool_dictionaries'\n",
      " 'cuad_ip_ownership_assignment' 'hearsay'\n",
      " 'maud_general_economic_and_financial_conditions_subject_to_disproportionate_impact_modifier'\n",
      " 'maud_pandemic_or_other_public_health_event_specific_reference_to_pandemic-related_governmental_responses_or_measures'\n",
      " 'privacy_policy_entailment' 'cuad_affiliate_license-licensee']\n"
     ]
    }
   ],
   "source": [
    "# Load all JSON files from the results directory\n",
    "results_dir = Path('results')\n",
    "results = []\n",
    "\n",
    "# Models to compare\n",
    "target_models = ['gemma-3-12b-it', 'Mistral-7B-Instruct-v0.3']\n",
    "\n",
    "for json_file in results_dir.glob('*.json'):\n",
    "    try:\n",
    "        with open(json_file, 'r') as f:\n",
    "            data = json.load(f)\n",
    "            \n",
    "        # Extract required fields\n",
    "        if ('dataset' in data and \n",
    "            'name' in data['dataset'] and\n",
    "            'model' in data and \n",
    "            'balanced_accuracy' in data):\n",
    "            \n",
    "            # Clean model name by removing organization prefix\n",
    "            model_name = data['model']\n",
    "            if '/' in model_name:\n",
    "                model_name = model_name.split('/')[-1]\n",
    "            \n",
    "            # Filter for target models only\n",
    "            if model_name in target_models:\n",
    "                results.append({\n",
    "                    'model': model_name,\n",
    "                    'task': data['dataset']['name'],\n",
    "                    'balanced_accuracy': data['balanced_accuracy'],\n",
    "                    'file': json_file.name\n",
    "                })\n",
    "    except Exception as e:\n",
    "        print(f\"Error processing {json_file}: {e}\")\n",
    "\n",
    "print(f\"Loaded {len(results)} results for target models\")\n",
    "\n",
    "# Create DataFrame\n",
    "df = pd.DataFrame(results)\n",
    "print(f\"\\nResults by model:\")\n",
    "print(df['model'].value_counts())\n",
    "print(f\"\\nUnique tasks: {df['task'].nunique()}\")\n",
    "print(df['task'].unique())"
   ]
  },
  {
   "cell_type": "markdown",
   "metadata": {},
   "source": [
    "## Model Comparison: gemma-3-12b-it vs Mistral-7B-Instruct-v0.3\n",
    "\n",
    "First, let's compare the performance of gemma-3-12b-it and Mistral-7B-Instruct-v0.3 across all LegalBench tasks."
   ]
  },
  {
   "cell_type": "code",
   "execution_count": 27,
   "metadata": {},
   "outputs": [
    {
     "name": "stdout",
     "output_type": "stream",
     "text": [
      "Model comparison data:\n",
      "model                                   task  Mistral-7B-Instruct-v0.3  \\\n",
      "0                                abercrombie                  0.589474   \n",
      "1            cuad_affiliate_license-licensee                  0.919192   \n",
      "2            cuad_affiliate_license-licensor                  0.818182   \n",
      "3                      cuad_cap_on_liability                  0.886035   \n",
      "4                   cuad_covenant_not_to_sue                  0.886364   \n",
      "5                         cuad_governing_law                  0.914384   \n",
      "6               cuad_ip_ownership_assignment                  0.927083   \n",
      "7      cuad_irrevocable_or_perpetual_license                  0.975000   \n",
      "8                         cuad_license_grant                  0.901146   \n",
      "9                cuad_revenue-profit_sharing                  0.935401   \n",
      "\n",
      "model  gemma-3-12b-it  \n",
      "0            0.631579  \n",
      "1            0.909091  \n",
      "2            0.920455  \n",
      "3            0.939807  \n",
      "4            0.938312  \n",
      "5            0.986301  \n",
      "6            0.911458  \n",
      "7            0.985714  \n",
      "8            0.929083  \n",
      "9            0.937984  \n",
      "\n",
      "Tasks with results from both models: 29\n",
      "Tasks with only gemma-3-12b-it: 0\n",
      "Tasks with only Mistral-7B-Instruct-v0.3: 0\n"
     ]
    }
   ],
   "source": [
    "# Prepare data for comparison chart\n",
    "# Pivot the data to have tasks as rows and models as columns\n",
    "comparison_df = df.pivot(index='task', columns='model', values='balanced_accuracy').fillna(0)\n",
    "\n",
    "# Reset index to make 'task' a regular column\n",
    "comparison_df = comparison_df.reset_index()\n",
    "\n",
    "print(\"Model comparison data:\")\n",
    "print(comparison_df.head(10))\n",
    "\n",
    "# Calculate difference between models where both have results\n",
    "comparison_df['difference'] = comparison_df['gemma-3-12b-it'] - comparison_df['Mistral-7B-Instruct-v0.3']\n",
    "comparison_df['has_both'] = (comparison_df['gemma-3-12b-it'] > 0) & (comparison_df['Mistral-7B-Instruct-v0.3'] > 0)\n",
    "\n",
    "print(f\"\\nTasks with results from both models: {comparison_df['has_both'].sum()}\")\n",
    "print(f\"Tasks with only gemma-3-12b-it: {(comparison_df['gemma-3-12b-it'] > 0).sum() - comparison_df['has_both'].sum()}\")\n",
    "print(f\"Tasks with only Mistral-7B-Instruct-v0.3: {(comparison_df['Mistral-7B-Instruct-v0.3'] > 0).sum() - comparison_df['has_both'].sum()}\")"
   ]
  },
  {
   "cell_type": "code",
   "execution_count": 28,
   "metadata": {},
   "outputs": [
    {
     "data": {
      "application/vnd.plotly.v1+json": {
       "config": {
        "plotlyServerURL": "https://plot.ly"
       },
       "data": [
        {
         "alignmentgroup": "True",
         "hovertemplate": "model=Mistral-7B-Instruct-v0.3<br>Task=%{x}<br>Balanced Accuracy=%{y}<extra></extra>",
         "legendgroup": "Mistral-7B-Instruct-v0.3",
         "marker": {
          "color": "#ff7f0e",
          "pattern": {
           "shape": ""
          }
         },
         "name": "Mistral-7B-Instruct-v0.3",
         "offsetgroup": "Mistral-7B-Instruct-v0.3",
         "orientation": "v",
         "showlegend": true,
         "textposition": "auto",
         "type": "bar",
         "x": [
          "maud_fls_(mae)_standard",
          "maud_general_economic_and_financial_conditions_subject_to_disproportionate_impact_modifier",
          "maud_change_in_law__subject_to_disproportionate_impact_modifier",
          "maud_ability_to_consummate_concept_is_subject_to_mae_carveouts",
          "maud_changes_in_gaap_or_other_accounting_principles__subject_to_disproportionate_impact_modifier",
          "maud_pandemic_or_other_public_health_event_specific_reference_to_pandemic-related_governmental_responses_or_measures",
          "maud_relational_language_(mae)_applies_to",
          "international_citizenship_questions",
          "maud_pandemic_or_other_public_health_event__subject_to_disproportionate_impact_modifier",
          "abercrombie",
          "ssla_plaintiff",
          "hearsay",
          "opp115_do_not_track",
          "opp115_international_and_specific_audiences",
          "privacy_policy_entailment",
          "textualism_tool_dictionaries",
          "definition_extraction",
          "cuad_affiliate_license-licensor",
          "definition_classification",
          "cuad_covenant_not_to_sue",
          "cuad_cap_on_liability",
          "cuad_affiliate_license-licensee",
          "cuad_license_grant",
          "cuad_ip_ownership_assignment",
          "cuad_revenue-profit_sharing",
          "cuad_unlimited-all-you-can-eat-license",
          "overruling",
          "cuad_governing_law",
          "cuad_irrevocable_or_perpetual_license"
         ],
         "xaxis": "x",
         "y": {
          "bdata": "AAAAAAAA0D8AAAAAAADgP4d+s3XoN9s/656RpYc04T8/Pz8/Pz/fP9mJndiJneA/nrLFOZG64D8C86A8M+LfPwAAAAAAAOA/zy1x6vfc4j+lF0+5GGrsP+5Mr/ApzOc/fsPaN6x94z+TqYrgRQDmP/DvcFwoX+o/mEGHT69i5j9F6dJWGQTrPy666KKLLuo/caUQZ5dg6z9ddNFFF13sPzQtjrpmWuw/Faj1KwVq7T9PpKBpMNbsP6qqqqqqqu0/fJeJEM3u7T8AAAAAAADuP7wVBrqk2e0/KlSoUKFC7T8zMzMzMzPvPw==",
          "dtype": "f8"
         },
         "yaxis": "y"
        },
        {
         "alignmentgroup": "True",
         "hovertemplate": "model=gemma-3-12b-it<br>Task=%{x}<br>Balanced Accuracy=%{y}<extra></extra>",
         "legendgroup": "gemma-3-12b-it",
         "marker": {
          "color": "#1f77b4",
          "pattern": {
           "shape": ""
          }
         },
         "name": "gemma-3-12b-it",
         "offsetgroup": "gemma-3-12b-it",
         "orientation": "v",
         "showlegend": true,
         "textposition": "auto",
         "type": "bar",
         "x": [
          "maud_fls_(mae)_standard",
          "maud_general_economic_and_financial_conditions_subject_to_disproportionate_impact_modifier",
          "maud_change_in_law__subject_to_disproportionate_impact_modifier",
          "maud_ability_to_consummate_concept_is_subject_to_mae_carveouts",
          "maud_changes_in_gaap_or_other_accounting_principles__subject_to_disproportionate_impact_modifier",
          "maud_pandemic_or_other_public_health_event_specific_reference_to_pandemic-related_governmental_responses_or_measures",
          "maud_relational_language_(mae)_applies_to",
          "international_citizenship_questions",
          "maud_pandemic_or_other_public_health_event__subject_to_disproportionate_impact_modifier",
          "abercrombie",
          "ssla_plaintiff",
          "hearsay",
          "opp115_do_not_track",
          "opp115_international_and_specific_audiences",
          "privacy_policy_entailment",
          "textualism_tool_dictionaries",
          "definition_extraction",
          "cuad_affiliate_license-licensor",
          "definition_classification",
          "cuad_covenant_not_to_sue",
          "cuad_cap_on_liability",
          "cuad_affiliate_license-licensee",
          "cuad_license_grant",
          "cuad_ip_ownership_assignment",
          "cuad_revenue-profit_sharing",
          "cuad_unlimited-all-you-can-eat-license",
          "overruling",
          "cuad_governing_law",
          "cuad_irrevocable_or_perpetual_license"
         ],
         "xaxis": "x",
         "y": {
          "bdata": "a7RGa7RG0z8AAAAAAADYP5ytQ7/ZOuA/27Zt27Zt2z8fqUYfqUbfPwAAAAAAAOA/cRnwyeEy4D+vA1x0Gp/hP9LElvwjkeE/XkN5DeU15D8w/J8t7UXhP64ZnmoD3+c/a9+w9g1r7z8ChC0WqkntP55VEUY45Ok/wsspeDkF7z9F6dJWGQTrP3TRRRdddO0/hpuv2dvk7j+ZGtg7pgbuP3QJJ+/mEu4/GF100UUX7T9aSUx4DLvtP6qqqqqqKu0/gT/gD/gD7j8AAAAAAADuP+Bn1el+TO4//Pjx48eP7z+w+Iqv+IrvPw==",
          "dtype": "f8"
         },
         "yaxis": "y"
        }
       ],
       "layout": {
        "barmode": "group",
        "font": {
         "size": 11
        },
        "height": 600,
        "legend": {
         "orientation": "h",
         "title": {
          "text": "model"
         },
         "tracegroupgap": 0,
         "x": 1,
         "xanchor": "right",
         "y": 1.02,
         "yanchor": "bottom"
        },
        "template": {
         "data": {
          "bar": [
           {
            "error_x": {
             "color": "#2a3f5f"
            },
            "error_y": {
             "color": "#2a3f5f"
            },
            "marker": {
             "line": {
              "color": "#E5ECF6",
              "width": 0.5
             },
             "pattern": {
              "fillmode": "overlay",
              "size": 10,
              "solidity": 0.2
             }
            },
            "type": "bar"
           }
          ],
          "barpolar": [
           {
            "marker": {
             "line": {
              "color": "#E5ECF6",
              "width": 0.5
             },
             "pattern": {
              "fillmode": "overlay",
              "size": 10,
              "solidity": 0.2
             }
            },
            "type": "barpolar"
           }
          ],
          "carpet": [
           {
            "aaxis": {
             "endlinecolor": "#2a3f5f",
             "gridcolor": "white",
             "linecolor": "white",
             "minorgridcolor": "white",
             "startlinecolor": "#2a3f5f"
            },
            "baxis": {
             "endlinecolor": "#2a3f5f",
             "gridcolor": "white",
             "linecolor": "white",
             "minorgridcolor": "white",
             "startlinecolor": "#2a3f5f"
            },
            "type": "carpet"
           }
          ],
          "choropleth": [
           {
            "colorbar": {
             "outlinewidth": 0,
             "ticks": ""
            },
            "type": "choropleth"
           }
          ],
          "contour": [
           {
            "colorbar": {
             "outlinewidth": 0,
             "ticks": ""
            },
            "colorscale": [
             [
              0,
              "#0d0887"
             ],
             [
              0.1111111111111111,
              "#46039f"
             ],
             [
              0.2222222222222222,
              "#7201a8"
             ],
             [
              0.3333333333333333,
              "#9c179e"
             ],
             [
              0.4444444444444444,
              "#bd3786"
             ],
             [
              0.5555555555555556,
              "#d8576b"
             ],
             [
              0.6666666666666666,
              "#ed7953"
             ],
             [
              0.7777777777777778,
              "#fb9f3a"
             ],
             [
              0.8888888888888888,
              "#fdca26"
             ],
             [
              1,
              "#f0f921"
             ]
            ],
            "type": "contour"
           }
          ],
          "contourcarpet": [
           {
            "colorbar": {
             "outlinewidth": 0,
             "ticks": ""
            },
            "type": "contourcarpet"
           }
          ],
          "heatmap": [
           {
            "colorbar": {
             "outlinewidth": 0,
             "ticks": ""
            },
            "colorscale": [
             [
              0,
              "#0d0887"
             ],
             [
              0.1111111111111111,
              "#46039f"
             ],
             [
              0.2222222222222222,
              "#7201a8"
             ],
             [
              0.3333333333333333,
              "#9c179e"
             ],
             [
              0.4444444444444444,
              "#bd3786"
             ],
             [
              0.5555555555555556,
              "#d8576b"
             ],
             [
              0.6666666666666666,
              "#ed7953"
             ],
             [
              0.7777777777777778,
              "#fb9f3a"
             ],
             [
              0.8888888888888888,
              "#fdca26"
             ],
             [
              1,
              "#f0f921"
             ]
            ],
            "type": "heatmap"
           }
          ],
          "histogram": [
           {
            "marker": {
             "pattern": {
              "fillmode": "overlay",
              "size": 10,
              "solidity": 0.2
             }
            },
            "type": "histogram"
           }
          ],
          "histogram2d": [
           {
            "colorbar": {
             "outlinewidth": 0,
             "ticks": ""
            },
            "colorscale": [
             [
              0,
              "#0d0887"
             ],
             [
              0.1111111111111111,
              "#46039f"
             ],
             [
              0.2222222222222222,
              "#7201a8"
             ],
             [
              0.3333333333333333,
              "#9c179e"
             ],
             [
              0.4444444444444444,
              "#bd3786"
             ],
             [
              0.5555555555555556,
              "#d8576b"
             ],
             [
              0.6666666666666666,
              "#ed7953"
             ],
             [
              0.7777777777777778,
              "#fb9f3a"
             ],
             [
              0.8888888888888888,
              "#fdca26"
             ],
             [
              1,
              "#f0f921"
             ]
            ],
            "type": "histogram2d"
           }
          ],
          "histogram2dcontour": [
           {
            "colorbar": {
             "outlinewidth": 0,
             "ticks": ""
            },
            "colorscale": [
             [
              0,
              "#0d0887"
             ],
             [
              0.1111111111111111,
              "#46039f"
             ],
             [
              0.2222222222222222,
              "#7201a8"
             ],
             [
              0.3333333333333333,
              "#9c179e"
             ],
             [
              0.4444444444444444,
              "#bd3786"
             ],
             [
              0.5555555555555556,
              "#d8576b"
             ],
             [
              0.6666666666666666,
              "#ed7953"
             ],
             [
              0.7777777777777778,
              "#fb9f3a"
             ],
             [
              0.8888888888888888,
              "#fdca26"
             ],
             [
              1,
              "#f0f921"
             ]
            ],
            "type": "histogram2dcontour"
           }
          ],
          "mesh3d": [
           {
            "colorbar": {
             "outlinewidth": 0,
             "ticks": ""
            },
            "type": "mesh3d"
           }
          ],
          "parcoords": [
           {
            "line": {
             "colorbar": {
              "outlinewidth": 0,
              "ticks": ""
             }
            },
            "type": "parcoords"
           }
          ],
          "pie": [
           {
            "automargin": true,
            "type": "pie"
           }
          ],
          "scatter": [
           {
            "fillpattern": {
             "fillmode": "overlay",
             "size": 10,
             "solidity": 0.2
            },
            "type": "scatter"
           }
          ],
          "scatter3d": [
           {
            "line": {
             "colorbar": {
              "outlinewidth": 0,
              "ticks": ""
             }
            },
            "marker": {
             "colorbar": {
              "outlinewidth": 0,
              "ticks": ""
             }
            },
            "type": "scatter3d"
           }
          ],
          "scattercarpet": [
           {
            "marker": {
             "colorbar": {
              "outlinewidth": 0,
              "ticks": ""
             }
            },
            "type": "scattercarpet"
           }
          ],
          "scattergeo": [
           {
            "marker": {
             "colorbar": {
              "outlinewidth": 0,
              "ticks": ""
             }
            },
            "type": "scattergeo"
           }
          ],
          "scattergl": [
           {
            "marker": {
             "colorbar": {
              "outlinewidth": 0,
              "ticks": ""
             }
            },
            "type": "scattergl"
           }
          ],
          "scattermap": [
           {
            "marker": {
             "colorbar": {
              "outlinewidth": 0,
              "ticks": ""
             }
            },
            "type": "scattermap"
           }
          ],
          "scattermapbox": [
           {
            "marker": {
             "colorbar": {
              "outlinewidth": 0,
              "ticks": ""
             }
            },
            "type": "scattermapbox"
           }
          ],
          "scatterpolar": [
           {
            "marker": {
             "colorbar": {
              "outlinewidth": 0,
              "ticks": ""
             }
            },
            "type": "scatterpolar"
           }
          ],
          "scatterpolargl": [
           {
            "marker": {
             "colorbar": {
              "outlinewidth": 0,
              "ticks": ""
             }
            },
            "type": "scatterpolargl"
           }
          ],
          "scatterternary": [
           {
            "marker": {
             "colorbar": {
              "outlinewidth": 0,
              "ticks": ""
             }
            },
            "type": "scatterternary"
           }
          ],
          "surface": [
           {
            "colorbar": {
             "outlinewidth": 0,
             "ticks": ""
            },
            "colorscale": [
             [
              0,
              "#0d0887"
             ],
             [
              0.1111111111111111,
              "#46039f"
             ],
             [
              0.2222222222222222,
              "#7201a8"
             ],
             [
              0.3333333333333333,
              "#9c179e"
             ],
             [
              0.4444444444444444,
              "#bd3786"
             ],
             [
              0.5555555555555556,
              "#d8576b"
             ],
             [
              0.6666666666666666,
              "#ed7953"
             ],
             [
              0.7777777777777778,
              "#fb9f3a"
             ],
             [
              0.8888888888888888,
              "#fdca26"
             ],
             [
              1,
              "#f0f921"
             ]
            ],
            "type": "surface"
           }
          ],
          "table": [
           {
            "cells": {
             "fill": {
              "color": "#EBF0F8"
             },
             "line": {
              "color": "white"
             }
            },
            "header": {
             "fill": {
              "color": "#C8D4E3"
             },
             "line": {
              "color": "white"
             }
            },
            "type": "table"
           }
          ]
         },
         "layout": {
          "annotationdefaults": {
           "arrowcolor": "#2a3f5f",
           "arrowhead": 0,
           "arrowwidth": 1
          },
          "autotypenumbers": "strict",
          "coloraxis": {
           "colorbar": {
            "outlinewidth": 0,
            "ticks": ""
           }
          },
          "colorscale": {
           "diverging": [
            [
             0,
             "#8e0152"
            ],
            [
             0.1,
             "#c51b7d"
            ],
            [
             0.2,
             "#de77ae"
            ],
            [
             0.3,
             "#f1b6da"
            ],
            [
             0.4,
             "#fde0ef"
            ],
            [
             0.5,
             "#f7f7f7"
            ],
            [
             0.6,
             "#e6f5d0"
            ],
            [
             0.7,
             "#b8e186"
            ],
            [
             0.8,
             "#7fbc41"
            ],
            [
             0.9,
             "#4d9221"
            ],
            [
             1,
             "#276419"
            ]
           ],
           "sequential": [
            [
             0,
             "#0d0887"
            ],
            [
             0.1111111111111111,
             "#46039f"
            ],
            [
             0.2222222222222222,
             "#7201a8"
            ],
            [
             0.3333333333333333,
             "#9c179e"
            ],
            [
             0.4444444444444444,
             "#bd3786"
            ],
            [
             0.5555555555555556,
             "#d8576b"
            ],
            [
             0.6666666666666666,
             "#ed7953"
            ],
            [
             0.7777777777777778,
             "#fb9f3a"
            ],
            [
             0.8888888888888888,
             "#fdca26"
            ],
            [
             1,
             "#f0f921"
            ]
           ],
           "sequentialminus": [
            [
             0,
             "#0d0887"
            ],
            [
             0.1111111111111111,
             "#46039f"
            ],
            [
             0.2222222222222222,
             "#7201a8"
            ],
            [
             0.3333333333333333,
             "#9c179e"
            ],
            [
             0.4444444444444444,
             "#bd3786"
            ],
            [
             0.5555555555555556,
             "#d8576b"
            ],
            [
             0.6666666666666666,
             "#ed7953"
            ],
            [
             0.7777777777777778,
             "#fb9f3a"
            ],
            [
             0.8888888888888888,
             "#fdca26"
            ],
            [
             1,
             "#f0f921"
            ]
           ]
          },
          "colorway": [
           "#636efa",
           "#EF553B",
           "#00cc96",
           "#ab63fa",
           "#FFA15A",
           "#19d3f3",
           "#FF6692",
           "#B6E880",
           "#FF97FF",
           "#FECB52"
          ],
          "font": {
           "color": "#2a3f5f"
          },
          "geo": {
           "bgcolor": "white",
           "lakecolor": "white",
           "landcolor": "#E5ECF6",
           "showlakes": true,
           "showland": true,
           "subunitcolor": "white"
          },
          "hoverlabel": {
           "align": "left"
          },
          "hovermode": "closest",
          "mapbox": {
           "style": "light"
          },
          "paper_bgcolor": "white",
          "plot_bgcolor": "#E5ECF6",
          "polar": {
           "angularaxis": {
            "gridcolor": "white",
            "linecolor": "white",
            "ticks": ""
           },
           "bgcolor": "#E5ECF6",
           "radialaxis": {
            "gridcolor": "white",
            "linecolor": "white",
            "ticks": ""
           }
          },
          "scene": {
           "xaxis": {
            "backgroundcolor": "#E5ECF6",
            "gridcolor": "white",
            "gridwidth": 2,
            "linecolor": "white",
            "showbackground": true,
            "ticks": "",
            "zerolinecolor": "white"
           },
           "yaxis": {
            "backgroundcolor": "#E5ECF6",
            "gridcolor": "white",
            "gridwidth": 2,
            "linecolor": "white",
            "showbackground": true,
            "ticks": "",
            "zerolinecolor": "white"
           },
           "zaxis": {
            "backgroundcolor": "#E5ECF6",
            "gridcolor": "white",
            "gridwidth": 2,
            "linecolor": "white",
            "showbackground": true,
            "ticks": "",
            "zerolinecolor": "white"
           }
          },
          "shapedefaults": {
           "line": {
            "color": "#2a3f5f"
           }
          },
          "ternary": {
           "aaxis": {
            "gridcolor": "white",
            "linecolor": "white",
            "ticks": ""
           },
           "baxis": {
            "gridcolor": "white",
            "linecolor": "white",
            "ticks": ""
           },
           "bgcolor": "#E5ECF6",
           "caxis": {
            "gridcolor": "white",
            "linecolor": "white",
            "ticks": ""
           }
          },
          "title": {
           "x": 0.05
          },
          "xaxis": {
           "automargin": true,
           "gridcolor": "white",
           "linecolor": "white",
           "ticks": "",
           "title": {
            "standoff": 15
           },
           "zerolinecolor": "white",
           "zerolinewidth": 2
          },
          "yaxis": {
           "automargin": true,
           "gridcolor": "white",
           "linecolor": "white",
           "ticks": "",
           "title": {
            "standoff": 15
           },
           "zerolinecolor": "white",
           "zerolinewidth": 2
          }
         }
        },
        "title": {
         "font": {
          "size": 16
         },
         "text": "Model Performance Comparison Across LegalBench Tasks<br>gemma-3-12b-it vs Mistral-7B-Instruct-v0.3"
        },
        "width": 1740,
        "xaxis": {
         "anchor": "y",
         "domain": [
          0,
          1
         ],
         "tickangle": -45,
         "title": {
          "font": {
           "size": 14
          },
          "text": "Task"
         }
        },
        "yaxis": {
         "anchor": "x",
         "domain": [
          0,
          1
         ],
         "title": {
          "font": {
           "size": 14
          },
          "text": "Balanced Accuracy"
         }
        }
       }
      }
     },
     "metadata": {},
     "output_type": "display_data"
    }
   ],
   "source": [
    "# Create grouped bar chart comparing the two models across tasks\n",
    "# Melt the dataframe to have model as a column for plotting\n",
    "plot_data = pd.melt(\n",
    "    comparison_df, \n",
    "    id_vars=['task'], \n",
    "    value_vars=['gemma-3-12b-it', 'Mistral-7B-Instruct-v0.3'],\n",
    "    var_name='model', \n",
    "    value_name='balanced_accuracy'\n",
    ")\n",
    "\n",
    "# Remove rows with zero values (no results)\n",
    "plot_data = plot_data[plot_data['balanced_accuracy'] > 0]\n",
    "\n",
    "# Sort tasks by average performance for better visualization\n",
    "task_avg = plot_data.groupby('task')['balanced_accuracy'].mean().sort_values(ascending=True)\n",
    "plot_data['task'] = pd.Categorical(plot_data['task'], categories=task_avg.index, ordered=True)\n",
    "plot_data = plot_data.sort_values('task')\n",
    "\n",
    "fig = px.bar(\n",
    "    plot_data,\n",
    "    x='task',\n",
    "    y='balanced_accuracy',\n",
    "    color='model',\n",
    "    barmode='group',\n",
    "    title='Model Performance Comparison Across LegalBench Tasks<br>gemma-3-12b-it vs Mistral-7B-Instruct-v0.3',\n",
    "    labels={'balanced_accuracy': 'Balanced Accuracy', 'task': 'Task'},\n",
    "    color_discrete_map={\n",
    "        'gemma-3-12b-it': '#1f77b4',\n",
    "        'Mistral-7B-Instruct-v0.3': '#ff7f0e'\n",
    "    }\n",
    ")\n",
    "\n",
    "# Customize layout\n",
    "fig.update_layout(\n",
    "    height=600,\n",
    "    width=max(1200, len(task_avg) * 60),\n",
    "    font=dict(size=11),\n",
    "    title_font_size=16,\n",
    "    xaxis_title_font_size=14,\n",
    "    yaxis_title_font_size=14,\n",
    "    xaxis_tickangle=-45,\n",
    "    legend=dict(\n",
    "        orientation=\"h\",\n",
    "        yanchor=\"bottom\",\n",
    "        y=1.02,\n",
    "        xanchor=\"right\",\n",
    "        x=1\n",
    "    )\n",
    ")\n",
    "\n",
    "fig.show()"
   ]
  },
  {
   "cell_type": "code",
   "execution_count": 29,
   "metadata": {},
   "outputs": [
    {
     "data": {
      "application/vnd.plotly.v1+json": {
       "config": {
        "plotlyServerURL": "https://plot.ly"
       },
       "data": [
        {
         "marker": {
          "color": [
           "#ff4d4d",
           "#ff4d4d",
           "#ff4d4d",
           "#ff4d4d",
           "#ff4d4d",
           "#ff4d4d",
           "#ff4d4d",
           "#ff4d4d",
           "#4dff4d",
           "#4dff4d",
           "#4dff4d",
           "#4dff4d",
           "#4dff4d",
           "#4dff4d",
           "#4dff4d",
           "#4dff4d",
           "#4dff4d",
           "#4dff4d",
           "#4dff4d",
           "#4dff4d",
           "#4dff4d",
           "#4dff4d",
           "#4dff4d",
           "#4dff4d",
           "#4dff4d",
           "#4dff4d",
           "#4dff4d",
           "#4dff4d",
           "#4dff4d"
          ]
         },
         "name": "Performance Difference",
         "orientation": "h",
         "text": [
          "-0.348",
          "-0.125",
          "-0.109",
          "-0.019",
          "-0.017",
          "-0.016",
          "-0.015",
          "-0.010",
          "0.000",
          "0.000",
          "0.000",
          "0.002",
          "0.003",
          "0.011",
          "0.014",
          "0.028",
          "0.042",
          "0.049",
          "0.051",
          "0.052",
          "0.052",
          "0.054",
          "0.072",
          "0.082",
          "0.102",
          "0.110",
          "0.228",
          "0.270",
          "0.373"
         ],
         "textposition": "outside",
         "type": "bar",
         "x": {
          "bdata": "6jZeF1dI1r8AAAAAAADAv+wb1r5h7bu/IDuxEzuxk7+gJbP67fWQvwAAAAAAAJC/gJTmlwW8jr9Av1Kg1q+EvwAAAAAAAAAAAAAAAAAAAAAAgKcdgKc9PwDAzO552WI/AAWoVv8qZT9AX/EVX/GFPwCJ1POLtow/YKF01YGbnD/wWIEw0o6lPyBNbMk/Eqk/WKM1WqM1qj/AY2pg75iqP+CiuGAN4Ko/AMSNSQOIqz+QJk2aNGmyP8RyTyMs97Q/MLrooosuuj+osPeUIyK8P7xpi9aQJc0/VBRFURRF0T/aN6x9w9rXPw==",
          "dtype": "f8"
         },
         "y": [
          "ssla_plaintiff",
          "maud_general_economic_and_financial_conditions_subject_to_disproportionate_impact_modifier",
          "maud_ability_to_consummate_concept_is_subject_to_mae_carveouts",
          "maud_pandemic_or_other_public_health_event_specific_reference_to_pandemic-related_governmental_responses_or_measures",
          "maud_relational_language_(mae)_applies_to",
          "cuad_ip_ownership_assignment",
          "privacy_policy_entailment",
          "cuad_affiliate_license-licensee",
          "definition_extraction",
          "cuad_unlimited-all-you-can-eat-license",
          "maud_changes_in_gaap_or_other_accounting_principles__subject_to_disproportionate_impact_modifier",
          "hearsay",
          "cuad_revenue-profit_sharing",
          "cuad_irrevocable_or_perpetual_license",
          "overruling",
          "cuad_license_grant",
          "abercrombie",
          "maud_pandemic_or_other_public_health_event__subject_to_disproportionate_impact_modifier",
          "maud_fls_(mae)_standard",
          "cuad_covenant_not_to_sue",
          "international_citizenship_questions",
          "cuad_cap_on_liability",
          "cuad_governing_law",
          "maud_change_in_law__subject_to_disproportionate_impact_modifier",
          "cuad_affiliate_license-licensor",
          "definition_classification",
          "opp115_international_and_specific_audiences",
          "textualism_tool_dictionaries",
          "opp115_do_not_track"
         ]
        }
       ],
       "layout": {
        "font": {
         "size": 11
        },
        "height": 725,
        "shapes": [
         {
          "line": {
           "color": "black",
           "dash": "dash"
          },
          "opacity": 0.5,
          "type": "line",
          "x0": 0,
          "x1": 0,
          "xref": "x",
          "y0": 0,
          "y1": 1,
          "yref": "y domain"
         }
        ],
        "showlegend": false,
        "template": {
         "data": {
          "bar": [
           {
            "error_x": {
             "color": "#2a3f5f"
            },
            "error_y": {
             "color": "#2a3f5f"
            },
            "marker": {
             "line": {
              "color": "#E5ECF6",
              "width": 0.5
             },
             "pattern": {
              "fillmode": "overlay",
              "size": 10,
              "solidity": 0.2
             }
            },
            "type": "bar"
           }
          ],
          "barpolar": [
           {
            "marker": {
             "line": {
              "color": "#E5ECF6",
              "width": 0.5
             },
             "pattern": {
              "fillmode": "overlay",
              "size": 10,
              "solidity": 0.2
             }
            },
            "type": "barpolar"
           }
          ],
          "carpet": [
           {
            "aaxis": {
             "endlinecolor": "#2a3f5f",
             "gridcolor": "white",
             "linecolor": "white",
             "minorgridcolor": "white",
             "startlinecolor": "#2a3f5f"
            },
            "baxis": {
             "endlinecolor": "#2a3f5f",
             "gridcolor": "white",
             "linecolor": "white",
             "minorgridcolor": "white",
             "startlinecolor": "#2a3f5f"
            },
            "type": "carpet"
           }
          ],
          "choropleth": [
           {
            "colorbar": {
             "outlinewidth": 0,
             "ticks": ""
            },
            "type": "choropleth"
           }
          ],
          "contour": [
           {
            "colorbar": {
             "outlinewidth": 0,
             "ticks": ""
            },
            "colorscale": [
             [
              0,
              "#0d0887"
             ],
             [
              0.1111111111111111,
              "#46039f"
             ],
             [
              0.2222222222222222,
              "#7201a8"
             ],
             [
              0.3333333333333333,
              "#9c179e"
             ],
             [
              0.4444444444444444,
              "#bd3786"
             ],
             [
              0.5555555555555556,
              "#d8576b"
             ],
             [
              0.6666666666666666,
              "#ed7953"
             ],
             [
              0.7777777777777778,
              "#fb9f3a"
             ],
             [
              0.8888888888888888,
              "#fdca26"
             ],
             [
              1,
              "#f0f921"
             ]
            ],
            "type": "contour"
           }
          ],
          "contourcarpet": [
           {
            "colorbar": {
             "outlinewidth": 0,
             "ticks": ""
            },
            "type": "contourcarpet"
           }
          ],
          "heatmap": [
           {
            "colorbar": {
             "outlinewidth": 0,
             "ticks": ""
            },
            "colorscale": [
             [
              0,
              "#0d0887"
             ],
             [
              0.1111111111111111,
              "#46039f"
             ],
             [
              0.2222222222222222,
              "#7201a8"
             ],
             [
              0.3333333333333333,
              "#9c179e"
             ],
             [
              0.4444444444444444,
              "#bd3786"
             ],
             [
              0.5555555555555556,
              "#d8576b"
             ],
             [
              0.6666666666666666,
              "#ed7953"
             ],
             [
              0.7777777777777778,
              "#fb9f3a"
             ],
             [
              0.8888888888888888,
              "#fdca26"
             ],
             [
              1,
              "#f0f921"
             ]
            ],
            "type": "heatmap"
           }
          ],
          "histogram": [
           {
            "marker": {
             "pattern": {
              "fillmode": "overlay",
              "size": 10,
              "solidity": 0.2
             }
            },
            "type": "histogram"
           }
          ],
          "histogram2d": [
           {
            "colorbar": {
             "outlinewidth": 0,
             "ticks": ""
            },
            "colorscale": [
             [
              0,
              "#0d0887"
             ],
             [
              0.1111111111111111,
              "#46039f"
             ],
             [
              0.2222222222222222,
              "#7201a8"
             ],
             [
              0.3333333333333333,
              "#9c179e"
             ],
             [
              0.4444444444444444,
              "#bd3786"
             ],
             [
              0.5555555555555556,
              "#d8576b"
             ],
             [
              0.6666666666666666,
              "#ed7953"
             ],
             [
              0.7777777777777778,
              "#fb9f3a"
             ],
             [
              0.8888888888888888,
              "#fdca26"
             ],
             [
              1,
              "#f0f921"
             ]
            ],
            "type": "histogram2d"
           }
          ],
          "histogram2dcontour": [
           {
            "colorbar": {
             "outlinewidth": 0,
             "ticks": ""
            },
            "colorscale": [
             [
              0,
              "#0d0887"
             ],
             [
              0.1111111111111111,
              "#46039f"
             ],
             [
              0.2222222222222222,
              "#7201a8"
             ],
             [
              0.3333333333333333,
              "#9c179e"
             ],
             [
              0.4444444444444444,
              "#bd3786"
             ],
             [
              0.5555555555555556,
              "#d8576b"
             ],
             [
              0.6666666666666666,
              "#ed7953"
             ],
             [
              0.7777777777777778,
              "#fb9f3a"
             ],
             [
              0.8888888888888888,
              "#fdca26"
             ],
             [
              1,
              "#f0f921"
             ]
            ],
            "type": "histogram2dcontour"
           }
          ],
          "mesh3d": [
           {
            "colorbar": {
             "outlinewidth": 0,
             "ticks": ""
            },
            "type": "mesh3d"
           }
          ],
          "parcoords": [
           {
            "line": {
             "colorbar": {
              "outlinewidth": 0,
              "ticks": ""
             }
            },
            "type": "parcoords"
           }
          ],
          "pie": [
           {
            "automargin": true,
            "type": "pie"
           }
          ],
          "scatter": [
           {
            "fillpattern": {
             "fillmode": "overlay",
             "size": 10,
             "solidity": 0.2
            },
            "type": "scatter"
           }
          ],
          "scatter3d": [
           {
            "line": {
             "colorbar": {
              "outlinewidth": 0,
              "ticks": ""
             }
            },
            "marker": {
             "colorbar": {
              "outlinewidth": 0,
              "ticks": ""
             }
            },
            "type": "scatter3d"
           }
          ],
          "scattercarpet": [
           {
            "marker": {
             "colorbar": {
              "outlinewidth": 0,
              "ticks": ""
             }
            },
            "type": "scattercarpet"
           }
          ],
          "scattergeo": [
           {
            "marker": {
             "colorbar": {
              "outlinewidth": 0,
              "ticks": ""
             }
            },
            "type": "scattergeo"
           }
          ],
          "scattergl": [
           {
            "marker": {
             "colorbar": {
              "outlinewidth": 0,
              "ticks": ""
             }
            },
            "type": "scattergl"
           }
          ],
          "scattermap": [
           {
            "marker": {
             "colorbar": {
              "outlinewidth": 0,
              "ticks": ""
             }
            },
            "type": "scattermap"
           }
          ],
          "scattermapbox": [
           {
            "marker": {
             "colorbar": {
              "outlinewidth": 0,
              "ticks": ""
             }
            },
            "type": "scattermapbox"
           }
          ],
          "scatterpolar": [
           {
            "marker": {
             "colorbar": {
              "outlinewidth": 0,
              "ticks": ""
             }
            },
            "type": "scatterpolar"
           }
          ],
          "scatterpolargl": [
           {
            "marker": {
             "colorbar": {
              "outlinewidth": 0,
              "ticks": ""
             }
            },
            "type": "scatterpolargl"
           }
          ],
          "scatterternary": [
           {
            "marker": {
             "colorbar": {
              "outlinewidth": 0,
              "ticks": ""
             }
            },
            "type": "scatterternary"
           }
          ],
          "surface": [
           {
            "colorbar": {
             "outlinewidth": 0,
             "ticks": ""
            },
            "colorscale": [
             [
              0,
              "#0d0887"
             ],
             [
              0.1111111111111111,
              "#46039f"
             ],
             [
              0.2222222222222222,
              "#7201a8"
             ],
             [
              0.3333333333333333,
              "#9c179e"
             ],
             [
              0.4444444444444444,
              "#bd3786"
             ],
             [
              0.5555555555555556,
              "#d8576b"
             ],
             [
              0.6666666666666666,
              "#ed7953"
             ],
             [
              0.7777777777777778,
              "#fb9f3a"
             ],
             [
              0.8888888888888888,
              "#fdca26"
             ],
             [
              1,
              "#f0f921"
             ]
            ],
            "type": "surface"
           }
          ],
          "table": [
           {
            "cells": {
             "fill": {
              "color": "#EBF0F8"
             },
             "line": {
              "color": "white"
             }
            },
            "header": {
             "fill": {
              "color": "#C8D4E3"
             },
             "line": {
              "color": "white"
             }
            },
            "type": "table"
           }
          ]
         },
         "layout": {
          "annotationdefaults": {
           "arrowcolor": "#2a3f5f",
           "arrowhead": 0,
           "arrowwidth": 1
          },
          "autotypenumbers": "strict",
          "coloraxis": {
           "colorbar": {
            "outlinewidth": 0,
            "ticks": ""
           }
          },
          "colorscale": {
           "diverging": [
            [
             0,
             "#8e0152"
            ],
            [
             0.1,
             "#c51b7d"
            ],
            [
             0.2,
             "#de77ae"
            ],
            [
             0.3,
             "#f1b6da"
            ],
            [
             0.4,
             "#fde0ef"
            ],
            [
             0.5,
             "#f7f7f7"
            ],
            [
             0.6,
             "#e6f5d0"
            ],
            [
             0.7,
             "#b8e186"
            ],
            [
             0.8,
             "#7fbc41"
            ],
            [
             0.9,
             "#4d9221"
            ],
            [
             1,
             "#276419"
            ]
           ],
           "sequential": [
            [
             0,
             "#0d0887"
            ],
            [
             0.1111111111111111,
             "#46039f"
            ],
            [
             0.2222222222222222,
             "#7201a8"
            ],
            [
             0.3333333333333333,
             "#9c179e"
            ],
            [
             0.4444444444444444,
             "#bd3786"
            ],
            [
             0.5555555555555556,
             "#d8576b"
            ],
            [
             0.6666666666666666,
             "#ed7953"
            ],
            [
             0.7777777777777778,
             "#fb9f3a"
            ],
            [
             0.8888888888888888,
             "#fdca26"
            ],
            [
             1,
             "#f0f921"
            ]
           ],
           "sequentialminus": [
            [
             0,
             "#0d0887"
            ],
            [
             0.1111111111111111,
             "#46039f"
            ],
            [
             0.2222222222222222,
             "#7201a8"
            ],
            [
             0.3333333333333333,
             "#9c179e"
            ],
            [
             0.4444444444444444,
             "#bd3786"
            ],
            [
             0.5555555555555556,
             "#d8576b"
            ],
            [
             0.6666666666666666,
             "#ed7953"
            ],
            [
             0.7777777777777778,
             "#fb9f3a"
            ],
            [
             0.8888888888888888,
             "#fdca26"
            ],
            [
             1,
             "#f0f921"
            ]
           ]
          },
          "colorway": [
           "#636efa",
           "#EF553B",
           "#00cc96",
           "#ab63fa",
           "#FFA15A",
           "#19d3f3",
           "#FF6692",
           "#B6E880",
           "#FF97FF",
           "#FECB52"
          ],
          "font": {
           "color": "#2a3f5f"
          },
          "geo": {
           "bgcolor": "white",
           "lakecolor": "white",
           "landcolor": "#E5ECF6",
           "showlakes": true,
           "showland": true,
           "subunitcolor": "white"
          },
          "hoverlabel": {
           "align": "left"
          },
          "hovermode": "closest",
          "mapbox": {
           "style": "light"
          },
          "paper_bgcolor": "white",
          "plot_bgcolor": "#E5ECF6",
          "polar": {
           "angularaxis": {
            "gridcolor": "white",
            "linecolor": "white",
            "ticks": ""
           },
           "bgcolor": "#E5ECF6",
           "radialaxis": {
            "gridcolor": "white",
            "linecolor": "white",
            "ticks": ""
           }
          },
          "scene": {
           "xaxis": {
            "backgroundcolor": "#E5ECF6",
            "gridcolor": "white",
            "gridwidth": 2,
            "linecolor": "white",
            "showbackground": true,
            "ticks": "",
            "zerolinecolor": "white"
           },
           "yaxis": {
            "backgroundcolor": "#E5ECF6",
            "gridcolor": "white",
            "gridwidth": 2,
            "linecolor": "white",
            "showbackground": true,
            "ticks": "",
            "zerolinecolor": "white"
           },
           "zaxis": {
            "backgroundcolor": "#E5ECF6",
            "gridcolor": "white",
            "gridwidth": 2,
            "linecolor": "white",
            "showbackground": true,
            "ticks": "",
            "zerolinecolor": "white"
           }
          },
          "shapedefaults": {
           "line": {
            "color": "#2a3f5f"
           }
          },
          "ternary": {
           "aaxis": {
            "gridcolor": "white",
            "linecolor": "white",
            "ticks": ""
           },
           "baxis": {
            "gridcolor": "white",
            "linecolor": "white",
            "ticks": ""
           },
           "bgcolor": "#E5ECF6",
           "caxis": {
            "gridcolor": "white",
            "linecolor": "white",
            "ticks": ""
           }
          },
          "title": {
           "x": 0.05
          },
          "xaxis": {
           "automargin": true,
           "gridcolor": "white",
           "linecolor": "white",
           "ticks": "",
           "title": {
            "standoff": 15
           },
           "zerolinecolor": "white",
           "zerolinewidth": 2
          },
          "yaxis": {
           "automargin": true,
           "gridcolor": "white",
           "linecolor": "white",
           "ticks": "",
           "title": {
            "standoff": 15
           },
           "zerolinecolor": "white",
           "zerolinewidth": 2
          }
         }
        },
        "title": {
         "font": {
          "size": 14
         },
         "text": "Performance Difference: gemma-3-12b-it vs Mistral-7B-Instruct-v0.3<br><span style=\"font-size:12px\">Green: gemma-3-12b-it better | Red: Mistral-7B-Instruct-v0.3 better</span>"
        },
        "width": 800,
        "xaxis": {
         "title": {
          "text": "Balanced Accuracy Difference (gemma - Mistral)"
         }
        },
        "yaxis": {
         "title": {
          "text": "Task"
         }
        }
       }
      }
     },
     "metadata": {},
     "output_type": "display_data"
    }
   ],
   "source": [
    "# Create a difference chart showing which model performs better on each task\n",
    "# Only include tasks where both models have results\n",
    "both_models_df = comparison_df[comparison_df['has_both']].copy()\n",
    "\n",
    "if len(both_models_df) > 0:\n",
    "    # Sort by difference for better visualization\n",
    "    both_models_df = both_models_df.sort_values('difference', ascending=True)\n",
    "    \n",
    "    # Create color based on which model is better\n",
    "    colors = ['#ff4d4d' if diff < 0 else '#4dff4d' for diff in both_models_df['difference']]\n",
    "    \n",
    "    fig = go.Figure()\n",
    "    \n",
    "    fig.add_trace(go.Bar(\n",
    "        x=both_models_df['difference'],\n",
    "        y=both_models_df['task'],\n",
    "        orientation='h',\n",
    "        marker_color=colors,\n",
    "        text=[f'{diff:.3f}' for diff in both_models_df['difference']],\n",
    "        textposition='outside',\n",
    "        name='Performance Difference'\n",
    "    ))\n",
    "    \n",
    "    fig.update_layout(\n",
    "        title='Performance Difference: gemma-3-12b-it vs Mistral-7B-Instruct-v0.3<br><span style=\"font-size:12px\">Green: gemma-3-12b-it better | Red: Mistral-7B-Instruct-v0.3 better</span>',\n",
    "        xaxis_title='Balanced Accuracy Difference (gemma - Mistral)',\n",
    "        yaxis_title='Task',\n",
    "        height=max(400, len(both_models_df) * 25),\n",
    "        width=800,\n",
    "        font=dict(size=11),\n",
    "        title_font_size=14,\n",
    "        showlegend=False\n",
    "    )\n",
    "    \n",
    "    # Add vertical line at x=0\n",
    "    fig.add_vline(x=0, line_dash=\"dash\", line_color=\"black\", opacity=0.5)\n",
    "    \n",
    "    fig.show()\n",
    "else:\n",
    "    print(\"No tasks found where both models have results for direct comparison.\")"
   ]
  },
  {
   "cell_type": "code",
   "execution_count": 30,
   "metadata": {},
   "outputs": [
    {
     "name": "stdout",
     "output_type": "stream",
     "text": [
      "=== Model Comparison Summary ===\n",
      "\n",
      "gemma-3-12b-it:\n",
      "  - Number of tasks: 29\n",
      "  - Mean balanced accuracy: 0.7570\n",
      "  - Std deviation: 0.2255\n",
      "  - Best task: cuad_governing_law (0.9863)\n",
      "  - Worst task: maud_fls_(mae)_standard (0.3012)\n",
      "\n",
      "Mistral-7B-Instruct-v0.3:\n",
      "  - Number of tasks: 29\n",
      "  - Mean balanced accuracy: 0.7247\n",
      "  - Std deviation: 0.2023\n",
      "  - Best task: cuad_irrevocable_or_perpetual_license (0.9750)\n",
      "  - Worst task: maud_fls_(mae)_standard (0.2500)\n",
      "\n",
      "=== Head-to-Head Comparison (29 tasks) ===\n",
      "gemma-3-12b-it wins: 19\n",
      "Mistral-7B-Instruct-v0.3 wins: 8\n",
      "Ties: 2\n",
      "Average difference (gemma - mistral): 0.0323\n",
      "Biggest gemma advantage: opp115_do_not_track (+0.3727)\n",
      "Biggest mistral advantage: ssla_plaintiff (-0.3482)\n"
     ]
    }
   ],
   "source": [
    "# Summary statistics for the model comparison\n",
    "print(\"=== Model Comparison Summary ===\\n\")\n",
    "\n",
    "# Overall performance\n",
    "gemma_results = df[df['model'] == 'gemma-3-12b-it']\n",
    "mistral_results = df[df['model'] == 'Mistral-7B-Instruct-v0.3']\n",
    "\n",
    "print(f\"gemma-3-12b-it:\")\n",
    "print(f\"  - Number of tasks: {len(gemma_results)}\")\n",
    "print(f\"  - Mean balanced accuracy: {gemma_results['balanced_accuracy'].mean():.4f}\")\n",
    "print(f\"  - Std deviation: {gemma_results['balanced_accuracy'].std():.4f}\")\n",
    "print(f\"  - Best task: {gemma_results.loc[gemma_results['balanced_accuracy'].idxmax(), 'task']} ({gemma_results['balanced_accuracy'].max():.4f})\")\n",
    "print(f\"  - Worst task: {gemma_results.loc[gemma_results['balanced_accuracy'].idxmin(), 'task']} ({gemma_results['balanced_accuracy'].min():.4f})\")\n",
    "\n",
    "print(f\"\\nMistral-7B-Instruct-v0.3:\")\n",
    "print(f\"  - Number of tasks: {len(mistral_results)}\")\n",
    "print(f\"  - Mean balanced accuracy: {mistral_results['balanced_accuracy'].mean():.4f}\")\n",
    "print(f\"  - Std deviation: {mistral_results['balanced_accuracy'].std():.4f}\")\n",
    "print(f\"  - Best task: {mistral_results.loc[mistral_results['balanced_accuracy'].idxmax(), 'task']} ({mistral_results['balanced_accuracy'].max():.4f})\")\n",
    "print(f\"  - Worst task: {mistral_results.loc[mistral_results['balanced_accuracy'].idxmin(), 'task']} ({mistral_results['balanced_accuracy'].min():.4f})\")\n",
    "\n",
    "# Head-to-head comparison\n",
    "if len(both_models_df) > 0:\n",
    "    print(f\"\\n=== Head-to-Head Comparison ({len(both_models_df)} tasks) ===\")\n",
    "    gemma_wins = (both_models_df['difference'] > 0).sum()\n",
    "    mistral_wins = (both_models_df['difference'] < 0).sum()\n",
    "    ties = (both_models_df['difference'] == 0).sum()\n",
    "    \n",
    "    print(f\"gemma-3-12b-it wins: {gemma_wins}\")\n",
    "    print(f\"Mistral-7B-Instruct-v0.3 wins: {mistral_wins}\")\n",
    "    print(f\"Ties: {ties}\")\n",
    "    print(f\"Average difference (gemma - mistral): {both_models_df['difference'].mean():.4f}\")\n",
    "    \n",
    "    if gemma_wins > 0:\n",
    "        biggest_gemma_win = both_models_df.loc[both_models_df['difference'].idxmax()]\n",
    "        print(f\"Biggest gemma advantage: {biggest_gemma_win['task']} (+{biggest_gemma_win['difference']:.4f})\")\n",
    "    \n",
    "    if mistral_wins > 0:\n",
    "        biggest_mistral_win = both_models_df.loc[both_models_df['difference'].idxmin()]\n",
    "        print(f\"Biggest mistral advantage: {biggest_mistral_win['task']} ({biggest_mistral_win['difference']:.4f})\")"
   ]
  },
  {
   "cell_type": "markdown",
   "metadata": {},
   "source": [
    "## Abercrombie Task Analysis - All Models\n",
    "\n",
    "Now let's look at all models' performance specifically on the Abercrombie trademark classification task."
   ]
  },
  {
   "cell_type": "code",
   "execution_count": 31,
   "metadata": {},
   "outputs": [
    {
     "name": "stdout",
     "output_type": "stream",
     "text": [
      "Loaded 17 abercrombie results\n",
      "\n",
      "First few abercrombie results:\n",
      "                      model  balanced_accuracy dataset_name  \\\n",
      "0            gemma-3-12b-it           0.631579  abercrombie   \n",
      "1             gemma-3-4b-it           0.389474  abercrombie   \n",
      "2                SmolLM3-3B           0.410526  abercrombie   \n",
      "3    hplt2c_eng_checkpoints           0.189474  abercrombie   \n",
      "4  Mistral-7B-Instruct-v0.3           0.589474  abercrombie   \n",
      "\n",
      "                                                file  \n",
      "0  legalbench-abercrombie-gemma-3-12b-it_eng_Latn...  \n",
      "1  legalbench-abercrombie-gemma-3-4b-it_eng_Latn....  \n",
      "2    legalbench-abercrombie-SmolLM3-3B_eng_Latn.json  \n",
      "3  legalbench-abercrombie-hplt2c_eng_checkpoints_...  \n",
      "4  legalbench-abercrombie-Mistral-7B-Instruct-v0....  \n"
     ]
    }
   ],
   "source": [
    "# Load abercrombie results for all models\n",
    "abercrombie_results = []\n",
    "\n",
    "for json_file in results_dir.glob('*.json'):\n",
    "    try:\n",
    "        with open(json_file, 'r') as f:\n",
    "            data = json.load(f)\n",
    "            \n",
    "        # Filter for abercrombie dataset only\n",
    "        if ('dataset' in data and \n",
    "            'name' in data['dataset'] and \n",
    "            'abercrombie' in data['dataset']['name'].lower() and\n",
    "            'model' in data and \n",
    "            'balanced_accuracy' in data):\n",
    "            \n",
    "            # Clean model name by removing organization prefix\n",
    "            model_name = data['model']\n",
    "            if '/' in model_name:\n",
    "                model_name = model_name.split('/')[-1]\n",
    "            \n",
    "            abercrombie_results.append({\n",
    "                'model': model_name,\n",
    "                'balanced_accuracy': data['balanced_accuracy'],\n",
    "                'dataset_name': data['dataset']['name'],\n",
    "                'file': json_file.name\n",
    "            })\n",
    "    except Exception as e:\n",
    "        print(f\"Error processing {json_file}: {e}\")\n",
    "\n",
    "print(f\"Loaded {len(abercrombie_results)} abercrombie results\")\n",
    "\n",
    "# Create DataFrame for abercrombie\n",
    "abercrombie_df = pd.DataFrame(abercrombie_results)\n",
    "print(\"\\nFirst few abercrombie results:\")\n",
    "print(abercrombie_df.head())"
   ]
  },
  {
   "cell_type": "code",
   "execution_count": 32,
   "metadata": {},
   "outputs": [
    {
     "name": "stdout",
     "output_type": "stream",
     "text": [
      "Abercrombie model performance summary:\n",
      "                       model  mean_balanced_accuracy  num_evaluations\n",
      "0               EuroLLM-1.7B                0.168421                1\n",
      "16    hplt2c_eng_checkpoints                0.189474                1\n",
      "1                 EuroLLM-9B                0.252632                1\n",
      "13             gemma-3-1b-pt                0.263158                1\n",
      "12             gemma-3-1b-it                0.284211                1\n",
      "15             gemma-3-4b-pt                0.305263                1\n",
      "14             gemma-3-4b-it                0.389474                1\n",
      "5   OLMo-2-1124-13B-Instruct                0.400000                1\n",
      "8                 SmolLM3-3B                0.410526                1\n",
      "9            SmolLM3-3B-Base                0.421053                1\n",
      "4            OLMo-2-1124-13B                0.442105                1\n",
      "6             OLMo-2-1124-7B                0.526316                1\n",
      "3            Mistral-7B-v0.1                0.536842                1\n",
      "11            gemma-3-12b-pt                0.536842                1\n",
      "7    OLMo-2-1124-7B-Instruct                0.557895                1\n",
      "2   Mistral-7B-Instruct-v0.3                0.589474                1\n",
      "10            gemma-3-12b-it                0.631579                1\n"
     ]
    }
   ],
   "source": [
    "# Group by model and calculate mean balanced accuracy for abercrombie\n",
    "abercrombie_scores = abercrombie_df.groupby('model')['balanced_accuracy'].agg(['mean', 'count']).reset_index()\n",
    "abercrombie_scores.columns = ['model', 'mean_balanced_accuracy', 'num_evaluations']\n",
    "abercrombie_scores = abercrombie_scores.sort_values('mean_balanced_accuracy', ascending=True)\n",
    "\n",
    "print(\"Abercrombie model performance summary:\")\n",
    "print(abercrombie_scores)"
   ]
  },
  {
   "cell_type": "code",
   "execution_count": 33,
   "metadata": {},
   "outputs": [
    {
     "data": {
      "application/vnd.plotly.v1+json": {
       "config": {
        "plotlyServerURL": "https://plot.ly"
       },
       "data": [
        {
         "hovertemplate": "Balanced Accuracy=%{marker.color}<br>Model=%{y}<br>text=%{text}<extra></extra>",
         "legendgroup": "",
         "marker": {
          "color": {
           "bdata": "7ViBMNKOxT8LhJF2rEDIP7ICYaQdK9A/eQ3lNZTX0D8II+1YgTDSP5Y49XtuidM/0o4VCCPt2D+amZmZmZnZP2CkHSsQRto/KK+hvIby2j+2xKnfc0vcP3oN5TWU1+A/3RKnfs8t4T/dEqd+zy3hP6QdKxBG2uE/zy1x6vfc4j9eQ3kN5TXkPw==",
           "dtype": "f8"
          },
          "coloraxis": "coloraxis",
          "pattern": {
           "shape": ""
          }
         },
         "name": "",
         "orientation": "h",
         "showlegend": false,
         "text": [
          "0.168 (1 evals)",
          "0.189 (1 evals)",
          "0.253 (1 evals)",
          "0.263 (1 evals)",
          "0.284 (1 evals)",
          "0.305 (1 evals)",
          "0.389 (1 evals)",
          "0.400 (1 evals)",
          "0.411 (1 evals)",
          "0.421 (1 evals)",
          "0.442 (1 evals)",
          "0.526 (1 evals)",
          "0.537 (1 evals)",
          "0.537 (1 evals)",
          "0.558 (1 evals)",
          "0.589 (1 evals)",
          "0.632 (1 evals)"
         ],
         "textposition": "outside",
         "type": "bar",
         "x": {
          "bdata": "7ViBMNKOxT8LhJF2rEDIP7ICYaQdK9A/eQ3lNZTX0D8II+1YgTDSP5Y49XtuidM/0o4VCCPt2D+amZmZmZnZP2CkHSsQRto/KK+hvIby2j+2xKnfc0vcP3oN5TWU1+A/3RKnfs8t4T/dEqd+zy3hP6QdKxBG2uE/zy1x6vfc4j9eQ3kN5TXkPw==",
          "dtype": "f8"
         },
         "xaxis": "x",
         "y": [
          "EuroLLM-1.7B",
          "hplt2c_eng_checkpoints",
          "EuroLLM-9B",
          "gemma-3-1b-pt",
          "gemma-3-1b-it",
          "gemma-3-4b-pt",
          "gemma-3-4b-it",
          "OLMo-2-1124-13B-Instruct",
          "SmolLM3-3B",
          "SmolLM3-3B-Base",
          "OLMo-2-1124-13B",
          "OLMo-2-1124-7B",
          "Mistral-7B-v0.1",
          "gemma-3-12b-pt",
          "OLMo-2-1124-7B-Instruct",
          "Mistral-7B-Instruct-v0.3",
          "gemma-3-12b-it"
         ],
         "yaxis": "y"
        }
       ],
       "layout": {
        "barmode": "relative",
        "coloraxis": {
         "colorbar": {
          "title": {
           "text": "Balanced Accuracy"
          }
         },
         "colorscale": [
          [
           0,
           "#440154"
          ],
          [
           0.1111111111111111,
           "#482878"
          ],
          [
           0.2222222222222222,
           "#3e4989"
          ],
          [
           0.3333333333333333,
           "#31688e"
          ],
          [
           0.4444444444444444,
           "#26828e"
          ],
          [
           0.5555555555555556,
           "#1f9e89"
          ],
          [
           0.6666666666666666,
           "#35b779"
          ],
          [
           0.7777777777777778,
           "#6ece58"
          ],
          [
           0.8888888888888888,
           "#b5de2b"
          ],
          [
           1,
           "#fde725"
          ]
         ]
        },
        "font": {
         "size": 12
        },
        "height": 510,
        "legend": {
         "tracegroupgap": 0
        },
        "showlegend": false,
        "template": {
         "data": {
          "bar": [
           {
            "error_x": {
             "color": "#2a3f5f"
            },
            "error_y": {
             "color": "#2a3f5f"
            },
            "marker": {
             "line": {
              "color": "#E5ECF6",
              "width": 0.5
             },
             "pattern": {
              "fillmode": "overlay",
              "size": 10,
              "solidity": 0.2
             }
            },
            "type": "bar"
           }
          ],
          "barpolar": [
           {
            "marker": {
             "line": {
              "color": "#E5ECF6",
              "width": 0.5
             },
             "pattern": {
              "fillmode": "overlay",
              "size": 10,
              "solidity": 0.2
             }
            },
            "type": "barpolar"
           }
          ],
          "carpet": [
           {
            "aaxis": {
             "endlinecolor": "#2a3f5f",
             "gridcolor": "white",
             "linecolor": "white",
             "minorgridcolor": "white",
             "startlinecolor": "#2a3f5f"
            },
            "baxis": {
             "endlinecolor": "#2a3f5f",
             "gridcolor": "white",
             "linecolor": "white",
             "minorgridcolor": "white",
             "startlinecolor": "#2a3f5f"
            },
            "type": "carpet"
           }
          ],
          "choropleth": [
           {
            "colorbar": {
             "outlinewidth": 0,
             "ticks": ""
            },
            "type": "choropleth"
           }
          ],
          "contour": [
           {
            "colorbar": {
             "outlinewidth": 0,
             "ticks": ""
            },
            "colorscale": [
             [
              0,
              "#0d0887"
             ],
             [
              0.1111111111111111,
              "#46039f"
             ],
             [
              0.2222222222222222,
              "#7201a8"
             ],
             [
              0.3333333333333333,
              "#9c179e"
             ],
             [
              0.4444444444444444,
              "#bd3786"
             ],
             [
              0.5555555555555556,
              "#d8576b"
             ],
             [
              0.6666666666666666,
              "#ed7953"
             ],
             [
              0.7777777777777778,
              "#fb9f3a"
             ],
             [
              0.8888888888888888,
              "#fdca26"
             ],
             [
              1,
              "#f0f921"
             ]
            ],
            "type": "contour"
           }
          ],
          "contourcarpet": [
           {
            "colorbar": {
             "outlinewidth": 0,
             "ticks": ""
            },
            "type": "contourcarpet"
           }
          ],
          "heatmap": [
           {
            "colorbar": {
             "outlinewidth": 0,
             "ticks": ""
            },
            "colorscale": [
             [
              0,
              "#0d0887"
             ],
             [
              0.1111111111111111,
              "#46039f"
             ],
             [
              0.2222222222222222,
              "#7201a8"
             ],
             [
              0.3333333333333333,
              "#9c179e"
             ],
             [
              0.4444444444444444,
              "#bd3786"
             ],
             [
              0.5555555555555556,
              "#d8576b"
             ],
             [
              0.6666666666666666,
              "#ed7953"
             ],
             [
              0.7777777777777778,
              "#fb9f3a"
             ],
             [
              0.8888888888888888,
              "#fdca26"
             ],
             [
              1,
              "#f0f921"
             ]
            ],
            "type": "heatmap"
           }
          ],
          "histogram": [
           {
            "marker": {
             "pattern": {
              "fillmode": "overlay",
              "size": 10,
              "solidity": 0.2
             }
            },
            "type": "histogram"
           }
          ],
          "histogram2d": [
           {
            "colorbar": {
             "outlinewidth": 0,
             "ticks": ""
            },
            "colorscale": [
             [
              0,
              "#0d0887"
             ],
             [
              0.1111111111111111,
              "#46039f"
             ],
             [
              0.2222222222222222,
              "#7201a8"
             ],
             [
              0.3333333333333333,
              "#9c179e"
             ],
             [
              0.4444444444444444,
              "#bd3786"
             ],
             [
              0.5555555555555556,
              "#d8576b"
             ],
             [
              0.6666666666666666,
              "#ed7953"
             ],
             [
              0.7777777777777778,
              "#fb9f3a"
             ],
             [
              0.8888888888888888,
              "#fdca26"
             ],
             [
              1,
              "#f0f921"
             ]
            ],
            "type": "histogram2d"
           }
          ],
          "histogram2dcontour": [
           {
            "colorbar": {
             "outlinewidth": 0,
             "ticks": ""
            },
            "colorscale": [
             [
              0,
              "#0d0887"
             ],
             [
              0.1111111111111111,
              "#46039f"
             ],
             [
              0.2222222222222222,
              "#7201a8"
             ],
             [
              0.3333333333333333,
              "#9c179e"
             ],
             [
              0.4444444444444444,
              "#bd3786"
             ],
             [
              0.5555555555555556,
              "#d8576b"
             ],
             [
              0.6666666666666666,
              "#ed7953"
             ],
             [
              0.7777777777777778,
              "#fb9f3a"
             ],
             [
              0.8888888888888888,
              "#fdca26"
             ],
             [
              1,
              "#f0f921"
             ]
            ],
            "type": "histogram2dcontour"
           }
          ],
          "mesh3d": [
           {
            "colorbar": {
             "outlinewidth": 0,
             "ticks": ""
            },
            "type": "mesh3d"
           }
          ],
          "parcoords": [
           {
            "line": {
             "colorbar": {
              "outlinewidth": 0,
              "ticks": ""
             }
            },
            "type": "parcoords"
           }
          ],
          "pie": [
           {
            "automargin": true,
            "type": "pie"
           }
          ],
          "scatter": [
           {
            "fillpattern": {
             "fillmode": "overlay",
             "size": 10,
             "solidity": 0.2
            },
            "type": "scatter"
           }
          ],
          "scatter3d": [
           {
            "line": {
             "colorbar": {
              "outlinewidth": 0,
              "ticks": ""
             }
            },
            "marker": {
             "colorbar": {
              "outlinewidth": 0,
              "ticks": ""
             }
            },
            "type": "scatter3d"
           }
          ],
          "scattercarpet": [
           {
            "marker": {
             "colorbar": {
              "outlinewidth": 0,
              "ticks": ""
             }
            },
            "type": "scattercarpet"
           }
          ],
          "scattergeo": [
           {
            "marker": {
             "colorbar": {
              "outlinewidth": 0,
              "ticks": ""
             }
            },
            "type": "scattergeo"
           }
          ],
          "scattergl": [
           {
            "marker": {
             "colorbar": {
              "outlinewidth": 0,
              "ticks": ""
             }
            },
            "type": "scattergl"
           }
          ],
          "scattermap": [
           {
            "marker": {
             "colorbar": {
              "outlinewidth": 0,
              "ticks": ""
             }
            },
            "type": "scattermap"
           }
          ],
          "scattermapbox": [
           {
            "marker": {
             "colorbar": {
              "outlinewidth": 0,
              "ticks": ""
             }
            },
            "type": "scattermapbox"
           }
          ],
          "scatterpolar": [
           {
            "marker": {
             "colorbar": {
              "outlinewidth": 0,
              "ticks": ""
             }
            },
            "type": "scatterpolar"
           }
          ],
          "scatterpolargl": [
           {
            "marker": {
             "colorbar": {
              "outlinewidth": 0,
              "ticks": ""
             }
            },
            "type": "scatterpolargl"
           }
          ],
          "scatterternary": [
           {
            "marker": {
             "colorbar": {
              "outlinewidth": 0,
              "ticks": ""
             }
            },
            "type": "scatterternary"
           }
          ],
          "surface": [
           {
            "colorbar": {
             "outlinewidth": 0,
             "ticks": ""
            },
            "colorscale": [
             [
              0,
              "#0d0887"
             ],
             [
              0.1111111111111111,
              "#46039f"
             ],
             [
              0.2222222222222222,
              "#7201a8"
             ],
             [
              0.3333333333333333,
              "#9c179e"
             ],
             [
              0.4444444444444444,
              "#bd3786"
             ],
             [
              0.5555555555555556,
              "#d8576b"
             ],
             [
              0.6666666666666666,
              "#ed7953"
             ],
             [
              0.7777777777777778,
              "#fb9f3a"
             ],
             [
              0.8888888888888888,
              "#fdca26"
             ],
             [
              1,
              "#f0f921"
             ]
            ],
            "type": "surface"
           }
          ],
          "table": [
           {
            "cells": {
             "fill": {
              "color": "#EBF0F8"
             },
             "line": {
              "color": "white"
             }
            },
            "header": {
             "fill": {
              "color": "#C8D4E3"
             },
             "line": {
              "color": "white"
             }
            },
            "type": "table"
           }
          ]
         },
         "layout": {
          "annotationdefaults": {
           "arrowcolor": "#2a3f5f",
           "arrowhead": 0,
           "arrowwidth": 1
          },
          "autotypenumbers": "strict",
          "coloraxis": {
           "colorbar": {
            "outlinewidth": 0,
            "ticks": ""
           }
          },
          "colorscale": {
           "diverging": [
            [
             0,
             "#8e0152"
            ],
            [
             0.1,
             "#c51b7d"
            ],
            [
             0.2,
             "#de77ae"
            ],
            [
             0.3,
             "#f1b6da"
            ],
            [
             0.4,
             "#fde0ef"
            ],
            [
             0.5,
             "#f7f7f7"
            ],
            [
             0.6,
             "#e6f5d0"
            ],
            [
             0.7,
             "#b8e186"
            ],
            [
             0.8,
             "#7fbc41"
            ],
            [
             0.9,
             "#4d9221"
            ],
            [
             1,
             "#276419"
            ]
           ],
           "sequential": [
            [
             0,
             "#0d0887"
            ],
            [
             0.1111111111111111,
             "#46039f"
            ],
            [
             0.2222222222222222,
             "#7201a8"
            ],
            [
             0.3333333333333333,
             "#9c179e"
            ],
            [
             0.4444444444444444,
             "#bd3786"
            ],
            [
             0.5555555555555556,
             "#d8576b"
            ],
            [
             0.6666666666666666,
             "#ed7953"
            ],
            [
             0.7777777777777778,
             "#fb9f3a"
            ],
            [
             0.8888888888888888,
             "#fdca26"
            ],
            [
             1,
             "#f0f921"
            ]
           ],
           "sequentialminus": [
            [
             0,
             "#0d0887"
            ],
            [
             0.1111111111111111,
             "#46039f"
            ],
            [
             0.2222222222222222,
             "#7201a8"
            ],
            [
             0.3333333333333333,
             "#9c179e"
            ],
            [
             0.4444444444444444,
             "#bd3786"
            ],
            [
             0.5555555555555556,
             "#d8576b"
            ],
            [
             0.6666666666666666,
             "#ed7953"
            ],
            [
             0.7777777777777778,
             "#fb9f3a"
            ],
            [
             0.8888888888888888,
             "#fdca26"
            ],
            [
             1,
             "#f0f921"
            ]
           ]
          },
          "colorway": [
           "#636efa",
           "#EF553B",
           "#00cc96",
           "#ab63fa",
           "#FFA15A",
           "#19d3f3",
           "#FF6692",
           "#B6E880",
           "#FF97FF",
           "#FECB52"
          ],
          "font": {
           "color": "#2a3f5f"
          },
          "geo": {
           "bgcolor": "white",
           "lakecolor": "white",
           "landcolor": "#E5ECF6",
           "showlakes": true,
           "showland": true,
           "subunitcolor": "white"
          },
          "hoverlabel": {
           "align": "left"
          },
          "hovermode": "closest",
          "mapbox": {
           "style": "light"
          },
          "paper_bgcolor": "white",
          "plot_bgcolor": "#E5ECF6",
          "polar": {
           "angularaxis": {
            "gridcolor": "white",
            "linecolor": "white",
            "ticks": ""
           },
           "bgcolor": "#E5ECF6",
           "radialaxis": {
            "gridcolor": "white",
            "linecolor": "white",
            "ticks": ""
           }
          },
          "scene": {
           "xaxis": {
            "backgroundcolor": "#E5ECF6",
            "gridcolor": "white",
            "gridwidth": 2,
            "linecolor": "white",
            "showbackground": true,
            "ticks": "",
            "zerolinecolor": "white"
           },
           "yaxis": {
            "backgroundcolor": "#E5ECF6",
            "gridcolor": "white",
            "gridwidth": 2,
            "linecolor": "white",
            "showbackground": true,
            "ticks": "",
            "zerolinecolor": "white"
           },
           "zaxis": {
            "backgroundcolor": "#E5ECF6",
            "gridcolor": "white",
            "gridwidth": 2,
            "linecolor": "white",
            "showbackground": true,
            "ticks": "",
            "zerolinecolor": "white"
           }
          },
          "shapedefaults": {
           "line": {
            "color": "#2a3f5f"
           }
          },
          "ternary": {
           "aaxis": {
            "gridcolor": "white",
            "linecolor": "white",
            "ticks": ""
           },
           "baxis": {
            "gridcolor": "white",
            "linecolor": "white",
            "ticks": ""
           },
           "bgcolor": "#E5ECF6",
           "caxis": {
            "gridcolor": "white",
            "linecolor": "white",
            "ticks": ""
           }
          },
          "title": {
           "x": 0.05
          },
          "xaxis": {
           "automargin": true,
           "gridcolor": "white",
           "linecolor": "white",
           "ticks": "",
           "title": {
            "standoff": 15
           },
           "zerolinecolor": "white",
           "zerolinewidth": 2
          },
          "yaxis": {
           "automargin": true,
           "gridcolor": "white",
           "linecolor": "white",
           "ticks": "",
           "title": {
            "standoff": 15
           },
           "zerolinecolor": "white",
           "zerolinewidth": 2
          }
         }
        },
        "title": {
         "font": {
          "size": 16
         },
         "text": "Abercrombie Task Performance - All Models<br>(Mean Balanced Accuracy)"
        },
        "width": 900,
        "xaxis": {
         "anchor": "y",
         "domain": [
          0,
          1
         ],
         "title": {
          "font": {
           "size": 14
          },
          "text": "Balanced Accuracy"
         }
        },
        "yaxis": {
         "anchor": "x",
         "domain": [
          0,
          1
         ],
         "title": {
          "font": {
           "size": 14
          },
          "text": "Model"
         }
        }
       }
      }
     },
     "metadata": {},
     "output_type": "display_data"
    }
   ],
   "source": [
    "# Create horizontal bar chart for abercrombie results\n",
    "fig = px.bar(\n",
    "    abercrombie_scores, \n",
    "    x='mean_balanced_accuracy', \n",
    "    y='model',\n",
    "    orientation='h',\n",
    "    title='Abercrombie Task Performance - All Models<br>(Mean Balanced Accuracy)',\n",
    "    labels={'mean_balanced_accuracy': 'Balanced Accuracy', 'model': 'Model'},\n",
    "    text=[f'{score:.3f} ({count} evals)' for score, count in zip(abercrombie_scores['mean_balanced_accuracy'], abercrombie_scores['num_evaluations'])],\n",
    "    color='mean_balanced_accuracy',\n",
    "    color_continuous_scale='viridis'\n",
    ")\n",
    "\n",
    "# Customize layout\n",
    "fig.update_traces(textposition='outside')\n",
    "fig.update_layout(\n",
    "    height=max(400, len(abercrombie_scores) * 30),\n",
    "    width=900,\n",
    "    showlegend=False,\n",
    "    font=dict(size=12),\n",
    "    title_font_size=16,\n",
    "    xaxis_title_font_size=14,\n",
    "    yaxis_title_font_size=14\n",
    ")\n",
    "\n",
    "fig.show()"
   ]
  },
  {
   "cell_type": "code",
   "execution_count": 34,
   "metadata": {},
   "outputs": [
    {
     "data": {
      "application/vnd.plotly.v1+json": {
       "config": {
        "plotlyServerURL": "https://plot.ly"
       },
       "data": [
        {
         "hovertemplate": "Model=%{x}<br>Balanced Accuracy=%{marker.color}<br>text=%{text}<extra></extra>",
         "legendgroup": "",
         "marker": {
          "color": {
           "bdata": "7ViBMNKOxT8LhJF2rEDIP7ICYaQdK9A/eQ3lNZTX0D8II+1YgTDSP5Y49XtuidM/0o4VCCPt2D+amZmZmZnZP2CkHSsQRto/KK+hvIby2j+2xKnfc0vcP3oN5TWU1+A/3RKnfs8t4T/dEqd+zy3hP6QdKxBG2uE/zy1x6vfc4j9eQ3kN5TXkPw==",
           "dtype": "f8"
          },
          "coloraxis": "coloraxis",
          "pattern": {
           "shape": ""
          }
         },
         "name": "",
         "orientation": "v",
         "showlegend": false,
         "text": [
          "0.168<br>(1 evals)",
          "0.189<br>(1 evals)",
          "0.253<br>(1 evals)",
          "0.263<br>(1 evals)",
          "0.284<br>(1 evals)",
          "0.305<br>(1 evals)",
          "0.389<br>(1 evals)",
          "0.400<br>(1 evals)",
          "0.411<br>(1 evals)",
          "0.421<br>(1 evals)",
          "0.442<br>(1 evals)",
          "0.526<br>(1 evals)",
          "0.537<br>(1 evals)",
          "0.537<br>(1 evals)",
          "0.558<br>(1 evals)",
          "0.589<br>(1 evals)",
          "0.632<br>(1 evals)"
         ],
         "textposition": "outside",
         "type": "bar",
         "x": [
          "EuroLLM-1.7B",
          "hplt2c_eng_checkpoints",
          "EuroLLM-9B",
          "gemma-3-1b-pt",
          "gemma-3-1b-it",
          "gemma-3-4b-pt",
          "gemma-3-4b-it",
          "OLMo-2-1124-13B-Instruct",
          "SmolLM3-3B",
          "SmolLM3-3B-Base",
          "OLMo-2-1124-13B",
          "OLMo-2-1124-7B",
          "Mistral-7B-v0.1",
          "gemma-3-12b-pt",
          "OLMo-2-1124-7B-Instruct",
          "Mistral-7B-Instruct-v0.3",
          "gemma-3-12b-it"
         ],
         "xaxis": "x",
         "y": {
          "bdata": "7ViBMNKOxT8LhJF2rEDIP7ICYaQdK9A/eQ3lNZTX0D8II+1YgTDSP5Y49XtuidM/0o4VCCPt2D+amZmZmZnZP2CkHSsQRto/KK+hvIby2j+2xKnfc0vcP3oN5TWU1+A/3RKnfs8t4T/dEqd+zy3hP6QdKxBG2uE/zy1x6vfc4j9eQ3kN5TXkPw==",
          "dtype": "f8"
         },
         "yaxis": "y"
        }
       ],
       "layout": {
        "barmode": "relative",
        "coloraxis": {
         "colorbar": {
          "title": {
           "text": "Balanced Accuracy"
          }
         },
         "colorscale": [
          [
           0,
           "#0d0887"
          ],
          [
           0.1111111111111111,
           "#46039f"
          ],
          [
           0.2222222222222222,
           "#7201a8"
          ],
          [
           0.3333333333333333,
           "#9c179e"
          ],
          [
           0.4444444444444444,
           "#bd3786"
          ],
          [
           0.5555555555555556,
           "#d8576b"
          ],
          [
           0.6666666666666666,
           "#ed7953"
          ],
          [
           0.7777777777777778,
           "#fb9f3a"
          ],
          [
           0.8888888888888888,
           "#fdca26"
          ],
          [
           1,
           "#f0f921"
          ]
         ]
        },
        "font": {
         "size": 11
        },
        "height": 600,
        "legend": {
         "tracegroupgap": 0
        },
        "showlegend": false,
        "template": {
         "data": {
          "bar": [
           {
            "error_x": {
             "color": "#2a3f5f"
            },
            "error_y": {
             "color": "#2a3f5f"
            },
            "marker": {
             "line": {
              "color": "#E5ECF6",
              "width": 0.5
             },
             "pattern": {
              "fillmode": "overlay",
              "size": 10,
              "solidity": 0.2
             }
            },
            "type": "bar"
           }
          ],
          "barpolar": [
           {
            "marker": {
             "line": {
              "color": "#E5ECF6",
              "width": 0.5
             },
             "pattern": {
              "fillmode": "overlay",
              "size": 10,
              "solidity": 0.2
             }
            },
            "type": "barpolar"
           }
          ],
          "carpet": [
           {
            "aaxis": {
             "endlinecolor": "#2a3f5f",
             "gridcolor": "white",
             "linecolor": "white",
             "minorgridcolor": "white",
             "startlinecolor": "#2a3f5f"
            },
            "baxis": {
             "endlinecolor": "#2a3f5f",
             "gridcolor": "white",
             "linecolor": "white",
             "minorgridcolor": "white",
             "startlinecolor": "#2a3f5f"
            },
            "type": "carpet"
           }
          ],
          "choropleth": [
           {
            "colorbar": {
             "outlinewidth": 0,
             "ticks": ""
            },
            "type": "choropleth"
           }
          ],
          "contour": [
           {
            "colorbar": {
             "outlinewidth": 0,
             "ticks": ""
            },
            "colorscale": [
             [
              0,
              "#0d0887"
             ],
             [
              0.1111111111111111,
              "#46039f"
             ],
             [
              0.2222222222222222,
              "#7201a8"
             ],
             [
              0.3333333333333333,
              "#9c179e"
             ],
             [
              0.4444444444444444,
              "#bd3786"
             ],
             [
              0.5555555555555556,
              "#d8576b"
             ],
             [
              0.6666666666666666,
              "#ed7953"
             ],
             [
              0.7777777777777778,
              "#fb9f3a"
             ],
             [
              0.8888888888888888,
              "#fdca26"
             ],
             [
              1,
              "#f0f921"
             ]
            ],
            "type": "contour"
           }
          ],
          "contourcarpet": [
           {
            "colorbar": {
             "outlinewidth": 0,
             "ticks": ""
            },
            "type": "contourcarpet"
           }
          ],
          "heatmap": [
           {
            "colorbar": {
             "outlinewidth": 0,
             "ticks": ""
            },
            "colorscale": [
             [
              0,
              "#0d0887"
             ],
             [
              0.1111111111111111,
              "#46039f"
             ],
             [
              0.2222222222222222,
              "#7201a8"
             ],
             [
              0.3333333333333333,
              "#9c179e"
             ],
             [
              0.4444444444444444,
              "#bd3786"
             ],
             [
              0.5555555555555556,
              "#d8576b"
             ],
             [
              0.6666666666666666,
              "#ed7953"
             ],
             [
              0.7777777777777778,
              "#fb9f3a"
             ],
             [
              0.8888888888888888,
              "#fdca26"
             ],
             [
              1,
              "#f0f921"
             ]
            ],
            "type": "heatmap"
           }
          ],
          "histogram": [
           {
            "marker": {
             "pattern": {
              "fillmode": "overlay",
              "size": 10,
              "solidity": 0.2
             }
            },
            "type": "histogram"
           }
          ],
          "histogram2d": [
           {
            "colorbar": {
             "outlinewidth": 0,
             "ticks": ""
            },
            "colorscale": [
             [
              0,
              "#0d0887"
             ],
             [
              0.1111111111111111,
              "#46039f"
             ],
             [
              0.2222222222222222,
              "#7201a8"
             ],
             [
              0.3333333333333333,
              "#9c179e"
             ],
             [
              0.4444444444444444,
              "#bd3786"
             ],
             [
              0.5555555555555556,
              "#d8576b"
             ],
             [
              0.6666666666666666,
              "#ed7953"
             ],
             [
              0.7777777777777778,
              "#fb9f3a"
             ],
             [
              0.8888888888888888,
              "#fdca26"
             ],
             [
              1,
              "#f0f921"
             ]
            ],
            "type": "histogram2d"
           }
          ],
          "histogram2dcontour": [
           {
            "colorbar": {
             "outlinewidth": 0,
             "ticks": ""
            },
            "colorscale": [
             [
              0,
              "#0d0887"
             ],
             [
              0.1111111111111111,
              "#46039f"
             ],
             [
              0.2222222222222222,
              "#7201a8"
             ],
             [
              0.3333333333333333,
              "#9c179e"
             ],
             [
              0.4444444444444444,
              "#bd3786"
             ],
             [
              0.5555555555555556,
              "#d8576b"
             ],
             [
              0.6666666666666666,
              "#ed7953"
             ],
             [
              0.7777777777777778,
              "#fb9f3a"
             ],
             [
              0.8888888888888888,
              "#fdca26"
             ],
             [
              1,
              "#f0f921"
             ]
            ],
            "type": "histogram2dcontour"
           }
          ],
          "mesh3d": [
           {
            "colorbar": {
             "outlinewidth": 0,
             "ticks": ""
            },
            "type": "mesh3d"
           }
          ],
          "parcoords": [
           {
            "line": {
             "colorbar": {
              "outlinewidth": 0,
              "ticks": ""
             }
            },
            "type": "parcoords"
           }
          ],
          "pie": [
           {
            "automargin": true,
            "type": "pie"
           }
          ],
          "scatter": [
           {
            "fillpattern": {
             "fillmode": "overlay",
             "size": 10,
             "solidity": 0.2
            },
            "type": "scatter"
           }
          ],
          "scatter3d": [
           {
            "line": {
             "colorbar": {
              "outlinewidth": 0,
              "ticks": ""
             }
            },
            "marker": {
             "colorbar": {
              "outlinewidth": 0,
              "ticks": ""
             }
            },
            "type": "scatter3d"
           }
          ],
          "scattercarpet": [
           {
            "marker": {
             "colorbar": {
              "outlinewidth": 0,
              "ticks": ""
             }
            },
            "type": "scattercarpet"
           }
          ],
          "scattergeo": [
           {
            "marker": {
             "colorbar": {
              "outlinewidth": 0,
              "ticks": ""
             }
            },
            "type": "scattergeo"
           }
          ],
          "scattergl": [
           {
            "marker": {
             "colorbar": {
              "outlinewidth": 0,
              "ticks": ""
             }
            },
            "type": "scattergl"
           }
          ],
          "scattermap": [
           {
            "marker": {
             "colorbar": {
              "outlinewidth": 0,
              "ticks": ""
             }
            },
            "type": "scattermap"
           }
          ],
          "scattermapbox": [
           {
            "marker": {
             "colorbar": {
              "outlinewidth": 0,
              "ticks": ""
             }
            },
            "type": "scattermapbox"
           }
          ],
          "scatterpolar": [
           {
            "marker": {
             "colorbar": {
              "outlinewidth": 0,
              "ticks": ""
             }
            },
            "type": "scatterpolar"
           }
          ],
          "scatterpolargl": [
           {
            "marker": {
             "colorbar": {
              "outlinewidth": 0,
              "ticks": ""
             }
            },
            "type": "scatterpolargl"
           }
          ],
          "scatterternary": [
           {
            "marker": {
             "colorbar": {
              "outlinewidth": 0,
              "ticks": ""
             }
            },
            "type": "scatterternary"
           }
          ],
          "surface": [
           {
            "colorbar": {
             "outlinewidth": 0,
             "ticks": ""
            },
            "colorscale": [
             [
              0,
              "#0d0887"
             ],
             [
              0.1111111111111111,
              "#46039f"
             ],
             [
              0.2222222222222222,
              "#7201a8"
             ],
             [
              0.3333333333333333,
              "#9c179e"
             ],
             [
              0.4444444444444444,
              "#bd3786"
             ],
             [
              0.5555555555555556,
              "#d8576b"
             ],
             [
              0.6666666666666666,
              "#ed7953"
             ],
             [
              0.7777777777777778,
              "#fb9f3a"
             ],
             [
              0.8888888888888888,
              "#fdca26"
             ],
             [
              1,
              "#f0f921"
             ]
            ],
            "type": "surface"
           }
          ],
          "table": [
           {
            "cells": {
             "fill": {
              "color": "#EBF0F8"
             },
             "line": {
              "color": "white"
             }
            },
            "header": {
             "fill": {
              "color": "#C8D4E3"
             },
             "line": {
              "color": "white"
             }
            },
            "type": "table"
           }
          ]
         },
         "layout": {
          "annotationdefaults": {
           "arrowcolor": "#2a3f5f",
           "arrowhead": 0,
           "arrowwidth": 1
          },
          "autotypenumbers": "strict",
          "coloraxis": {
           "colorbar": {
            "outlinewidth": 0,
            "ticks": ""
           }
          },
          "colorscale": {
           "diverging": [
            [
             0,
             "#8e0152"
            ],
            [
             0.1,
             "#c51b7d"
            ],
            [
             0.2,
             "#de77ae"
            ],
            [
             0.3,
             "#f1b6da"
            ],
            [
             0.4,
             "#fde0ef"
            ],
            [
             0.5,
             "#f7f7f7"
            ],
            [
             0.6,
             "#e6f5d0"
            ],
            [
             0.7,
             "#b8e186"
            ],
            [
             0.8,
             "#7fbc41"
            ],
            [
             0.9,
             "#4d9221"
            ],
            [
             1,
             "#276419"
            ]
           ],
           "sequential": [
            [
             0,
             "#0d0887"
            ],
            [
             0.1111111111111111,
             "#46039f"
            ],
            [
             0.2222222222222222,
             "#7201a8"
            ],
            [
             0.3333333333333333,
             "#9c179e"
            ],
            [
             0.4444444444444444,
             "#bd3786"
            ],
            [
             0.5555555555555556,
             "#d8576b"
            ],
            [
             0.6666666666666666,
             "#ed7953"
            ],
            [
             0.7777777777777778,
             "#fb9f3a"
            ],
            [
             0.8888888888888888,
             "#fdca26"
            ],
            [
             1,
             "#f0f921"
            ]
           ],
           "sequentialminus": [
            [
             0,
             "#0d0887"
            ],
            [
             0.1111111111111111,
             "#46039f"
            ],
            [
             0.2222222222222222,
             "#7201a8"
            ],
            [
             0.3333333333333333,
             "#9c179e"
            ],
            [
             0.4444444444444444,
             "#bd3786"
            ],
            [
             0.5555555555555556,
             "#d8576b"
            ],
            [
             0.6666666666666666,
             "#ed7953"
            ],
            [
             0.7777777777777778,
             "#fb9f3a"
            ],
            [
             0.8888888888888888,
             "#fdca26"
            ],
            [
             1,
             "#f0f921"
            ]
           ]
          },
          "colorway": [
           "#636efa",
           "#EF553B",
           "#00cc96",
           "#ab63fa",
           "#FFA15A",
           "#19d3f3",
           "#FF6692",
           "#B6E880",
           "#FF97FF",
           "#FECB52"
          ],
          "font": {
           "color": "#2a3f5f"
          },
          "geo": {
           "bgcolor": "white",
           "lakecolor": "white",
           "landcolor": "#E5ECF6",
           "showlakes": true,
           "showland": true,
           "subunitcolor": "white"
          },
          "hoverlabel": {
           "align": "left"
          },
          "hovermode": "closest",
          "mapbox": {
           "style": "light"
          },
          "paper_bgcolor": "white",
          "plot_bgcolor": "#E5ECF6",
          "polar": {
           "angularaxis": {
            "gridcolor": "white",
            "linecolor": "white",
            "ticks": ""
           },
           "bgcolor": "#E5ECF6",
           "radialaxis": {
            "gridcolor": "white",
            "linecolor": "white",
            "ticks": ""
           }
          },
          "scene": {
           "xaxis": {
            "backgroundcolor": "#E5ECF6",
            "gridcolor": "white",
            "gridwidth": 2,
            "linecolor": "white",
            "showbackground": true,
            "ticks": "",
            "zerolinecolor": "white"
           },
           "yaxis": {
            "backgroundcolor": "#E5ECF6",
            "gridcolor": "white",
            "gridwidth": 2,
            "linecolor": "white",
            "showbackground": true,
            "ticks": "",
            "zerolinecolor": "white"
           },
           "zaxis": {
            "backgroundcolor": "#E5ECF6",
            "gridcolor": "white",
            "gridwidth": 2,
            "linecolor": "white",
            "showbackground": true,
            "ticks": "",
            "zerolinecolor": "white"
           }
          },
          "shapedefaults": {
           "line": {
            "color": "#2a3f5f"
           }
          },
          "ternary": {
           "aaxis": {
            "gridcolor": "white",
            "linecolor": "white",
            "ticks": ""
           },
           "baxis": {
            "gridcolor": "white",
            "linecolor": "white",
            "ticks": ""
           },
           "bgcolor": "#E5ECF6",
           "caxis": {
            "gridcolor": "white",
            "linecolor": "white",
            "ticks": ""
           }
          },
          "title": {
           "x": 0.05
          },
          "xaxis": {
           "automargin": true,
           "gridcolor": "white",
           "linecolor": "white",
           "ticks": "",
           "title": {
            "standoff": 15
           },
           "zerolinecolor": "white",
           "zerolinewidth": 2
          },
          "yaxis": {
           "automargin": true,
           "gridcolor": "white",
           "linecolor": "white",
           "ticks": "",
           "title": {
            "standoff": 15
           },
           "zerolinecolor": "white",
           "zerolinewidth": 2
          }
         }
        },
        "title": {
         "font": {
          "size": 16
         },
         "text": "Abercrombie Task Performance - All Models<br>(Mean Balanced Accuracy)"
        },
        "width": 850,
        "xaxis": {
         "anchor": "y",
         "domain": [
          0,
          1
         ],
         "tickangle": -45,
         "title": {
          "font": {
           "size": 14
          },
          "text": "Model"
         }
        },
        "yaxis": {
         "anchor": "x",
         "domain": [
          0,
          1
         ],
         "title": {
          "font": {
           "size": 14
          },
          "text": "Balanced Accuracy"
         }
        }
       }
      }
     },
     "metadata": {},
     "output_type": "display_data"
    }
   ],
   "source": [
    "# Alternative vertical bar chart for abercrombie\n",
    "# Sort by balanced accuracy for better visualization\n",
    "abercrombie_scores_sorted = abercrombie_scores.sort_values('mean_balanced_accuracy', ascending=True)\n",
    "\n",
    "fig = px.bar(\n",
    "    abercrombie_scores_sorted, \n",
    "    x='model', \n",
    "    y='mean_balanced_accuracy',\n",
    "    title='Abercrombie Task Performance - All Models<br>(Mean Balanced Accuracy)',\n",
    "    labels={'mean_balanced_accuracy': 'Balanced Accuracy', 'model': 'Model'},\n",
    "    text=[f'{score:.3f}<br>({count} evals)' for score, count in zip(abercrombie_scores_sorted['mean_balanced_accuracy'], abercrombie_scores_sorted['num_evaluations'])],\n",
    "    color='mean_balanced_accuracy',\n",
    "    color_continuous_scale='plasma'\n",
    ")\n",
    "\n",
    "# Customize layout\n",
    "fig.update_traces(textposition='outside')\n",
    "fig.update_layout(\n",
    "    height=600,\n",
    "    width=max(800, len(abercrombie_scores) * 50),\n",
    "    showlegend=False,\n",
    "    font=dict(size=11),\n",
    "    title_font_size=16,\n",
    "    xaxis_title_font_size=14,\n",
    "    yaxis_title_font_size=14,\n",
    "    xaxis_tickangle=-45\n",
    ")\n",
    "\n",
    "fig.show()"
   ]
  },
  {
   "cell_type": "code",
   "execution_count": 35,
   "metadata": {},
   "outputs": [
    {
     "name": "stdout",
     "output_type": "stream",
     "text": [
      "\n",
      "Detailed Abercrombie Model Statistics:\n",
      "==================================================\n",
      "gemma-3-12b-it                 0.6316 (1 evaluations)\n",
      "Mistral-7B-Instruct-v0.3       0.5895 (1 evaluations)\n",
      "OLMo-2-1124-7B-Instruct        0.5579 (1 evaluations)\n",
      "gemma-3-12b-pt                 0.5368 (1 evaluations)\n",
      "Mistral-7B-v0.1                0.5368 (1 evaluations)\n",
      "OLMo-2-1124-7B                 0.5263 (1 evaluations)\n",
      "OLMo-2-1124-13B                0.4421 (1 evaluations)\n",
      "SmolLM3-3B-Base                0.4211 (1 evaluations)\n",
      "SmolLM3-3B                     0.4105 (1 evaluations)\n",
      "OLMo-2-1124-13B-Instruct       0.4000 (1 evaluations)\n",
      "gemma-3-4b-it                  0.3895 (1 evaluations)\n",
      "gemma-3-4b-pt                  0.3053 (1 evaluations)\n",
      "gemma-3-1b-it                  0.2842 (1 evaluations)\n",
      "gemma-3-1b-pt                  0.2632 (1 evaluations)\n",
      "EuroLLM-9B                     0.2526 (1 evaluations)\n",
      "hplt2c_eng_checkpoints         0.1895 (1 evaluations)\n",
      "EuroLLM-1.7B                   0.1684 (1 evaluations)\n",
      "\n",
      "Abercrombie Overall Statistics:\n",
      "Number of models: 17\n",
      "Total evaluations: 17\n",
      "Mean balanced accuracy across all models: 0.4062\n",
      "Best performing model: gemma-3-12b-it\n",
      "Best score: 0.6316\n"
     ]
    }
   ],
   "source": [
    "# Show detailed statistics for abercrombie\n",
    "print(\"\\nDetailed Abercrombie Model Statistics:\")\n",
    "print(\"=\" * 50)\n",
    "for _, row in abercrombie_scores.sort_values('mean_balanced_accuracy', ascending=False).iterrows():\n",
    "    print(f\"{row['model']:<30} {row['mean_balanced_accuracy']:.4f} ({row['num_evaluations']} evaluations)\")\n",
    "    \n",
    "print(f\"\\nAbercrombie Overall Statistics:\")\n",
    "print(f\"Number of models: {len(abercrombie_scores)}\")\n",
    "print(f\"Total evaluations: {abercrombie_scores['num_evaluations'].sum()}\")\n",
    "print(f\"Mean balanced accuracy across all models: {abercrombie_scores['mean_balanced_accuracy'].mean():.4f}\")\n",
    "print(f\"Best performing model: {abercrombie_scores.loc[abercrombie_scores['mean_balanced_accuracy'].idxmax(), 'model']}\")\n",
    "print(f\"Best score: {abercrombie_scores['mean_balanced_accuracy'].max():.4f}\")"
   ]
  }
 ],
 "metadata": {
  "kernelspec": {
   "display_name": "belebele-llama",
   "language": "python",
   "name": "python3"
  },
  "language_info": {
   "codemirror_mode": {
    "name": "ipython",
    "version": 3
   },
   "file_extension": ".py",
   "mimetype": "text/x-python",
   "name": "python",
   "nbconvert_exporter": "python",
   "pygments_lexer": "ipython3",
   "version": "3.13.4"
  }
 },
 "nbformat": 4,
 "nbformat_minor": 4
}
