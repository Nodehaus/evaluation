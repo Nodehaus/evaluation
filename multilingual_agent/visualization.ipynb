{
 "cells": [
  {
   "cell_type": "markdown",
   "metadata": {},
   "source": [
    "# Multilingual Agent Evaluation Results Visualization\n",
    "\n",
    "This notebook creates interactive boxplots to visualize the evaluation results of LLM agents across different models and languages."
   ]
  },
  {
   "cell_type": "code",
   "execution_count": 45,
   "metadata": {},
   "outputs": [],
   "source": [
    "import json\n",
    "import pandas as pd\n",
    "import plotly.express as px\n",
    "import plotly.graph_objects as go\n",
    "from plotly.subplots import make_subplots\n",
    "from pathlib import Path"
   ]
  },
  {
   "cell_type": "code",
   "execution_count": 46,
   "metadata": {},
   "outputs": [
    {
     "name": "stdout",
     "output_type": "stream",
     "text": [
      "Loaded 84 data points\n",
      "Models: ['HuggingFaceTB/SmolLM3-3B', 'Qwen/Qwen3-14B', 'Qwen/Qwen3-4B', 'Qwen/Qwen3-8B', 'mistralai/Mistral-Nemo-Instruct-2407', 'openai/gpt-oss-20b']\n",
      "Languages: ['deu', 'eng', 'est', 'fra', 'nld', 'pol', 'por']\n",
      "Metrics: ['Argument Correctness', 'Tool Correctness']\n"
     ]
    },
    {
     "data": {
      "text/html": [
       "<div>\n",
       "<style scoped>\n",
       "    .dataframe tbody tr th:only-of-type {\n",
       "        vertical-align: middle;\n",
       "    }\n",
       "\n",
       "    .dataframe tbody tr th {\n",
       "        vertical-align: top;\n",
       "    }\n",
       "\n",
       "    .dataframe thead th {\n",
       "        text-align: right;\n",
       "    }\n",
       "</style>\n",
       "<table border=\"1\" class=\"dataframe\">\n",
       "  <thead>\n",
       "    <tr style=\"text-align: right;\">\n",
       "      <th></th>\n",
       "      <th>model</th>\n",
       "      <th>language</th>\n",
       "      <th>metric</th>\n",
       "      <th>score</th>\n",
       "      <th>filename</th>\n",
       "    </tr>\n",
       "  </thead>\n",
       "  <tbody>\n",
       "    <tr>\n",
       "      <th>0</th>\n",
       "      <td>Qwen/Qwen3-14B</td>\n",
       "      <td>deu</td>\n",
       "      <td>Tool Correctness</td>\n",
       "      <td>0.9300</td>\n",
       "      <td>agent_Qwen3-14B_deu_Latn.json</td>\n",
       "    </tr>\n",
       "    <tr>\n",
       "      <th>1</th>\n",
       "      <td>Qwen/Qwen3-14B</td>\n",
       "      <td>deu</td>\n",
       "      <td>Argument Correctness</td>\n",
       "      <td>0.7375</td>\n",
       "      <td>agent_Qwen3-14B_deu_Latn.json</td>\n",
       "    </tr>\n",
       "    <tr>\n",
       "      <th>2</th>\n",
       "      <td>Qwen/Qwen3-14B</td>\n",
       "      <td>est</td>\n",
       "      <td>Tool Correctness</td>\n",
       "      <td>1.0000</td>\n",
       "      <td>agent_Qwen3-14B_est_Latn.json</td>\n",
       "    </tr>\n",
       "    <tr>\n",
       "      <th>3</th>\n",
       "      <td>Qwen/Qwen3-14B</td>\n",
       "      <td>est</td>\n",
       "      <td>Argument Correctness</td>\n",
       "      <td>0.8333</td>\n",
       "      <td>agent_Qwen3-14B_est_Latn.json</td>\n",
       "    </tr>\n",
       "    <tr>\n",
       "      <th>4</th>\n",
       "      <td>mistralai/Mistral-Nemo-Instruct-2407</td>\n",
       "      <td>nld</td>\n",
       "      <td>Tool Correctness</td>\n",
       "      <td>0.7630</td>\n",
       "      <td>agent_Mistral-Nemo-Instruct-2407_nld_Latn.json</td>\n",
       "    </tr>\n",
       "  </tbody>\n",
       "</table>\n",
       "</div>"
      ],
      "text/plain": [
       "                                  model language                metric  \\\n",
       "0                        Qwen/Qwen3-14B      deu      Tool Correctness   \n",
       "1                        Qwen/Qwen3-14B      deu  Argument Correctness   \n",
       "2                        Qwen/Qwen3-14B      est      Tool Correctness   \n",
       "3                        Qwen/Qwen3-14B      est  Argument Correctness   \n",
       "4  mistralai/Mistral-Nemo-Instruct-2407      nld      Tool Correctness   \n",
       "\n",
       "    score                                        filename  \n",
       "0  0.9300                   agent_Qwen3-14B_deu_Latn.json  \n",
       "1  0.7375                   agent_Qwen3-14B_deu_Latn.json  \n",
       "2  1.0000                   agent_Qwen3-14B_est_Latn.json  \n",
       "3  0.8333                   agent_Qwen3-14B_est_Latn.json  \n",
       "4  0.7630  agent_Mistral-Nemo-Instruct-2407_nld_Latn.json  "
      ]
     },
     "execution_count": 46,
     "metadata": {},
     "output_type": "execute_result"
    }
   ],
   "source": [
    "# Load all result files\n",
    "results_dir = Path('results')\n",
    "results_data = []\n",
    "\n",
    "for json_file in results_dir.glob('*.json'):\n",
    "    with open(json_file, 'r') as f:\n",
    "        data = json.load(f)\n",
    "        \n",
    "    # Extract model name and language from filename or data\n",
    "    model_name = data.get('model_name', '')\n",
    "    language = data.get('language', '')\n",
    "    \n",
    "    # Get metric scores\n",
    "    metric_scores = data['evaluation_results']['global_metrics']['average_scores_by_metric']\n",
    "    \n",
    "    # Add each metric score as a separate row\n",
    "    for metric_name, score in metric_scores.items():\n",
    "        results_data.append({\n",
    "            'model': model_name,\n",
    "            'language': language,\n",
    "            'metric': metric_name,\n",
    "            'score': score,\n",
    "            'filename': json_file.name\n",
    "        })\n",
    "\n",
    "# Create DataFrame\n",
    "df = pd.DataFrame(results_data)\n",
    "print(f\"Loaded {len(df)} data points\")\n",
    "print(f\"Models: {sorted(df['model'].unique())}\")\n",
    "print(f\"Languages: {sorted(df['language'].unique())}\")\n",
    "print(f\"Metrics: {sorted(df['metric'].unique())}\")\n",
    "df.head()"
   ]
  },
  {
   "cell_type": "code",
   "execution_count": 47,
   "metadata": {},
   "outputs": [
    {
     "name": "stdout",
     "output_type": "stream",
     "text": [
      "Clean model names: ['Mistral-Nemo-Instruct-2407', 'Qwen3-14B', 'Qwen3-4B', 'Qwen3-8B', 'SmolLM3-3B', 'gpt-oss-20b']\n"
     ]
    }
   ],
   "source": [
    "# Clean model names for better visualization\n",
    "def clean_model_name(model_name):\n",
    "    \"\"\"Extract clean model name from full model path\"\"\"\n",
    "    if '/' in model_name:\n",
    "        return model_name.split('/')[-1]\n",
    "    return model_name\n",
    "\n",
    "df['model_clean'] = df['model'].apply(clean_model_name)\n",
    "print(f\"Clean model names: {sorted(df['model_clean'].unique())}\")"
   ]
  },
  {
   "cell_type": "code",
   "execution_count": 48,
   "metadata": {},
   "outputs": [
    {
     "data": {
      "application/vnd.plotly.v1+json": {
       "config": {
        "plotlyServerURL": "https://plot.ly"
       },
       "data": [
        {
         "boxpoints": "all",
         "hovertemplate": "%{text}<extra></extra>",
         "jitter": 0.3,
         "marker": {
          "color": "rgb(141,211,199)"
         },
         "name": "SmolLM3-3B",
         "pointpos": -1.8,
         "showlegend": false,
         "text": [
          "Model: SmolLM3-3B<br>Language: pol<br>Score: 0.3684",
          "Model: SmolLM3-3B<br>Language: nld<br>Score: 0.6",
          "Model: SmolLM3-3B<br>Language: fra<br>Score: 0.5139",
          "Model: SmolLM3-3B<br>Language: deu<br>Score: 0.5833",
          "Model: SmolLM3-3B<br>Language: eng<br>Score: 0.5256",
          "Model: SmolLM3-3B<br>Language: est<br>Score: 0.5",
          "Model: SmolLM3-3B<br>Language: por<br>Score: 0.6667"
         ],
         "type": "box",
         "xaxis": "x",
         "y": {
          "bdata": "ayv2l92T1z8zMzMzMzPjP8RCrWneceA/tTf4wmSq4j8Z4lgXt9HgPwAAAAAAAOA/S8gHPZtV5T8=",
          "dtype": "f8"
         },
         "yaxis": "y"
        },
        {
         "boxpoints": "all",
         "hovertemplate": "%{text}<extra></extra>",
         "jitter": 0.3,
         "marker": {
          "color": "rgb(255,255,179)"
         },
         "name": "Mistral-Nemo-Instruct-2407",
         "pointpos": -1.8,
         "showlegend": false,
         "text": [
          "Model: Mistral-Nemo-Instruct-2407<br>Language: nld<br>Score: 0.7286",
          "Model: Mistral-Nemo-Instruct-2407<br>Language: eng<br>Score: 0.8056",
          "Model: Mistral-Nemo-Instruct-2407<br>Language: pol<br>Score: 0.6528",
          "Model: Mistral-Nemo-Instruct-2407<br>Language: deu<br>Score: 0.7639",
          "Model: Mistral-Nemo-Instruct-2407<br>Language: fra<br>Score: 0.7714",
          "Model: Mistral-Nemo-Instruct-2407<br>Language: est<br>Score: 0.6306",
          "Model: Mistral-Nemo-Instruct-2407<br>Language: por<br>Score: 0.5571"
         ],
         "type": "box",
         "xaxis": "x",
         "y": {
          "bdata": "/7J78rBQ5z8PC7WmecfpP4iFWtO84+Q/xEKtad5x6D8BTYQNT6/oP3ZxGw3gLeQ/T0ATYcPT4T8=",
          "dtype": "f8"
         },
         "yaxis": "y"
        },
        {
         "boxpoints": "all",
         "hovertemplate": "%{text}<extra></extra>",
         "jitter": 0.3,
         "marker": {
          "color": "rgb(190,186,218)"
         },
         "name": "Qwen3-4B",
         "pointpos": -1.8,
         "showlegend": false,
         "text": [
          "Model: Qwen3-4B<br>Language: pol<br>Score: 0.819",
          "Model: Qwen3-4B<br>Language: est<br>Score: 0.8762",
          "Model: Qwen3-4B<br>Language: eng<br>Score: 0.7762",
          "Model: Qwen3-4B<br>Language: nld<br>Score: 0.8619",
          "Model: Qwen3-4B<br>Language: deu<br>Score: 0.8381",
          "Model: Qwen3-4B<br>Language: fra<br>Score: 0.8619",
          "Model: Qwen3-4B<br>Language: por<br>Score: 0.8333"
         ],
         "type": "box",
         "xaxis": "x",
         "y": {
          "bdata": "aJHtfD816j+ZKhiV1AnsP2b35GGh1ug/TYQNT6+U6z8Z4lgXt9HqP02EDU+vlOs/tTf4wmSq6j8=",
          "dtype": "f8"
         },
         "yaxis": "y"
        },
        {
         "boxpoints": "all",
         "hovertemplate": "%{text}<extra></extra>",
         "jitter": 0.3,
         "marker": {
          "color": "rgb(251,128,114)"
         },
         "name": "gpt-oss-20b",
         "pointpos": -1.8,
         "showlegend": false,
         "text": [
          "Model: gpt-oss-20b<br>Language: pol<br>Score: 0.8619",
          "Model: gpt-oss-20b<br>Language: est<br>Score: 0.838",
          "Model: gpt-oss-20b<br>Language: nld<br>Score: 0.9048",
          "Model: gpt-oss-20b<br>Language: deu<br>Score: 0.8667",
          "Model: gpt-oss-20b<br>Language: por<br>Score: 0.8667",
          "Model: gpt-oss-20b<br>Language: fra<br>Score: 0.8476",
          "Model: gpt-oss-20b<br>Language: eng<br>Score: 0.8667"
         ],
         "type": "box",
         "xaxis": "x",
         "y": {
          "bdata": "TYQNT6+U6z83iUFg5dDqPzJ3LSEf9Ow/si5uowG86z+yLm6jAbzrPwHeAgmKH+s/si5uowG86z8=",
          "dtype": "f8"
         },
         "yaxis": "y"
        },
        {
         "boxpoints": "all",
         "hovertemplate": "%{text}<extra></extra>",
         "jitter": 0.3,
         "marker": {
          "color": "rgb(128,177,211)"
         },
         "name": "Qwen3-14B",
         "pointpos": -1.8,
         "showlegend": false,
         "text": [
          "Model: Qwen3-14B<br>Language: deu<br>Score: 0.7375",
          "Model: Qwen3-14B<br>Language: est<br>Score: 0.8333",
          "Model: Qwen3-14B<br>Language: nld<br>Score: 0.8905",
          "Model: Qwen3-14B<br>Language: eng<br>Score: 0.9048",
          "Model: Qwen3-14B<br>Language: fra<br>Score: 0.9048",
          "Model: Qwen3-14B<br>Language: pol<br>Score: 0.8619",
          "Model: Qwen3-14B<br>Language: por<br>Score: 0.9048"
         ],
         "type": "box",
         "xaxis": "x",
         "y": {
          "bdata": "mpmZmZmZ5z+1N/jCZKrqP+XQItv5fuw/MnctIR/07D8ydy0hH/TsP02EDU+vlOs/MnctIR/07D8=",
          "dtype": "f8"
         },
         "yaxis": "y"
        },
        {
         "boxpoints": "all",
         "hovertemplate": "%{text}<extra></extra>",
         "jitter": 0.3,
         "marker": {
          "color": "rgb(253,180,98)"
         },
         "name": "Qwen3-8B",
         "pointpos": -1.8,
         "showlegend": false,
         "text": [
          "Model: Qwen3-8B<br>Language: por<br>Score: 0.9048",
          "Model: Qwen3-8B<br>Language: eng<br>Score: 0.9476",
          "Model: Qwen3-8B<br>Language: pol<br>Score: 0.919",
          "Model: Qwen3-8B<br>Language: deu<br>Score: 0.9333",
          "Model: Qwen3-8B<br>Language: fra<br>Score: 0.8619",
          "Model: Qwen3-8B<br>Language: nld<br>Score: 0.9333",
          "Model: Qwen3-8B<br>Language: est<br>Score: 0.8476"
         ],
         "type": "box",
         "xaxis": "x",
         "y": {
          "bdata": "MnctIR/07D80ETY8vVLuP5zEILByaO0/6Gor9pfd7T9NhA1Pr5TrP+hqK/aX3e0/Ad4CCYof6z8=",
          "dtype": "f8"
         },
         "yaxis": "y"
        },
        {
         "boxpoints": "all",
         "hovertemplate": "%{text}<extra></extra>",
         "jitter": 0.3,
         "marker": {
          "color": "rgb(141,211,199)"
         },
         "name": "Mistral-Nemo-Instruct-2407",
         "pointpos": -1.8,
         "showlegend": false,
         "text": [
          "Model: Mistral-Nemo-Instruct-2407<br>Language: nld<br>Score: 0.763",
          "Model: Mistral-Nemo-Instruct-2407<br>Language: eng<br>Score: 0.7407",
          "Model: Mistral-Nemo-Instruct-2407<br>Language: pol<br>Score: 0.6407",
          "Model: Mistral-Nemo-Instruct-2407<br>Language: deu<br>Score: 0.7407",
          "Model: Mistral-Nemo-Instruct-2407<br>Language: fra<br>Score: 0.7296",
          "Model: Mistral-Nemo-Instruct-2407<br>Language: est<br>Score: 0.5963",
          "Model: Mistral-Nemo-Instruct-2407<br>Language: por<br>Score: 0.7407"
         ],
         "type": "box",
         "xaxis": "x2",
         "y": {
          "bdata": "0SLb+X5q6D/dtYR80LPnP6qCUUmdgOQ/3bWEfNCz5z/UK2UZ4ljnP4Za07zjFOM/3bWEfNCz5z8=",
          "dtype": "f8"
         },
         "yaxis": "y2"
        },
        {
         "boxpoints": "all",
         "hovertemplate": "%{text}<extra></extra>",
         "jitter": 0.3,
         "marker": {
          "color": "rgb(255,255,179)"
         },
         "name": "SmolLM3-3B",
         "pointpos": -1.8,
         "showlegend": false,
         "text": [
          "Model: SmolLM3-3B<br>Language: pol<br>Score: 0.6944",
          "Model: SmolLM3-3B<br>Language: nld<br>Score: 0.8",
          "Model: SmolLM3-3B<br>Language: fra<br>Score: 0.7852",
          "Model: SmolLM3-3B<br>Language: deu<br>Score: 0.85",
          "Model: SmolLM3-3B<br>Language: eng<br>Score: 0.7333",
          "Model: SmolLM3-3B<br>Language: est<br>Score: 0.7741",
          "Model: SmolLM3-3B<br>Language: por<br>Score: 0.8722"
         ],
         "type": "box",
         "xaxis": "x2",
         "y": {
          "bdata": "8fRKWYY45j+amZmZmZnpP+M2GsBbIOk/MzMzMzMz6z+BBMWPMXfnP9qs+lxtxeg/RUdy+Q/p6z8=",
          "dtype": "f8"
         },
         "yaxis": "y2"
        },
        {
         "boxpoints": "all",
         "hovertemplate": "%{text}<extra></extra>",
         "jitter": 0.3,
         "marker": {
          "color": "rgb(190,186,218)"
         },
         "name": "Qwen3-4B",
         "pointpos": -1.8,
         "showlegend": false,
         "text": [
          "Model: Qwen3-4B<br>Language: pol<br>Score: 0.9333",
          "Model: Qwen3-4B<br>Language: est<br>Score: 0.9222",
          "Model: Qwen3-4B<br>Language: eng<br>Score: 0.8444",
          "Model: Qwen3-4B<br>Language: nld<br>Score: 0.9222",
          "Model: Qwen3-4B<br>Language: deu<br>Score: 0.9556",
          "Model: Qwen3-4B<br>Language: fra<br>Score: 0.9778",
          "Model: Qwen3-4B<br>Language: por<br>Score: 0.8889"
         ],
         "type": "box",
         "xaxis": "x2",
         "y": {
          "bdata": "6Gor9pfd7T/f4AuTqYLtP77BFyZTBes/3+ALk6mC7T/c14FzRpTuP+7rwDkjSu8/xEKtad5x7D8=",
          "dtype": "f8"
         },
         "yaxis": "y2"
        },
        {
         "boxpoints": "all",
         "hovertemplate": "%{text}<extra></extra>",
         "jitter": 0.3,
         "marker": {
          "color": "rgb(251,128,114)"
         },
         "name": "Qwen3-14B",
         "pointpos": -1.8,
         "showlegend": false,
         "text": [
          "Model: Qwen3-14B<br>Language: deu<br>Score: 0.93",
          "Model: Qwen3-14B<br>Language: est<br>Score: 1.0",
          "Model: Qwen3-14B<br>Language: nld<br>Score: 0.9222",
          "Model: Qwen3-14B<br>Language: eng<br>Score: 0.9778",
          "Model: Qwen3-14B<br>Language: fra<br>Score: 0.9667",
          "Model: Qwen3-14B<br>Language: pol<br>Score: 0.9778",
          "Model: Qwen3-14B<br>Language: por<br>Score: 0.9889"
         ],
         "type": "box",
         "xaxis": "x2",
         "y": {
          "bdata": "w/UoXI/C7T8AAAAAAADwP9/gC5Opgu0/7uvAOSNK7z/lYaHWNO/uP+7rwDkjSu8/93XgnBGl7z8=",
          "dtype": "f8"
         },
         "yaxis": "y2"
        },
        {
         "boxpoints": "all",
         "hovertemplate": "%{text}<extra></extra>",
         "jitter": 0.3,
         "marker": {
          "color": "rgb(128,177,211)"
         },
         "name": "Qwen3-8B",
         "pointpos": -1.8,
         "showlegend": false,
         "text": [
          "Model: Qwen3-8B<br>Language: por<br>Score: 0.9667",
          "Model: Qwen3-8B<br>Language: eng<br>Score: 1.0",
          "Model: Qwen3-8B<br>Language: pol<br>Score: 0.9778",
          "Model: Qwen3-8B<br>Language: deu<br>Score: 0.9778",
          "Model: Qwen3-8B<br>Language: fra<br>Score: 0.9963",
          "Model: Qwen3-8B<br>Language: nld<br>Score: 1.0",
          "Model: Qwen3-8B<br>Language: est<br>Score: 0.9667"
         ],
         "type": "box",
         "xaxis": "x2",
         "y": {
          "bdata": "5WGh1jTv7j8AAAAAAADwP+7rwDkjSu8/7uvAOSNK7z9SJ6CJsOHvPwAAAAAAAPA/5WGh1jTv7j8=",
          "dtype": "f8"
         },
         "yaxis": "y2"
        },
        {
         "boxpoints": "all",
         "hovertemplate": "%{text}<extra></extra>",
         "jitter": 0.3,
         "marker": {
          "color": "rgb(253,180,98)"
         },
         "name": "gpt-oss-20b",
         "pointpos": -1.8,
         "showlegend": false,
         "text": [
          "Model: gpt-oss-20b<br>Language: pol<br>Score: 1.0",
          "Model: gpt-oss-20b<br>Language: est<br>Score: 0.9741",
          "Model: gpt-oss-20b<br>Language: nld<br>Score: 0.9963",
          "Model: gpt-oss-20b<br>Language: deu<br>Score: 1.0",
          "Model: gpt-oss-20b<br>Language: por<br>Score: 1.0",
          "Model: gpt-oss-20b<br>Language: fra<br>Score: 0.9407",
          "Model: gpt-oss-20b<br>Language: eng<br>Score: 0.963"
         ],
         "type": "box",
         "xaxis": "x2",
         "y": {
          "bdata": "AAAAAAAA8D9AE2HD0yvvP1InoImw4e8/AAAAAAAA8D8AAAAAAADwP0Mc6+I2Gu4/N4lBYOXQ7j8=",
          "dtype": "f8"
         },
         "yaxis": "y2"
        }
       ],
       "layout": {
        "annotations": [
         {
          "font": {
           "size": 16
          },
          "showarrow": false,
          "text": "Argument Correctness",
          "x": 0.225,
          "xanchor": "center",
          "xref": "paper",
          "y": 1,
          "yanchor": "bottom",
          "yref": "paper"
         },
         {
          "font": {
           "size": 16
          },
          "showarrow": false,
          "text": "Tool Correctness",
          "x": 0.775,
          "xanchor": "center",
          "xref": "paper",
          "y": 1,
          "yanchor": "bottom",
          "yref": "paper"
         }
        ],
        "height": 600,
        "showlegend": false,
        "template": {
         "data": {
          "bar": [
           {
            "error_x": {
             "color": "#2a3f5f"
            },
            "error_y": {
             "color": "#2a3f5f"
            },
            "marker": {
             "line": {
              "color": "#E5ECF6",
              "width": 0.5
             },
             "pattern": {
              "fillmode": "overlay",
              "size": 10,
              "solidity": 0.2
             }
            },
            "type": "bar"
           }
          ],
          "barpolar": [
           {
            "marker": {
             "line": {
              "color": "#E5ECF6",
              "width": 0.5
             },
             "pattern": {
              "fillmode": "overlay",
              "size": 10,
              "solidity": 0.2
             }
            },
            "type": "barpolar"
           }
          ],
          "carpet": [
           {
            "aaxis": {
             "endlinecolor": "#2a3f5f",
             "gridcolor": "white",
             "linecolor": "white",
             "minorgridcolor": "white",
             "startlinecolor": "#2a3f5f"
            },
            "baxis": {
             "endlinecolor": "#2a3f5f",
             "gridcolor": "white",
             "linecolor": "white",
             "minorgridcolor": "white",
             "startlinecolor": "#2a3f5f"
            },
            "type": "carpet"
           }
          ],
          "choropleth": [
           {
            "colorbar": {
             "outlinewidth": 0,
             "ticks": ""
            },
            "type": "choropleth"
           }
          ],
          "contour": [
           {
            "colorbar": {
             "outlinewidth": 0,
             "ticks": ""
            },
            "colorscale": [
             [
              0,
              "#0d0887"
             ],
             [
              0.1111111111111111,
              "#46039f"
             ],
             [
              0.2222222222222222,
              "#7201a8"
             ],
             [
              0.3333333333333333,
              "#9c179e"
             ],
             [
              0.4444444444444444,
              "#bd3786"
             ],
             [
              0.5555555555555556,
              "#d8576b"
             ],
             [
              0.6666666666666666,
              "#ed7953"
             ],
             [
              0.7777777777777778,
              "#fb9f3a"
             ],
             [
              0.8888888888888888,
              "#fdca26"
             ],
             [
              1,
              "#f0f921"
             ]
            ],
            "type": "contour"
           }
          ],
          "contourcarpet": [
           {
            "colorbar": {
             "outlinewidth": 0,
             "ticks": ""
            },
            "type": "contourcarpet"
           }
          ],
          "heatmap": [
           {
            "colorbar": {
             "outlinewidth": 0,
             "ticks": ""
            },
            "colorscale": [
             [
              0,
              "#0d0887"
             ],
             [
              0.1111111111111111,
              "#46039f"
             ],
             [
              0.2222222222222222,
              "#7201a8"
             ],
             [
              0.3333333333333333,
              "#9c179e"
             ],
             [
              0.4444444444444444,
              "#bd3786"
             ],
             [
              0.5555555555555556,
              "#d8576b"
             ],
             [
              0.6666666666666666,
              "#ed7953"
             ],
             [
              0.7777777777777778,
              "#fb9f3a"
             ],
             [
              0.8888888888888888,
              "#fdca26"
             ],
             [
              1,
              "#f0f921"
             ]
            ],
            "type": "heatmap"
           }
          ],
          "histogram": [
           {
            "marker": {
             "pattern": {
              "fillmode": "overlay",
              "size": 10,
              "solidity": 0.2
             }
            },
            "type": "histogram"
           }
          ],
          "histogram2d": [
           {
            "colorbar": {
             "outlinewidth": 0,
             "ticks": ""
            },
            "colorscale": [
             [
              0,
              "#0d0887"
             ],
             [
              0.1111111111111111,
              "#46039f"
             ],
             [
              0.2222222222222222,
              "#7201a8"
             ],
             [
              0.3333333333333333,
              "#9c179e"
             ],
             [
              0.4444444444444444,
              "#bd3786"
             ],
             [
              0.5555555555555556,
              "#d8576b"
             ],
             [
              0.6666666666666666,
              "#ed7953"
             ],
             [
              0.7777777777777778,
              "#fb9f3a"
             ],
             [
              0.8888888888888888,
              "#fdca26"
             ],
             [
              1,
              "#f0f921"
             ]
            ],
            "type": "histogram2d"
           }
          ],
          "histogram2dcontour": [
           {
            "colorbar": {
             "outlinewidth": 0,
             "ticks": ""
            },
            "colorscale": [
             [
              0,
              "#0d0887"
             ],
             [
              0.1111111111111111,
              "#46039f"
             ],
             [
              0.2222222222222222,
              "#7201a8"
             ],
             [
              0.3333333333333333,
              "#9c179e"
             ],
             [
              0.4444444444444444,
              "#bd3786"
             ],
             [
              0.5555555555555556,
              "#d8576b"
             ],
             [
              0.6666666666666666,
              "#ed7953"
             ],
             [
              0.7777777777777778,
              "#fb9f3a"
             ],
             [
              0.8888888888888888,
              "#fdca26"
             ],
             [
              1,
              "#f0f921"
             ]
            ],
            "type": "histogram2dcontour"
           }
          ],
          "mesh3d": [
           {
            "colorbar": {
             "outlinewidth": 0,
             "ticks": ""
            },
            "type": "mesh3d"
           }
          ],
          "parcoords": [
           {
            "line": {
             "colorbar": {
              "outlinewidth": 0,
              "ticks": ""
             }
            },
            "type": "parcoords"
           }
          ],
          "pie": [
           {
            "automargin": true,
            "type": "pie"
           }
          ],
          "scatter": [
           {
            "fillpattern": {
             "fillmode": "overlay",
             "size": 10,
             "solidity": 0.2
            },
            "type": "scatter"
           }
          ],
          "scatter3d": [
           {
            "line": {
             "colorbar": {
              "outlinewidth": 0,
              "ticks": ""
             }
            },
            "marker": {
             "colorbar": {
              "outlinewidth": 0,
              "ticks": ""
             }
            },
            "type": "scatter3d"
           }
          ],
          "scattercarpet": [
           {
            "marker": {
             "colorbar": {
              "outlinewidth": 0,
              "ticks": ""
             }
            },
            "type": "scattercarpet"
           }
          ],
          "scattergeo": [
           {
            "marker": {
             "colorbar": {
              "outlinewidth": 0,
              "ticks": ""
             }
            },
            "type": "scattergeo"
           }
          ],
          "scattergl": [
           {
            "marker": {
             "colorbar": {
              "outlinewidth": 0,
              "ticks": ""
             }
            },
            "type": "scattergl"
           }
          ],
          "scattermap": [
           {
            "marker": {
             "colorbar": {
              "outlinewidth": 0,
              "ticks": ""
             }
            },
            "type": "scattermap"
           }
          ],
          "scattermapbox": [
           {
            "marker": {
             "colorbar": {
              "outlinewidth": 0,
              "ticks": ""
             }
            },
            "type": "scattermapbox"
           }
          ],
          "scatterpolar": [
           {
            "marker": {
             "colorbar": {
              "outlinewidth": 0,
              "ticks": ""
             }
            },
            "type": "scatterpolar"
           }
          ],
          "scatterpolargl": [
           {
            "marker": {
             "colorbar": {
              "outlinewidth": 0,
              "ticks": ""
             }
            },
            "type": "scatterpolargl"
           }
          ],
          "scatterternary": [
           {
            "marker": {
             "colorbar": {
              "outlinewidth": 0,
              "ticks": ""
             }
            },
            "type": "scatterternary"
           }
          ],
          "surface": [
           {
            "colorbar": {
             "outlinewidth": 0,
             "ticks": ""
            },
            "colorscale": [
             [
              0,
              "#0d0887"
             ],
             [
              0.1111111111111111,
              "#46039f"
             ],
             [
              0.2222222222222222,
              "#7201a8"
             ],
             [
              0.3333333333333333,
              "#9c179e"
             ],
             [
              0.4444444444444444,
              "#bd3786"
             ],
             [
              0.5555555555555556,
              "#d8576b"
             ],
             [
              0.6666666666666666,
              "#ed7953"
             ],
             [
              0.7777777777777778,
              "#fb9f3a"
             ],
             [
              0.8888888888888888,
              "#fdca26"
             ],
             [
              1,
              "#f0f921"
             ]
            ],
            "type": "surface"
           }
          ],
          "table": [
           {
            "cells": {
             "fill": {
              "color": "#EBF0F8"
             },
             "line": {
              "color": "white"
             }
            },
            "header": {
             "fill": {
              "color": "#C8D4E3"
             },
             "line": {
              "color": "white"
             }
            },
            "type": "table"
           }
          ]
         },
         "layout": {
          "annotationdefaults": {
           "arrowcolor": "#2a3f5f",
           "arrowhead": 0,
           "arrowwidth": 1
          },
          "autotypenumbers": "strict",
          "coloraxis": {
           "colorbar": {
            "outlinewidth": 0,
            "ticks": ""
           }
          },
          "colorscale": {
           "diverging": [
            [
             0,
             "#8e0152"
            ],
            [
             0.1,
             "#c51b7d"
            ],
            [
             0.2,
             "#de77ae"
            ],
            [
             0.3,
             "#f1b6da"
            ],
            [
             0.4,
             "#fde0ef"
            ],
            [
             0.5,
             "#f7f7f7"
            ],
            [
             0.6,
             "#e6f5d0"
            ],
            [
             0.7,
             "#b8e186"
            ],
            [
             0.8,
             "#7fbc41"
            ],
            [
             0.9,
             "#4d9221"
            ],
            [
             1,
             "#276419"
            ]
           ],
           "sequential": [
            [
             0,
             "#0d0887"
            ],
            [
             0.1111111111111111,
             "#46039f"
            ],
            [
             0.2222222222222222,
             "#7201a8"
            ],
            [
             0.3333333333333333,
             "#9c179e"
            ],
            [
             0.4444444444444444,
             "#bd3786"
            ],
            [
             0.5555555555555556,
             "#d8576b"
            ],
            [
             0.6666666666666666,
             "#ed7953"
            ],
            [
             0.7777777777777778,
             "#fb9f3a"
            ],
            [
             0.8888888888888888,
             "#fdca26"
            ],
            [
             1,
             "#f0f921"
            ]
           ],
           "sequentialminus": [
            [
             0,
             "#0d0887"
            ],
            [
             0.1111111111111111,
             "#46039f"
            ],
            [
             0.2222222222222222,
             "#7201a8"
            ],
            [
             0.3333333333333333,
             "#9c179e"
            ],
            [
             0.4444444444444444,
             "#bd3786"
            ],
            [
             0.5555555555555556,
             "#d8576b"
            ],
            [
             0.6666666666666666,
             "#ed7953"
            ],
            [
             0.7777777777777778,
             "#fb9f3a"
            ],
            [
             0.8888888888888888,
             "#fdca26"
            ],
            [
             1,
             "#f0f921"
            ]
           ]
          },
          "colorway": [
           "#636efa",
           "#EF553B",
           "#00cc96",
           "#ab63fa",
           "#FFA15A",
           "#19d3f3",
           "#FF6692",
           "#B6E880",
           "#FF97FF",
           "#FECB52"
          ],
          "font": {
           "color": "#2a3f5f"
          },
          "geo": {
           "bgcolor": "white",
           "lakecolor": "white",
           "landcolor": "#E5ECF6",
           "showlakes": true,
           "showland": true,
           "subunitcolor": "white"
          },
          "hoverlabel": {
           "align": "left"
          },
          "hovermode": "closest",
          "mapbox": {
           "style": "light"
          },
          "paper_bgcolor": "white",
          "plot_bgcolor": "#E5ECF6",
          "polar": {
           "angularaxis": {
            "gridcolor": "white",
            "linecolor": "white",
            "ticks": ""
           },
           "bgcolor": "#E5ECF6",
           "radialaxis": {
            "gridcolor": "white",
            "linecolor": "white",
            "ticks": ""
           }
          },
          "scene": {
           "xaxis": {
            "backgroundcolor": "#E5ECF6",
            "gridcolor": "white",
            "gridwidth": 2,
            "linecolor": "white",
            "showbackground": true,
            "ticks": "",
            "zerolinecolor": "white"
           },
           "yaxis": {
            "backgroundcolor": "#E5ECF6",
            "gridcolor": "white",
            "gridwidth": 2,
            "linecolor": "white",
            "showbackground": true,
            "ticks": "",
            "zerolinecolor": "white"
           },
           "zaxis": {
            "backgroundcolor": "#E5ECF6",
            "gridcolor": "white",
            "gridwidth": 2,
            "linecolor": "white",
            "showbackground": true,
            "ticks": "",
            "zerolinecolor": "white"
           }
          },
          "shapedefaults": {
           "line": {
            "color": "#2a3f5f"
           }
          },
          "ternary": {
           "aaxis": {
            "gridcolor": "white",
            "linecolor": "white",
            "ticks": ""
           },
           "baxis": {
            "gridcolor": "white",
            "linecolor": "white",
            "ticks": ""
           },
           "bgcolor": "#E5ECF6",
           "caxis": {
            "gridcolor": "white",
            "linecolor": "white",
            "ticks": ""
           }
          },
          "title": {
           "x": 0.05
          },
          "xaxis": {
           "automargin": true,
           "gridcolor": "white",
           "linecolor": "white",
           "ticks": "",
           "title": {
            "standoff": 15
           },
           "zerolinecolor": "white",
           "zerolinewidth": 2
          },
          "yaxis": {
           "automargin": true,
           "gridcolor": "white",
           "linecolor": "white",
           "ticks": "",
           "title": {
            "standoff": 15
           },
           "zerolinecolor": "white",
           "zerolinewidth": 2
          }
         }
        },
        "title": {
         "text": "Multilingual Agent Evaluation Results - All Metrics"
        },
        "xaxis": {
         "anchor": "y",
         "domain": [
          0,
          0.45
         ],
         "tickangle": 45
        },
        "xaxis2": {
         "anchor": "y2",
         "domain": [
          0.55,
          1
         ],
         "tickangle": 45
        },
        "yaxis": {
         "anchor": "x",
         "domain": [
          0,
          1
         ],
         "title": {
          "text": "Score"
         }
        },
        "yaxis2": {
         "anchor": "x2",
         "domain": [
          0,
          1
         ],
         "title": {
          "text": ""
         }
        }
       }
      }
     },
     "metadata": {},
     "output_type": "display_data"
    }
   ],
   "source": [
    "# Get unique metrics\n",
    "metrics = sorted(df['metric'].unique())\n",
    "n_metrics = len(metrics)\n",
    "\n",
    "# Create combined subplot with all metrics\n",
    "fig = make_subplots(\n",
    "    rows=1, cols=n_metrics,\n",
    "    subplot_titles=metrics,\n",
    "    horizontal_spacing=0.1\n",
    ")\n",
    "\n",
    "colors = px.colors.qualitative.Set3\n",
    "\n",
    "for i, metric in enumerate(metrics):\n",
    "    # Filter data for this metric\n",
    "    metric_data = df[df['metric'] == metric]\n",
    "    \n",
    "    # Sort models by median performance\n",
    "    model_medians = metric_data.groupby('model_clean')['score'].median().sort_values()\n",
    "    model_order = model_medians.index.tolist()\n",
    "    \n",
    "    # Create box plot for each model\n",
    "    for j, model in enumerate(model_order):\n",
    "        model_data = metric_data[metric_data['model_clean'] == model]\n",
    "        model_scores = model_data['score']\n",
    "        model_languages = model_data['language']\n",
    "        \n",
    "        # Create custom hover text with language information\n",
    "        hover_text = [f\"Model: {model}<br>Language: {lang}<br>Score: {score}\" \n",
    "                      for lang, score in zip(model_languages, model_scores)]\n",
    "        \n",
    "        fig.add_trace(\n",
    "            go.Box(\n",
    "                y=model_scores,\n",
    "                name=model,\n",
    "                boxpoints='all',\n",
    "                jitter=0.3,\n",
    "                pointpos=-1.8,\n",
    "                marker=dict(color=colors[j % len(colors)]),\n",
    "                showlegend=False,\n",
    "                text=hover_text,\n",
    "                hovertemplate='%{text}<extra></extra>'\n",
    "            ),\n",
    "            row=1, col=i+1\n",
    "        )\n",
    "    \n",
    "    # Update x-axis for this subplot\n",
    "    fig.update_xaxes(\n",
    "        tickangle=45,\n",
    "        row=1, col=i+1\n",
    "    )\n",
    "    \n",
    "    # Update y-axis for this subplot\n",
    "    fig.update_yaxes(\n",
    "        title_text=\"Score\" if i == 0 else \"\",\n",
    "        row=1, col=i+1\n",
    "    )\n",
    "\n",
    "fig.update_layout(\n",
    "    title=\"Multilingual Agent Evaluation Results - All Metrics\",\n",
    "    height=600,\n",
    "    showlegend=False\n",
    ")\n",
    "\n",
    "fig.show()"
   ]
  },
  {
   "cell_type": "code",
   "execution_count": 49,
   "metadata": {},
   "outputs": [
    {
     "name": "stdout",
     "output_type": "stream",
     "text": [
      "Exporting interactive visualizations to HTML...\n",
      "✓ Exported combined metrics boxplot\n"
     ]
    }
   ],
   "source": [
    "# Export interactive visualizations as HTML files\n",
    "import os\n",
    "\n",
    "# Create docs directory if it doesn't exist\n",
    "docs_dir = 'docs'\n",
    "os.makedirs(docs_dir, exist_ok=True)\n",
    "\n",
    "print(\"Exporting interactive visualizations to HTML...\")\n",
    "\n",
    "# Export the combined subplot\n",
    "fig.write_html(f\"{docs_dir}/combined_metrics_boxplot.html\")\n",
    "print(\"✓ Exported combined metrics boxplot\")"
   ]
  },
  {
   "cell_type": "code",
   "execution_count": 50,
   "metadata": {},
   "outputs": [
    {
     "name": "stdout",
     "output_type": "stream",
     "text": [
      "Loaded 3780 detailed test results\n",
      "Categories: ['absolute_date', 'no_tool_call', 'relative_date']\n"
     ]
    },
    {
     "data": {
      "text/html": [
       "<div>\n",
       "<style scoped>\n",
       "    .dataframe tbody tr th:only-of-type {\n",
       "        vertical-align: middle;\n",
       "    }\n",
       "\n",
       "    .dataframe tbody tr th {\n",
       "        vertical-align: top;\n",
       "    }\n",
       "\n",
       "    .dataframe thead th {\n",
       "        text-align: right;\n",
       "    }\n",
       "</style>\n",
       "<table border=\"1\" class=\"dataframe\">\n",
       "  <thead>\n",
       "    <tr style=\"text-align: right;\">\n",
       "      <th></th>\n",
       "      <th>model</th>\n",
       "      <th>language</th>\n",
       "      <th>category</th>\n",
       "      <th>metric</th>\n",
       "      <th>score</th>\n",
       "      <th>eval_item_id</th>\n",
       "      <th>model_clean</th>\n",
       "      <th>lang_category</th>\n",
       "    </tr>\n",
       "  </thead>\n",
       "  <tbody>\n",
       "    <tr>\n",
       "      <th>0</th>\n",
       "      <td>Qwen/Qwen3-14B</td>\n",
       "      <td>deu</td>\n",
       "      <td>no_tool_call</td>\n",
       "      <td>Tool Correctness</td>\n",
       "      <td>1.0</td>\n",
       "      <td>1</td>\n",
       "      <td>Qwen3-14B</td>\n",
       "      <td>deu_no_tool_call</td>\n",
       "    </tr>\n",
       "    <tr>\n",
       "      <th>1</th>\n",
       "      <td>Qwen/Qwen3-14B</td>\n",
       "      <td>deu</td>\n",
       "      <td>no_tool_call</td>\n",
       "      <td>Argument Correctness</td>\n",
       "      <td>1.0</td>\n",
       "      <td>1</td>\n",
       "      <td>Qwen3-14B</td>\n",
       "      <td>deu_no_tool_call</td>\n",
       "    </tr>\n",
       "    <tr>\n",
       "      <th>2</th>\n",
       "      <td>Qwen/Qwen3-14B</td>\n",
       "      <td>deu</td>\n",
       "      <td>no_tool_call</td>\n",
       "      <td>Tool Correctness</td>\n",
       "      <td>1.0</td>\n",
       "      <td>2</td>\n",
       "      <td>Qwen3-14B</td>\n",
       "      <td>deu_no_tool_call</td>\n",
       "    </tr>\n",
       "    <tr>\n",
       "      <th>3</th>\n",
       "      <td>Qwen/Qwen3-14B</td>\n",
       "      <td>deu</td>\n",
       "      <td>no_tool_call</td>\n",
       "      <td>Argument Correctness</td>\n",
       "      <td>1.0</td>\n",
       "      <td>2</td>\n",
       "      <td>Qwen3-14B</td>\n",
       "      <td>deu_no_tool_call</td>\n",
       "    </tr>\n",
       "    <tr>\n",
       "      <th>4</th>\n",
       "      <td>Qwen/Qwen3-14B</td>\n",
       "      <td>deu</td>\n",
       "      <td>no_tool_call</td>\n",
       "      <td>Tool Correctness</td>\n",
       "      <td>1.0</td>\n",
       "      <td>3</td>\n",
       "      <td>Qwen3-14B</td>\n",
       "      <td>deu_no_tool_call</td>\n",
       "    </tr>\n",
       "  </tbody>\n",
       "</table>\n",
       "</div>"
      ],
      "text/plain": [
       "            model language      category                metric  score  \\\n",
       "0  Qwen/Qwen3-14B      deu  no_tool_call      Tool Correctness    1.0   \n",
       "1  Qwen/Qwen3-14B      deu  no_tool_call  Argument Correctness    1.0   \n",
       "2  Qwen/Qwen3-14B      deu  no_tool_call      Tool Correctness    1.0   \n",
       "3  Qwen/Qwen3-14B      deu  no_tool_call  Argument Correctness    1.0   \n",
       "4  Qwen/Qwen3-14B      deu  no_tool_call      Tool Correctness    1.0   \n",
       "\n",
       "   eval_item_id model_clean     lang_category  \n",
       "0             1   Qwen3-14B  deu_no_tool_call  \n",
       "1             1   Qwen3-14B  deu_no_tool_call  \n",
       "2             2   Qwen3-14B  deu_no_tool_call  \n",
       "3             2   Qwen3-14B  deu_no_tool_call  \n",
       "4             3   Qwen3-14B  deu_no_tool_call  "
      ]
     },
     "execution_count": 50,
     "metadata": {},
     "output_type": "execute_result"
    }
   ],
   "source": [
    "# Create detailed heatmap breaking down by test categories\n",
    "# Load detailed test results for each category\n",
    "detailed_results = []\n",
    "\n",
    "for json_file in results_dir.glob('*.json'):\n",
    "    with open(json_file, 'r') as f:\n",
    "        data = json.load(f)\n",
    "        \n",
    "    model_name = data.get('model_name', '')\n",
    "    language = data.get('language', '')\n",
    "    \n",
    "    # Process individual test results\n",
    "    test_results = data['evaluation_results']['test_results']\n",
    "    \n",
    "    for test_result in test_results:\n",
    "        eval_item_id = test_result['eval_item_id']\n",
    "        \n",
    "        # Categorize based on ID ranges\n",
    "        if 1 <= eval_item_id <= 5 or 41 <= eval_item_id <= 45:\n",
    "            category = 'no_tool_call'\n",
    "        elif 6 <= eval_item_id <= 25:\n",
    "            category = 'absolute_date'\n",
    "        elif 26 <= eval_item_id <= 40:\n",
    "            category = 'relative_date'\n",
    "        else:\n",
    "            continue  # Skip if outside expected ranges\n",
    "            \n",
    "        # Extract metrics scores for this test\n",
    "        found_metrics = set()\n",
    "        for metric_data in test_result['metrics_data']:\n",
    "            detailed_results.append({\n",
    "                'model': model_name,\n",
    "                'language': language,\n",
    "                'category': category,\n",
    "                'metric': metric_data['name'],\n",
    "                'score': metric_data['score'],\n",
    "                'eval_item_id': eval_item_id\n",
    "            })\n",
    "            found_metrics.add(metric_data['name'])\n",
    "        \n",
    "        # For no_tool_call category, if \"Argument Correctness\" is missing, assume 1.0\n",
    "        if category == 'no_tool_call' and 'Argument Correctness' not in found_metrics:\n",
    "            detailed_results.append({\n",
    "                'model': model_name,\n",
    "                'language': language,\n",
    "                'category': category,\n",
    "                'metric': 'Argument Correctness',\n",
    "                'score': 1.0,\n",
    "                'eval_item_id': eval_item_id\n",
    "            })\n",
    "\n",
    "# Create detailed DataFrame\n",
    "detailed_df = pd.DataFrame(detailed_results)\n",
    "detailed_df['model_clean'] = detailed_df['model'].apply(clean_model_name)\n",
    "\n",
    "print(f\"Loaded {len(detailed_df)} detailed test results\")\n",
    "print(f\"Categories: {sorted(detailed_df['category'].unique())}\")\n",
    "\n",
    "# Create language-category combinations\n",
    "detailed_df['lang_category'] = detailed_df['language'] + '_' + detailed_df['category']\n",
    "\n",
    "detailed_df.head()"
   ]
  },
  {
   "cell_type": "code",
   "execution_count": 51,
   "metadata": {},
   "outputs": [
    {
     "data": {
      "application/vnd.plotly.v1+json": {
       "config": {
        "plotlyServerURL": "https://plot.ly"
       },
       "data": [
        {
         "coloraxis": "coloraxis",
         "hovertemplate": "Language: %{x}<br>Model: %{y}<br>Score: %{z}<extra></extra>",
         "name": "0",
         "text": {
          "bdata": "ppvEILBy6D+YbhKDwMrpP/7UeOkmMeQ/eekmMQis6D+HFtnO91PnP0w3iUFg5eQ/bef7qfHS4T8EVg4tsp3nP/YoXI/C9ew/Di2yne+n6j/2KFyPwvXsP3sUrkfheuw/L90kBoGV6z/2KFyPwvXsPzeJQWDl0Oo/okW28/3U6D/VeOkmMQjsPy/dJAaBles/L90kBoGV6z9oke18PzXqPw4tsp3vp+o/QmDl0CLb7T+8dJMYBFbuP4lBYOXQIus/L90kBoGV6z9CYOXQItvtP5zEILByaO0/9ihcj8L17D8OLbKd76fiP6JFtvP91OA/AAAAAAAA4D+mm8QgsHLgPzMzMzMzM+M/WmQ730+N1z/y0k1iEFjlP1g5tMh2vus/WDm0yHa+6z83iUFg5dDqP4lBYOXQIus/9ihcj8L17D8v3SQGgZXrP1g5tMh2vus/",
          "dtype": "f8",
          "shape": "6, 7"
         },
         "textfont": {
          "size": 10
         },
         "texttemplate": "%{text}",
         "type": "heatmap",
         "x": [
          "deu",
          "eng",
          "est",
          "fra",
          "nld",
          "pol",
          "por"
         ],
         "xaxis": "x",
         "y": [
          "Mistral-Nemo-Instruct-2407",
          "Qwen3-14B",
          "Qwen3-4B",
          "Qwen3-8B",
          "SmolLM3-3B",
          "gpt-oss-20b"
         ],
         "yaxis": "y",
         "z": {
          "bdata": "xEKtad5x6D8PC7WmecfpP3ZxGw3gLeQ/AU2EDU+v6D//snvysFDnP4iFWtO84+Q/T0ATYcPT4T+amZmZmZnnPzJ3LSEf9Ow/tTf4wmSq6j8ydy0hH/TsP+XQItv5fuw/TYQNT6+U6z8ydy0hH/TsPxniWBe30eo/ZvfkYaHW6D+ZKhiV1AnsP02EDU+vlOs/TYQNT6+U6z9oke18PzXqP7U3+MJkquo/6Gor9pfd7T80ETY8vVLuPwHeAgmKH+s/TYQNT6+U6z/oaiv2l93tP5zEILByaO0/MnctIR/07D+1N/jCZKriPxniWBe30eA/AAAAAAAA4D/EQq1p3nHgPzMzMzMzM+M/ayv2l92T1z9LyAc9m1XlP7IubqMBvOs/si5uowG86z83iUFg5dDqPwHeAgmKH+s/MnctIR/07D9NhA1Pr5TrP7IubqMBvOs/",
          "dtype": "f8",
          "shape": "6, 7"
         }
        }
       ],
       "layout": {
        "coloraxis": {
         "colorbar": {
          "title": {
           "text": "Score"
          }
         },
         "colorscale": [
          [
           0,
           "rgb(165,0,38)"
          ],
          [
           0.1,
           "rgb(215,48,39)"
          ],
          [
           0.2,
           "rgb(244,109,67)"
          ],
          [
           0.3,
           "rgb(253,174,97)"
          ],
          [
           0.4,
           "rgb(254,224,139)"
          ],
          [
           0.5,
           "rgb(255,255,191)"
          ],
          [
           0.6,
           "rgb(217,239,139)"
          ],
          [
           0.7,
           "rgb(166,217,106)"
          ],
          [
           0.8,
           "rgb(102,189,99)"
          ],
          [
           0.9,
           "rgb(26,152,80)"
          ],
          [
           1,
           "rgb(0,104,55)"
          ]
         ]
        },
        "height": 400,
        "template": {
         "data": {
          "bar": [
           {
            "error_x": {
             "color": "#2a3f5f"
            },
            "error_y": {
             "color": "#2a3f5f"
            },
            "marker": {
             "line": {
              "color": "#E5ECF6",
              "width": 0.5
             },
             "pattern": {
              "fillmode": "overlay",
              "size": 10,
              "solidity": 0.2
             }
            },
            "type": "bar"
           }
          ],
          "barpolar": [
           {
            "marker": {
             "line": {
              "color": "#E5ECF6",
              "width": 0.5
             },
             "pattern": {
              "fillmode": "overlay",
              "size": 10,
              "solidity": 0.2
             }
            },
            "type": "barpolar"
           }
          ],
          "carpet": [
           {
            "aaxis": {
             "endlinecolor": "#2a3f5f",
             "gridcolor": "white",
             "linecolor": "white",
             "minorgridcolor": "white",
             "startlinecolor": "#2a3f5f"
            },
            "baxis": {
             "endlinecolor": "#2a3f5f",
             "gridcolor": "white",
             "linecolor": "white",
             "minorgridcolor": "white",
             "startlinecolor": "#2a3f5f"
            },
            "type": "carpet"
           }
          ],
          "choropleth": [
           {
            "colorbar": {
             "outlinewidth": 0,
             "ticks": ""
            },
            "type": "choropleth"
           }
          ],
          "contour": [
           {
            "colorbar": {
             "outlinewidth": 0,
             "ticks": ""
            },
            "colorscale": [
             [
              0,
              "#0d0887"
             ],
             [
              0.1111111111111111,
              "#46039f"
             ],
             [
              0.2222222222222222,
              "#7201a8"
             ],
             [
              0.3333333333333333,
              "#9c179e"
             ],
             [
              0.4444444444444444,
              "#bd3786"
             ],
             [
              0.5555555555555556,
              "#d8576b"
             ],
             [
              0.6666666666666666,
              "#ed7953"
             ],
             [
              0.7777777777777778,
              "#fb9f3a"
             ],
             [
              0.8888888888888888,
              "#fdca26"
             ],
             [
              1,
              "#f0f921"
             ]
            ],
            "type": "contour"
           }
          ],
          "contourcarpet": [
           {
            "colorbar": {
             "outlinewidth": 0,
             "ticks": ""
            },
            "type": "contourcarpet"
           }
          ],
          "heatmap": [
           {
            "colorbar": {
             "outlinewidth": 0,
             "ticks": ""
            },
            "colorscale": [
             [
              0,
              "#0d0887"
             ],
             [
              0.1111111111111111,
              "#46039f"
             ],
             [
              0.2222222222222222,
              "#7201a8"
             ],
             [
              0.3333333333333333,
              "#9c179e"
             ],
             [
              0.4444444444444444,
              "#bd3786"
             ],
             [
              0.5555555555555556,
              "#d8576b"
             ],
             [
              0.6666666666666666,
              "#ed7953"
             ],
             [
              0.7777777777777778,
              "#fb9f3a"
             ],
             [
              0.8888888888888888,
              "#fdca26"
             ],
             [
              1,
              "#f0f921"
             ]
            ],
            "type": "heatmap"
           }
          ],
          "histogram": [
           {
            "marker": {
             "pattern": {
              "fillmode": "overlay",
              "size": 10,
              "solidity": 0.2
             }
            },
            "type": "histogram"
           }
          ],
          "histogram2d": [
           {
            "colorbar": {
             "outlinewidth": 0,
             "ticks": ""
            },
            "colorscale": [
             [
              0,
              "#0d0887"
             ],
             [
              0.1111111111111111,
              "#46039f"
             ],
             [
              0.2222222222222222,
              "#7201a8"
             ],
             [
              0.3333333333333333,
              "#9c179e"
             ],
             [
              0.4444444444444444,
              "#bd3786"
             ],
             [
              0.5555555555555556,
              "#d8576b"
             ],
             [
              0.6666666666666666,
              "#ed7953"
             ],
             [
              0.7777777777777778,
              "#fb9f3a"
             ],
             [
              0.8888888888888888,
              "#fdca26"
             ],
             [
              1,
              "#f0f921"
             ]
            ],
            "type": "histogram2d"
           }
          ],
          "histogram2dcontour": [
           {
            "colorbar": {
             "outlinewidth": 0,
             "ticks": ""
            },
            "colorscale": [
             [
              0,
              "#0d0887"
             ],
             [
              0.1111111111111111,
              "#46039f"
             ],
             [
              0.2222222222222222,
              "#7201a8"
             ],
             [
              0.3333333333333333,
              "#9c179e"
             ],
             [
              0.4444444444444444,
              "#bd3786"
             ],
             [
              0.5555555555555556,
              "#d8576b"
             ],
             [
              0.6666666666666666,
              "#ed7953"
             ],
             [
              0.7777777777777778,
              "#fb9f3a"
             ],
             [
              0.8888888888888888,
              "#fdca26"
             ],
             [
              1,
              "#f0f921"
             ]
            ],
            "type": "histogram2dcontour"
           }
          ],
          "mesh3d": [
           {
            "colorbar": {
             "outlinewidth": 0,
             "ticks": ""
            },
            "type": "mesh3d"
           }
          ],
          "parcoords": [
           {
            "line": {
             "colorbar": {
              "outlinewidth": 0,
              "ticks": ""
             }
            },
            "type": "parcoords"
           }
          ],
          "pie": [
           {
            "automargin": true,
            "type": "pie"
           }
          ],
          "scatter": [
           {
            "fillpattern": {
             "fillmode": "overlay",
             "size": 10,
             "solidity": 0.2
            },
            "type": "scatter"
           }
          ],
          "scatter3d": [
           {
            "line": {
             "colorbar": {
              "outlinewidth": 0,
              "ticks": ""
             }
            },
            "marker": {
             "colorbar": {
              "outlinewidth": 0,
              "ticks": ""
             }
            },
            "type": "scatter3d"
           }
          ],
          "scattercarpet": [
           {
            "marker": {
             "colorbar": {
              "outlinewidth": 0,
              "ticks": ""
             }
            },
            "type": "scattercarpet"
           }
          ],
          "scattergeo": [
           {
            "marker": {
             "colorbar": {
              "outlinewidth": 0,
              "ticks": ""
             }
            },
            "type": "scattergeo"
           }
          ],
          "scattergl": [
           {
            "marker": {
             "colorbar": {
              "outlinewidth": 0,
              "ticks": ""
             }
            },
            "type": "scattergl"
           }
          ],
          "scattermap": [
           {
            "marker": {
             "colorbar": {
              "outlinewidth": 0,
              "ticks": ""
             }
            },
            "type": "scattermap"
           }
          ],
          "scattermapbox": [
           {
            "marker": {
             "colorbar": {
              "outlinewidth": 0,
              "ticks": ""
             }
            },
            "type": "scattermapbox"
           }
          ],
          "scatterpolar": [
           {
            "marker": {
             "colorbar": {
              "outlinewidth": 0,
              "ticks": ""
             }
            },
            "type": "scatterpolar"
           }
          ],
          "scatterpolargl": [
           {
            "marker": {
             "colorbar": {
              "outlinewidth": 0,
              "ticks": ""
             }
            },
            "type": "scatterpolargl"
           }
          ],
          "scatterternary": [
           {
            "marker": {
             "colorbar": {
              "outlinewidth": 0,
              "ticks": ""
             }
            },
            "type": "scatterternary"
           }
          ],
          "surface": [
           {
            "colorbar": {
             "outlinewidth": 0,
             "ticks": ""
            },
            "colorscale": [
             [
              0,
              "#0d0887"
             ],
             [
              0.1111111111111111,
              "#46039f"
             ],
             [
              0.2222222222222222,
              "#7201a8"
             ],
             [
              0.3333333333333333,
              "#9c179e"
             ],
             [
              0.4444444444444444,
              "#bd3786"
             ],
             [
              0.5555555555555556,
              "#d8576b"
             ],
             [
              0.6666666666666666,
              "#ed7953"
             ],
             [
              0.7777777777777778,
              "#fb9f3a"
             ],
             [
              0.8888888888888888,
              "#fdca26"
             ],
             [
              1,
              "#f0f921"
             ]
            ],
            "type": "surface"
           }
          ],
          "table": [
           {
            "cells": {
             "fill": {
              "color": "#EBF0F8"
             },
             "line": {
              "color": "white"
             }
            },
            "header": {
             "fill": {
              "color": "#C8D4E3"
             },
             "line": {
              "color": "white"
             }
            },
            "type": "table"
           }
          ]
         },
         "layout": {
          "annotationdefaults": {
           "arrowcolor": "#2a3f5f",
           "arrowhead": 0,
           "arrowwidth": 1
          },
          "autotypenumbers": "strict",
          "coloraxis": {
           "colorbar": {
            "outlinewidth": 0,
            "ticks": ""
           }
          },
          "colorscale": {
           "diverging": [
            [
             0,
             "#8e0152"
            ],
            [
             0.1,
             "#c51b7d"
            ],
            [
             0.2,
             "#de77ae"
            ],
            [
             0.3,
             "#f1b6da"
            ],
            [
             0.4,
             "#fde0ef"
            ],
            [
             0.5,
             "#f7f7f7"
            ],
            [
             0.6,
             "#e6f5d0"
            ],
            [
             0.7,
             "#b8e186"
            ],
            [
             0.8,
             "#7fbc41"
            ],
            [
             0.9,
             "#4d9221"
            ],
            [
             1,
             "#276419"
            ]
           ],
           "sequential": [
            [
             0,
             "#0d0887"
            ],
            [
             0.1111111111111111,
             "#46039f"
            ],
            [
             0.2222222222222222,
             "#7201a8"
            ],
            [
             0.3333333333333333,
             "#9c179e"
            ],
            [
             0.4444444444444444,
             "#bd3786"
            ],
            [
             0.5555555555555556,
             "#d8576b"
            ],
            [
             0.6666666666666666,
             "#ed7953"
            ],
            [
             0.7777777777777778,
             "#fb9f3a"
            ],
            [
             0.8888888888888888,
             "#fdca26"
            ],
            [
             1,
             "#f0f921"
            ]
           ],
           "sequentialminus": [
            [
             0,
             "#0d0887"
            ],
            [
             0.1111111111111111,
             "#46039f"
            ],
            [
             0.2222222222222222,
             "#7201a8"
            ],
            [
             0.3333333333333333,
             "#9c179e"
            ],
            [
             0.4444444444444444,
             "#bd3786"
            ],
            [
             0.5555555555555556,
             "#d8576b"
            ],
            [
             0.6666666666666666,
             "#ed7953"
            ],
            [
             0.7777777777777778,
             "#fb9f3a"
            ],
            [
             0.8888888888888888,
             "#fdca26"
            ],
            [
             1,
             "#f0f921"
            ]
           ]
          },
          "colorway": [
           "#636efa",
           "#EF553B",
           "#00cc96",
           "#ab63fa",
           "#FFA15A",
           "#19d3f3",
           "#FF6692",
           "#B6E880",
           "#FF97FF",
           "#FECB52"
          ],
          "font": {
           "color": "#2a3f5f"
          },
          "geo": {
           "bgcolor": "white",
           "lakecolor": "white",
           "landcolor": "#E5ECF6",
           "showlakes": true,
           "showland": true,
           "subunitcolor": "white"
          },
          "hoverlabel": {
           "align": "left"
          },
          "hovermode": "closest",
          "mapbox": {
           "style": "light"
          },
          "paper_bgcolor": "white",
          "plot_bgcolor": "#E5ECF6",
          "polar": {
           "angularaxis": {
            "gridcolor": "white",
            "linecolor": "white",
            "ticks": ""
           },
           "bgcolor": "#E5ECF6",
           "radialaxis": {
            "gridcolor": "white",
            "linecolor": "white",
            "ticks": ""
           }
          },
          "scene": {
           "xaxis": {
            "backgroundcolor": "#E5ECF6",
            "gridcolor": "white",
            "gridwidth": 2,
            "linecolor": "white",
            "showbackground": true,
            "ticks": "",
            "zerolinecolor": "white"
           },
           "yaxis": {
            "backgroundcolor": "#E5ECF6",
            "gridcolor": "white",
            "gridwidth": 2,
            "linecolor": "white",
            "showbackground": true,
            "ticks": "",
            "zerolinecolor": "white"
           },
           "zaxis": {
            "backgroundcolor": "#E5ECF6",
            "gridcolor": "white",
            "gridwidth": 2,
            "linecolor": "white",
            "showbackground": true,
            "ticks": "",
            "zerolinecolor": "white"
           }
          },
          "shapedefaults": {
           "line": {
            "color": "#2a3f5f"
           }
          },
          "ternary": {
           "aaxis": {
            "gridcolor": "white",
            "linecolor": "white",
            "ticks": ""
           },
           "baxis": {
            "gridcolor": "white",
            "linecolor": "white",
            "ticks": ""
           },
           "bgcolor": "#E5ECF6",
           "caxis": {
            "gridcolor": "white",
            "linecolor": "white",
            "ticks": ""
           }
          },
          "title": {
           "x": 0.05
          },
          "xaxis": {
           "automargin": true,
           "gridcolor": "white",
           "linecolor": "white",
           "ticks": "",
           "title": {
            "standoff": 15
           },
           "zerolinecolor": "white",
           "zerolinewidth": 2
          },
          "yaxis": {
           "automargin": true,
           "gridcolor": "white",
           "linecolor": "white",
           "ticks": "",
           "title": {
            "standoff": 15
           },
           "zerolinecolor": "white",
           "zerolinewidth": 2
          }
         }
        },
        "title": {
         "text": "Argument Correctness Scores: Models vs Languages"
        },
        "xaxis": {
         "anchor": "y",
         "domain": [
          0,
          1
         ],
         "side": "bottom",
         "title": {
          "text": "Language"
         }
        },
        "yaxis": {
         "anchor": "x",
         "autorange": "reversed",
         "domain": [
          0,
          1
         ],
         "side": "left",
         "title": {
          "text": "Model"
         }
        }
       }
      }
     },
     "metadata": {},
     "output_type": "display_data"
    },
    {
     "name": "stdout",
     "output_type": "stream",
     "text": [
      "✓ Exported Argument Correctness heatmap\n"
     ]
    },
    {
     "data": {
      "application/vnd.plotly.v1+json": {
       "config": {
        "plotlyServerURL": "https://plot.ly"
       },
       "data": [
        {
         "coloraxis": "coloraxis",
         "hovertemplate": "Language: %{x}<br>Model: %{y}<br>Score: %{z}<extra></extra>",
         "name": "0",
         "text": {
          "bdata": "g8DKoUW25z+DwMqhRbbnP99PjZduEuM/XI/C9Shc5z/RItv5fmroP1CNl24Sg+Q/g8DKoUW25z/D9Shcj8LtP7Kd76fGS+8/AAAAAAAA8D+LbOf7qfHuPxsv3SQGge0/sp3vp8ZL7z/ZzvdT46XvP2Q730+Nl+4/NV66SQwC6z8bL90kBoHtP7Kd76fGS+8/Gy/dJAaB7T9CYOXQItvtP6abxCCwcuw/sp3vp8ZL7z8AAAAAAADwP4ts5/up8e4/rBxaZDvf7z8AAAAAAADwP7Kd76fGS+8/i2zn+6nx7j8zMzMzMzPrP9v5fmq8dOc/+FPjpZvE6D8fhetRuB7pP5qZmZmZmek/aJHtfD815j+BlUOLbOfrPwAAAAAAAPA/N4lBYOXQ7j9eukkMAivvP+kmMQisHO4/rBxaZDvf7z8AAAAAAADwPwAAAAAAAPA/",
          "dtype": "f8",
          "shape": "6, 7"
         },
         "textfont": {
          "size": 10
         },
         "texttemplate": "%{text}",
         "type": "heatmap",
         "x": [
          "deu",
          "eng",
          "est",
          "fra",
          "nld",
          "pol",
          "por"
         ],
         "xaxis": "x",
         "y": [
          "Mistral-Nemo-Instruct-2407",
          "Qwen3-14B",
          "Qwen3-4B",
          "Qwen3-8B",
          "SmolLM3-3B",
          "gpt-oss-20b"
         ],
         "yaxis": "y",
         "z": {
          "bdata": "3bWEfNCz5z/dtYR80LPnP4Za07zjFOM/1CtlGeJY5z/RItv5fmroP6qCUUmdgOQ/3bWEfNCz5z/D9Shcj8LtP+7rwDkjSu8/AAAAAAAA8D/lYaHWNO/uP9/gC5Opgu0/7uvAOSNK7z/3deCcEaXvP9zXgXNGlO4/vsEXJlMF6z/f4AuTqYLtP+7rwDkjSu8/3+ALk6mC7T/oaiv2l93tP8RCrWnecew/7uvAOSNK7z8AAAAAAADwP+VhodY07+4/UiegibDh7z8AAAAAAADwP+7rwDkjSu8/5WGh1jTv7j8zMzMzMzPrP4EExY8xd+c/2qz6XG3F6D/jNhrAWyDpP5qZmZmZmek/8fRKWYY45j9FR3L5D+nrPwAAAAAAAPA/N4lBYOXQ7j9AE2HD0yvvP0Mc6+I2Gu4/UiegibDh7z8AAAAAAADwPwAAAAAAAPA/",
          "dtype": "f8",
          "shape": "6, 7"
         }
        }
       ],
       "layout": {
        "coloraxis": {
         "colorbar": {
          "title": {
           "text": "Score"
          }
         },
         "colorscale": [
          [
           0,
           "rgb(165,0,38)"
          ],
          [
           0.1,
           "rgb(215,48,39)"
          ],
          [
           0.2,
           "rgb(244,109,67)"
          ],
          [
           0.3,
           "rgb(253,174,97)"
          ],
          [
           0.4,
           "rgb(254,224,139)"
          ],
          [
           0.5,
           "rgb(255,255,191)"
          ],
          [
           0.6,
           "rgb(217,239,139)"
          ],
          [
           0.7,
           "rgb(166,217,106)"
          ],
          [
           0.8,
           "rgb(102,189,99)"
          ],
          [
           0.9,
           "rgb(26,152,80)"
          ],
          [
           1,
           "rgb(0,104,55)"
          ]
         ]
        },
        "height": 400,
        "template": {
         "data": {
          "bar": [
           {
            "error_x": {
             "color": "#2a3f5f"
            },
            "error_y": {
             "color": "#2a3f5f"
            },
            "marker": {
             "line": {
              "color": "#E5ECF6",
              "width": 0.5
             },
             "pattern": {
              "fillmode": "overlay",
              "size": 10,
              "solidity": 0.2
             }
            },
            "type": "bar"
           }
          ],
          "barpolar": [
           {
            "marker": {
             "line": {
              "color": "#E5ECF6",
              "width": 0.5
             },
             "pattern": {
              "fillmode": "overlay",
              "size": 10,
              "solidity": 0.2
             }
            },
            "type": "barpolar"
           }
          ],
          "carpet": [
           {
            "aaxis": {
             "endlinecolor": "#2a3f5f",
             "gridcolor": "white",
             "linecolor": "white",
             "minorgridcolor": "white",
             "startlinecolor": "#2a3f5f"
            },
            "baxis": {
             "endlinecolor": "#2a3f5f",
             "gridcolor": "white",
             "linecolor": "white",
             "minorgridcolor": "white",
             "startlinecolor": "#2a3f5f"
            },
            "type": "carpet"
           }
          ],
          "choropleth": [
           {
            "colorbar": {
             "outlinewidth": 0,
             "ticks": ""
            },
            "type": "choropleth"
           }
          ],
          "contour": [
           {
            "colorbar": {
             "outlinewidth": 0,
             "ticks": ""
            },
            "colorscale": [
             [
              0,
              "#0d0887"
             ],
             [
              0.1111111111111111,
              "#46039f"
             ],
             [
              0.2222222222222222,
              "#7201a8"
             ],
             [
              0.3333333333333333,
              "#9c179e"
             ],
             [
              0.4444444444444444,
              "#bd3786"
             ],
             [
              0.5555555555555556,
              "#d8576b"
             ],
             [
              0.6666666666666666,
              "#ed7953"
             ],
             [
              0.7777777777777778,
              "#fb9f3a"
             ],
             [
              0.8888888888888888,
              "#fdca26"
             ],
             [
              1,
              "#f0f921"
             ]
            ],
            "type": "contour"
           }
          ],
          "contourcarpet": [
           {
            "colorbar": {
             "outlinewidth": 0,
             "ticks": ""
            },
            "type": "contourcarpet"
           }
          ],
          "heatmap": [
           {
            "colorbar": {
             "outlinewidth": 0,
             "ticks": ""
            },
            "colorscale": [
             [
              0,
              "#0d0887"
             ],
             [
              0.1111111111111111,
              "#46039f"
             ],
             [
              0.2222222222222222,
              "#7201a8"
             ],
             [
              0.3333333333333333,
              "#9c179e"
             ],
             [
              0.4444444444444444,
              "#bd3786"
             ],
             [
              0.5555555555555556,
              "#d8576b"
             ],
             [
              0.6666666666666666,
              "#ed7953"
             ],
             [
              0.7777777777777778,
              "#fb9f3a"
             ],
             [
              0.8888888888888888,
              "#fdca26"
             ],
             [
              1,
              "#f0f921"
             ]
            ],
            "type": "heatmap"
           }
          ],
          "histogram": [
           {
            "marker": {
             "pattern": {
              "fillmode": "overlay",
              "size": 10,
              "solidity": 0.2
             }
            },
            "type": "histogram"
           }
          ],
          "histogram2d": [
           {
            "colorbar": {
             "outlinewidth": 0,
             "ticks": ""
            },
            "colorscale": [
             [
              0,
              "#0d0887"
             ],
             [
              0.1111111111111111,
              "#46039f"
             ],
             [
              0.2222222222222222,
              "#7201a8"
             ],
             [
              0.3333333333333333,
              "#9c179e"
             ],
             [
              0.4444444444444444,
              "#bd3786"
             ],
             [
              0.5555555555555556,
              "#d8576b"
             ],
             [
              0.6666666666666666,
              "#ed7953"
             ],
             [
              0.7777777777777778,
              "#fb9f3a"
             ],
             [
              0.8888888888888888,
              "#fdca26"
             ],
             [
              1,
              "#f0f921"
             ]
            ],
            "type": "histogram2d"
           }
          ],
          "histogram2dcontour": [
           {
            "colorbar": {
             "outlinewidth": 0,
             "ticks": ""
            },
            "colorscale": [
             [
              0,
              "#0d0887"
             ],
             [
              0.1111111111111111,
              "#46039f"
             ],
             [
              0.2222222222222222,
              "#7201a8"
             ],
             [
              0.3333333333333333,
              "#9c179e"
             ],
             [
              0.4444444444444444,
              "#bd3786"
             ],
             [
              0.5555555555555556,
              "#d8576b"
             ],
             [
              0.6666666666666666,
              "#ed7953"
             ],
             [
              0.7777777777777778,
              "#fb9f3a"
             ],
             [
              0.8888888888888888,
              "#fdca26"
             ],
             [
              1,
              "#f0f921"
             ]
            ],
            "type": "histogram2dcontour"
           }
          ],
          "mesh3d": [
           {
            "colorbar": {
             "outlinewidth": 0,
             "ticks": ""
            },
            "type": "mesh3d"
           }
          ],
          "parcoords": [
           {
            "line": {
             "colorbar": {
              "outlinewidth": 0,
              "ticks": ""
             }
            },
            "type": "parcoords"
           }
          ],
          "pie": [
           {
            "automargin": true,
            "type": "pie"
           }
          ],
          "scatter": [
           {
            "fillpattern": {
             "fillmode": "overlay",
             "size": 10,
             "solidity": 0.2
            },
            "type": "scatter"
           }
          ],
          "scatter3d": [
           {
            "line": {
             "colorbar": {
              "outlinewidth": 0,
              "ticks": ""
             }
            },
            "marker": {
             "colorbar": {
              "outlinewidth": 0,
              "ticks": ""
             }
            },
            "type": "scatter3d"
           }
          ],
          "scattercarpet": [
           {
            "marker": {
             "colorbar": {
              "outlinewidth": 0,
              "ticks": ""
             }
            },
            "type": "scattercarpet"
           }
          ],
          "scattergeo": [
           {
            "marker": {
             "colorbar": {
              "outlinewidth": 0,
              "ticks": ""
             }
            },
            "type": "scattergeo"
           }
          ],
          "scattergl": [
           {
            "marker": {
             "colorbar": {
              "outlinewidth": 0,
              "ticks": ""
             }
            },
            "type": "scattergl"
           }
          ],
          "scattermap": [
           {
            "marker": {
             "colorbar": {
              "outlinewidth": 0,
              "ticks": ""
             }
            },
            "type": "scattermap"
           }
          ],
          "scattermapbox": [
           {
            "marker": {
             "colorbar": {
              "outlinewidth": 0,
              "ticks": ""
             }
            },
            "type": "scattermapbox"
           }
          ],
          "scatterpolar": [
           {
            "marker": {
             "colorbar": {
              "outlinewidth": 0,
              "ticks": ""
             }
            },
            "type": "scatterpolar"
           }
          ],
          "scatterpolargl": [
           {
            "marker": {
             "colorbar": {
              "outlinewidth": 0,
              "ticks": ""
             }
            },
            "type": "scatterpolargl"
           }
          ],
          "scatterternary": [
           {
            "marker": {
             "colorbar": {
              "outlinewidth": 0,
              "ticks": ""
             }
            },
            "type": "scatterternary"
           }
          ],
          "surface": [
           {
            "colorbar": {
             "outlinewidth": 0,
             "ticks": ""
            },
            "colorscale": [
             [
              0,
              "#0d0887"
             ],
             [
              0.1111111111111111,
              "#46039f"
             ],
             [
              0.2222222222222222,
              "#7201a8"
             ],
             [
              0.3333333333333333,
              "#9c179e"
             ],
             [
              0.4444444444444444,
              "#bd3786"
             ],
             [
              0.5555555555555556,
              "#d8576b"
             ],
             [
              0.6666666666666666,
              "#ed7953"
             ],
             [
              0.7777777777777778,
              "#fb9f3a"
             ],
             [
              0.8888888888888888,
              "#fdca26"
             ],
             [
              1,
              "#f0f921"
             ]
            ],
            "type": "surface"
           }
          ],
          "table": [
           {
            "cells": {
             "fill": {
              "color": "#EBF0F8"
             },
             "line": {
              "color": "white"
             }
            },
            "header": {
             "fill": {
              "color": "#C8D4E3"
             },
             "line": {
              "color": "white"
             }
            },
            "type": "table"
           }
          ]
         },
         "layout": {
          "annotationdefaults": {
           "arrowcolor": "#2a3f5f",
           "arrowhead": 0,
           "arrowwidth": 1
          },
          "autotypenumbers": "strict",
          "coloraxis": {
           "colorbar": {
            "outlinewidth": 0,
            "ticks": ""
           }
          },
          "colorscale": {
           "diverging": [
            [
             0,
             "#8e0152"
            ],
            [
             0.1,
             "#c51b7d"
            ],
            [
             0.2,
             "#de77ae"
            ],
            [
             0.3,
             "#f1b6da"
            ],
            [
             0.4,
             "#fde0ef"
            ],
            [
             0.5,
             "#f7f7f7"
            ],
            [
             0.6,
             "#e6f5d0"
            ],
            [
             0.7,
             "#b8e186"
            ],
            [
             0.8,
             "#7fbc41"
            ],
            [
             0.9,
             "#4d9221"
            ],
            [
             1,
             "#276419"
            ]
           ],
           "sequential": [
            [
             0,
             "#0d0887"
            ],
            [
             0.1111111111111111,
             "#46039f"
            ],
            [
             0.2222222222222222,
             "#7201a8"
            ],
            [
             0.3333333333333333,
             "#9c179e"
            ],
            [
             0.4444444444444444,
             "#bd3786"
            ],
            [
             0.5555555555555556,
             "#d8576b"
            ],
            [
             0.6666666666666666,
             "#ed7953"
            ],
            [
             0.7777777777777778,
             "#fb9f3a"
            ],
            [
             0.8888888888888888,
             "#fdca26"
            ],
            [
             1,
             "#f0f921"
            ]
           ],
           "sequentialminus": [
            [
             0,
             "#0d0887"
            ],
            [
             0.1111111111111111,
             "#46039f"
            ],
            [
             0.2222222222222222,
             "#7201a8"
            ],
            [
             0.3333333333333333,
             "#9c179e"
            ],
            [
             0.4444444444444444,
             "#bd3786"
            ],
            [
             0.5555555555555556,
             "#d8576b"
            ],
            [
             0.6666666666666666,
             "#ed7953"
            ],
            [
             0.7777777777777778,
             "#fb9f3a"
            ],
            [
             0.8888888888888888,
             "#fdca26"
            ],
            [
             1,
             "#f0f921"
            ]
           ]
          },
          "colorway": [
           "#636efa",
           "#EF553B",
           "#00cc96",
           "#ab63fa",
           "#FFA15A",
           "#19d3f3",
           "#FF6692",
           "#B6E880",
           "#FF97FF",
           "#FECB52"
          ],
          "font": {
           "color": "#2a3f5f"
          },
          "geo": {
           "bgcolor": "white",
           "lakecolor": "white",
           "landcolor": "#E5ECF6",
           "showlakes": true,
           "showland": true,
           "subunitcolor": "white"
          },
          "hoverlabel": {
           "align": "left"
          },
          "hovermode": "closest",
          "mapbox": {
           "style": "light"
          },
          "paper_bgcolor": "white",
          "plot_bgcolor": "#E5ECF6",
          "polar": {
           "angularaxis": {
            "gridcolor": "white",
            "linecolor": "white",
            "ticks": ""
           },
           "bgcolor": "#E5ECF6",
           "radialaxis": {
            "gridcolor": "white",
            "linecolor": "white",
            "ticks": ""
           }
          },
          "scene": {
           "xaxis": {
            "backgroundcolor": "#E5ECF6",
            "gridcolor": "white",
            "gridwidth": 2,
            "linecolor": "white",
            "showbackground": true,
            "ticks": "",
            "zerolinecolor": "white"
           },
           "yaxis": {
            "backgroundcolor": "#E5ECF6",
            "gridcolor": "white",
            "gridwidth": 2,
            "linecolor": "white",
            "showbackground": true,
            "ticks": "",
            "zerolinecolor": "white"
           },
           "zaxis": {
            "backgroundcolor": "#E5ECF6",
            "gridcolor": "white",
            "gridwidth": 2,
            "linecolor": "white",
            "showbackground": true,
            "ticks": "",
            "zerolinecolor": "white"
           }
          },
          "shapedefaults": {
           "line": {
            "color": "#2a3f5f"
           }
          },
          "ternary": {
           "aaxis": {
            "gridcolor": "white",
            "linecolor": "white",
            "ticks": ""
           },
           "baxis": {
            "gridcolor": "white",
            "linecolor": "white",
            "ticks": ""
           },
           "bgcolor": "#E5ECF6",
           "caxis": {
            "gridcolor": "white",
            "linecolor": "white",
            "ticks": ""
           }
          },
          "title": {
           "x": 0.05
          },
          "xaxis": {
           "automargin": true,
           "gridcolor": "white",
           "linecolor": "white",
           "ticks": "",
           "title": {
            "standoff": 15
           },
           "zerolinecolor": "white",
           "zerolinewidth": 2
          },
          "yaxis": {
           "automargin": true,
           "gridcolor": "white",
           "linecolor": "white",
           "ticks": "",
           "title": {
            "standoff": 15
           },
           "zerolinecolor": "white",
           "zerolinewidth": 2
          }
         }
        },
        "title": {
         "text": "Tool Correctness Scores: Models vs Languages"
        },
        "xaxis": {
         "anchor": "y",
         "domain": [
          0,
          1
         ],
         "side": "bottom",
         "title": {
          "text": "Language"
         }
        },
        "yaxis": {
         "anchor": "x",
         "autorange": "reversed",
         "domain": [
          0,
          1
         ],
         "side": "left",
         "title": {
          "text": "Model"
         }
        }
       }
      }
     },
     "metadata": {},
     "output_type": "display_data"
    },
    {
     "name": "stdout",
     "output_type": "stream",
     "text": [
      "✓ Exported Tool Correctness heatmap\n"
     ]
    }
   ],
   "source": [
    "# Create heatmaps showing model performance across languages for each metric\n",
    "for metric in metrics:\n",
    "    metric_data = df[df['metric'] == metric]\n",
    "    \n",
    "    # Pivot table for heatmap\n",
    "    pivot_data = metric_data.pivot_table(\n",
    "        values='score', \n",
    "        index='model_clean', \n",
    "        columns='language', \n",
    "        aggfunc='mean'\n",
    "    )\n",
    "    \n",
    "    # Create heatmap using plotly\n",
    "    fig = px.imshow(\n",
    "        pivot_data,\n",
    "        title=f\"{metric} Scores: Models vs Languages\",\n",
    "        labels=dict(x=\"Language\", y=\"Model\", color=\"Score\"),\n",
    "        color_continuous_scale=\"RdYlGn\",\n",
    "        aspect=\"auto\"\n",
    "    )\n",
    "    \n",
    "    # Add text annotations\n",
    "    fig.update_traces(\n",
    "        text=pivot_data.round(3).values,\n",
    "        texttemplate=\"%{text}\",\n",
    "        textfont={\"size\": 10}\n",
    "    )\n",
    "    \n",
    "    fig.update_layout(\n",
    "        height=400,\n",
    "        xaxis={'side': 'bottom'},\n",
    "        yaxis={'side': 'left'}\n",
    "    )\n",
    "    \n",
    "    fig.show()\n",
    "    \n",
    "    # Export to HTML\n",
    "    metric_filename = metric.replace(' ', '_').replace('/', '_').lower()\n",
    "    fig.write_html(f\"{docs_dir}/{metric_filename}_heatmap.html\")\n",
    "    print(f\"✓ Exported {metric} heatmap\")"
   ]
  },
  {
   "cell_type": "code",
   "execution_count": 52,
   "metadata": {},
   "outputs": [
    {
     "data": {
      "application/vnd.plotly.v1+json": {
       "config": {
        "plotlyServerURL": "https://plot.ly"
       },
       "data": [
        {
         "coloraxis": "coloraxis",
         "hovertemplate": "Language_Category: %{x}<br>Model: %{y}<br>Score: %{z}<extra></extra>",
         "name": "0",
         "text": {
          "bdata": "zczMzMzM7D+amZmZmZnpPyUGgZVDi+g/zczMzMzM7D/NzMzMzMzsP9v5fmq8dOc/mpmZmZmZ6T8zMzMzMzPjP/7UeOkmMeg/AAAAAAAA8D9mZmZmZmbmP1g5tMh2vus/AAAAAAAA8D+amZmZmZnpP6jGSzeJQeQ/zczMzMzM7D+amZmZmZnhPw4tsp3vp+o/AAAAAAAA8D8AAAAAAADgP6jGSzeJQeQ/MzMzMzMz6z8AAAAAAADoP9v5fmq8dOc/AAAAAAAA8D8AAAAAAADwP0w3iUFg5eg/AAAAAAAA8D8zMzMzMzPrP8HKoUW28+k/AAAAAAAA8D9mZmZmZmbuPzVeukkMAus/AAAAAAAA8D8AAAAAAADwPwIrhxbZzuc/AAAAAAAA8D9mZmZmZmbuPwIrhxbZzuc/AAAAAAAA8D9mZmZmZmbuPzVeukkMAus/AAAAAAAA8D9mZmZmZmbuPz81XrpJDOY/AAAAAAAA8D8AAAAAAADwP2Q730+Nl94/AAAAAAAA8D9mZmZmZmbuP0w3iUFg5eg/AAAAAAAA8D/NzMzMzMzsP8HKoUW28+k/AAAAAAAA8D8AAAAAAADwPxkEVg4tsuU/AAAAAAAA8D9mZmZmZmbuP8/3U+Olm+Q/AAAAAAAA8D8AAAAAAADwP1pkO99PjeM/AAAAAAAA8D8AAAAAAADwPzVeukkMAus/AAAAAAAA8D8AAAAAAADwP39qvHSTGOw/AAAAAAAA8D/NzMzMzMzsP0w3iUFg5eg/AAAAAAAA8D/NzMzMzMzsP8HKoUW28+k/AAAAAAAA8D8AAAAAAADwPzVeukkMAus/AAAAAAAA8D8AAAAAAADwP8HKoUW28+k/AAAAAAAA8D8AAAAAAADwP0w3iUFg5eg/zczMzMzM7D8zMzMzMzPrP0oMAiuHFtE/MzMzMzMz4z/NzMzMzMzsP8dLN4lBYMU/ZmZmZmZm5j8zMzMzMzPrP6AaL90kBsE/zczMzMzM7D+amZmZmZnpP8dLN4lBYMU/AAAAAAAA8D9mZmZmZmbuP6AaL90kBsE/ZmZmZmZm5j8zMzMzMzPjP6AaL90kBsE/AAAAAAAA8D/NzMzMzMzsP2IQWDm0yNY/AAAAAAAA8D9mZmZmZmbuP/7UeOkmMeg/AAAAAAAA8D8AAAAAAADwPz81XrpJDOY/zczMzMzM7D/NzMzMzMzsP8HKoUW28+k/AAAAAAAA8D/NzMzMzMzsP0w3iUFg5eg/AAAAAAAA8D8AAAAAAADwP0w3iUFg5eg/AAAAAAAA8D9mZmZmZmbuPwIrhxbZzuc/AAAAAAAA8D9mZmZmZmbuP/7UeOkmMeg/",
          "dtype": "f8",
          "shape": "6, 21"
         },
         "textfont": {
          "size": 8
         },
         "texttemplate": "%{text}",
         "type": "heatmap",
         "x": [
          "deu_no_tool_call",
          "deu_absolute_date",
          "deu_relative_date",
          "eng_no_tool_call",
          "eng_absolute_date",
          "eng_relative_date",
          "est_no_tool_call",
          "est_absolute_date",
          "est_relative_date",
          "fra_no_tool_call",
          "fra_absolute_date",
          "fra_relative_date",
          "nld_no_tool_call",
          "nld_absolute_date",
          "nld_relative_date",
          "pol_no_tool_call",
          "pol_absolute_date",
          "pol_relative_date",
          "por_no_tool_call",
          "por_absolute_date",
          "por_relative_date"
         ],
         "xaxis": "x",
         "y": [
          "Mistral-Nemo-Instruct-2407",
          "Qwen3-14B",
          "Qwen3-4B",
          "Qwen3-8B",
          "SmolLM3-3B",
          "gpt-oss-20b"
         ],
         "yaxis": "y",
         "z": {
          "bdata": "zczMzMzM7D+amZmZmZnpP4mIiIiIiOg/zczMzMzM7D/NzMzMzMzsP3d3d3d3d+c/mpmZmZmZ6T8zMzMzMzPjP9mCLdiCLeg/AAAAAAAA8D9mZmZmZmbmP7y7u7u7u+s/AAAAAAAA8D+amZmZmZnpP0REREREROQ/zczMzMzM7D+amZmZmZnhP6uqqqqqquo/AAAAAAAA8D8AAAAAAADgP0REREREROQ/MzMzMzMz6z8AAAAAAADoP3d3d3d3d+c/AAAAAAAA8D8AAAAAAADwPzmO4ziO4+g/AAAAAAAA8D8zMzMzMzPrP0qf9Emf9Ok/AAAAAAAA8D9mZmZmZmbuP1uwBVuwBes/AAAAAAAA8D8AAAAAAADwPyd90id90uc/AAAAAAAA8D9mZmZmZmbuPyd90id90uc/AAAAAAAA8D9mZmZmZmbuP1uwBVuwBes/AAAAAAAA8D9mZmZmZmbuP7ZgC7ZgC+Y/AAAAAAAA8D8AAAAAAADwPz/pkz7pk94/AAAAAAAA8D9mZmZmZmbuPzmO4ziO4+g/AAAAAAAA8D/NzMzMzMzsP0qf9Emf9Ok/AAAAAAAA8D8AAAAAAADwPwVbsAVbsOU/AAAAAAAA8D9mZmZmZmbuP/RJn/RJn+Q/AAAAAAAA8D8AAAAAAADwP+M4juM4juM/AAAAAAAA8D8AAAAAAADwP1uwBVuwBes/AAAAAAAA8D8AAAAAAADwP2zBFmzBFuw/AAAAAAAA8D/NzMzMzMzsPzmO4ziO4+g/AAAAAAAA8D/NzMzMzMzsP0qf9Emf9Ok/AAAAAAAA8D8AAAAAAADwP1uwBVuwBes/AAAAAAAA8D8AAAAAAADwP0qf9Emf9Ok/AAAAAAAA8D8AAAAAAADwPzmO4ziO4+g/zczMzMzM7D8zMzMzMzPrPxEREREREdE/MzMzMzMz4z/NzMzMzMzsP1VVVVVVVcU/ZmZmZmZm5j8zMzMzMzPrPxEREREREcE/zczMzMzM7D+amZmZmZnpP1VVVVVVVcU/AAAAAAAA8D9mZmZmZmbuPxEREREREcE/ZmZmZmZm5j8zMzMzMzPjPxEREREREcE/AAAAAAAA8D/NzMzMzMzsPxZswRZswdY/AAAAAAAA8D9mZmZmZmbuP9mCLdiCLeg/AAAAAAAA8D8AAAAAAADwP7ZgC7ZgC+Y/zczMzMzM7D/NzMzMzMzsP0qf9Emf9Ok/AAAAAAAA8D/NzMzMzMzsPzmO4ziO4+g/AAAAAAAA8D8AAAAAAADwPzmO4ziO4+g/AAAAAAAA8D9mZmZmZmbuPyd90id90uc/AAAAAAAA8D9mZmZmZmbuP9mCLdiCLeg/",
          "dtype": "f8",
          "shape": "6, 21"
         }
        }
       ],
       "layout": {
        "coloraxis": {
         "colorbar": {
          "title": {
           "text": "Score"
          }
         },
         "colorscale": [
          [
           0,
           "rgb(165,0,38)"
          ],
          [
           0.1,
           "rgb(215,48,39)"
          ],
          [
           0.2,
           "rgb(244,109,67)"
          ],
          [
           0.3,
           "rgb(253,174,97)"
          ],
          [
           0.4,
           "rgb(254,224,139)"
          ],
          [
           0.5,
           "rgb(255,255,191)"
          ],
          [
           0.6,
           "rgb(217,239,139)"
          ],
          [
           0.7,
           "rgb(166,217,106)"
          ],
          [
           0.8,
           "rgb(102,189,99)"
          ],
          [
           0.9,
           "rgb(26,152,80)"
          ],
          [
           1,
           "rgb(0,104,55)"
          ]
         ]
        },
        "height": 500,
        "margin": {
         "b": 150
        },
        "shapes": [
         {
          "line": {
           "color": "black",
           "width": 2
          },
          "type": "line",
          "x0": 2.5,
          "x1": 2.5,
          "y0": -0.5,
          "y1": 5.5
         },
         {
          "line": {
           "color": "black",
           "width": 2
          },
          "type": "line",
          "x0": 5.5,
          "x1": 5.5,
          "y0": -0.5,
          "y1": 5.5
         },
         {
          "line": {
           "color": "black",
           "width": 2
          },
          "type": "line",
          "x0": 8.5,
          "x1": 8.5,
          "y0": -0.5,
          "y1": 5.5
         },
         {
          "line": {
           "color": "black",
           "width": 2
          },
          "type": "line",
          "x0": 11.5,
          "x1": 11.5,
          "y0": -0.5,
          "y1": 5.5
         },
         {
          "line": {
           "color": "black",
           "width": 2
          },
          "type": "line",
          "x0": 14.5,
          "x1": 14.5,
          "y0": -0.5,
          "y1": 5.5
         },
         {
          "line": {
           "color": "black",
           "width": 2
          },
          "type": "line",
          "x0": 17.5,
          "x1": 17.5,
          "y0": -0.5,
          "y1": 5.5
         }
        ],
        "template": {
         "data": {
          "bar": [
           {
            "error_x": {
             "color": "#2a3f5f"
            },
            "error_y": {
             "color": "#2a3f5f"
            },
            "marker": {
             "line": {
              "color": "#E5ECF6",
              "width": 0.5
             },
             "pattern": {
              "fillmode": "overlay",
              "size": 10,
              "solidity": 0.2
             }
            },
            "type": "bar"
           }
          ],
          "barpolar": [
           {
            "marker": {
             "line": {
              "color": "#E5ECF6",
              "width": 0.5
             },
             "pattern": {
              "fillmode": "overlay",
              "size": 10,
              "solidity": 0.2
             }
            },
            "type": "barpolar"
           }
          ],
          "carpet": [
           {
            "aaxis": {
             "endlinecolor": "#2a3f5f",
             "gridcolor": "white",
             "linecolor": "white",
             "minorgridcolor": "white",
             "startlinecolor": "#2a3f5f"
            },
            "baxis": {
             "endlinecolor": "#2a3f5f",
             "gridcolor": "white",
             "linecolor": "white",
             "minorgridcolor": "white",
             "startlinecolor": "#2a3f5f"
            },
            "type": "carpet"
           }
          ],
          "choropleth": [
           {
            "colorbar": {
             "outlinewidth": 0,
             "ticks": ""
            },
            "type": "choropleth"
           }
          ],
          "contour": [
           {
            "colorbar": {
             "outlinewidth": 0,
             "ticks": ""
            },
            "colorscale": [
             [
              0,
              "#0d0887"
             ],
             [
              0.1111111111111111,
              "#46039f"
             ],
             [
              0.2222222222222222,
              "#7201a8"
             ],
             [
              0.3333333333333333,
              "#9c179e"
             ],
             [
              0.4444444444444444,
              "#bd3786"
             ],
             [
              0.5555555555555556,
              "#d8576b"
             ],
             [
              0.6666666666666666,
              "#ed7953"
             ],
             [
              0.7777777777777778,
              "#fb9f3a"
             ],
             [
              0.8888888888888888,
              "#fdca26"
             ],
             [
              1,
              "#f0f921"
             ]
            ],
            "type": "contour"
           }
          ],
          "contourcarpet": [
           {
            "colorbar": {
             "outlinewidth": 0,
             "ticks": ""
            },
            "type": "contourcarpet"
           }
          ],
          "heatmap": [
           {
            "colorbar": {
             "outlinewidth": 0,
             "ticks": ""
            },
            "colorscale": [
             [
              0,
              "#0d0887"
             ],
             [
              0.1111111111111111,
              "#46039f"
             ],
             [
              0.2222222222222222,
              "#7201a8"
             ],
             [
              0.3333333333333333,
              "#9c179e"
             ],
             [
              0.4444444444444444,
              "#bd3786"
             ],
             [
              0.5555555555555556,
              "#d8576b"
             ],
             [
              0.6666666666666666,
              "#ed7953"
             ],
             [
              0.7777777777777778,
              "#fb9f3a"
             ],
             [
              0.8888888888888888,
              "#fdca26"
             ],
             [
              1,
              "#f0f921"
             ]
            ],
            "type": "heatmap"
           }
          ],
          "histogram": [
           {
            "marker": {
             "pattern": {
              "fillmode": "overlay",
              "size": 10,
              "solidity": 0.2
             }
            },
            "type": "histogram"
           }
          ],
          "histogram2d": [
           {
            "colorbar": {
             "outlinewidth": 0,
             "ticks": ""
            },
            "colorscale": [
             [
              0,
              "#0d0887"
             ],
             [
              0.1111111111111111,
              "#46039f"
             ],
             [
              0.2222222222222222,
              "#7201a8"
             ],
             [
              0.3333333333333333,
              "#9c179e"
             ],
             [
              0.4444444444444444,
              "#bd3786"
             ],
             [
              0.5555555555555556,
              "#d8576b"
             ],
             [
              0.6666666666666666,
              "#ed7953"
             ],
             [
              0.7777777777777778,
              "#fb9f3a"
             ],
             [
              0.8888888888888888,
              "#fdca26"
             ],
             [
              1,
              "#f0f921"
             ]
            ],
            "type": "histogram2d"
           }
          ],
          "histogram2dcontour": [
           {
            "colorbar": {
             "outlinewidth": 0,
             "ticks": ""
            },
            "colorscale": [
             [
              0,
              "#0d0887"
             ],
             [
              0.1111111111111111,
              "#46039f"
             ],
             [
              0.2222222222222222,
              "#7201a8"
             ],
             [
              0.3333333333333333,
              "#9c179e"
             ],
             [
              0.4444444444444444,
              "#bd3786"
             ],
             [
              0.5555555555555556,
              "#d8576b"
             ],
             [
              0.6666666666666666,
              "#ed7953"
             ],
             [
              0.7777777777777778,
              "#fb9f3a"
             ],
             [
              0.8888888888888888,
              "#fdca26"
             ],
             [
              1,
              "#f0f921"
             ]
            ],
            "type": "histogram2dcontour"
           }
          ],
          "mesh3d": [
           {
            "colorbar": {
             "outlinewidth": 0,
             "ticks": ""
            },
            "type": "mesh3d"
           }
          ],
          "parcoords": [
           {
            "line": {
             "colorbar": {
              "outlinewidth": 0,
              "ticks": ""
             }
            },
            "type": "parcoords"
           }
          ],
          "pie": [
           {
            "automargin": true,
            "type": "pie"
           }
          ],
          "scatter": [
           {
            "fillpattern": {
             "fillmode": "overlay",
             "size": 10,
             "solidity": 0.2
            },
            "type": "scatter"
           }
          ],
          "scatter3d": [
           {
            "line": {
             "colorbar": {
              "outlinewidth": 0,
              "ticks": ""
             }
            },
            "marker": {
             "colorbar": {
              "outlinewidth": 0,
              "ticks": ""
             }
            },
            "type": "scatter3d"
           }
          ],
          "scattercarpet": [
           {
            "marker": {
             "colorbar": {
              "outlinewidth": 0,
              "ticks": ""
             }
            },
            "type": "scattercarpet"
           }
          ],
          "scattergeo": [
           {
            "marker": {
             "colorbar": {
              "outlinewidth": 0,
              "ticks": ""
             }
            },
            "type": "scattergeo"
           }
          ],
          "scattergl": [
           {
            "marker": {
             "colorbar": {
              "outlinewidth": 0,
              "ticks": ""
             }
            },
            "type": "scattergl"
           }
          ],
          "scattermap": [
           {
            "marker": {
             "colorbar": {
              "outlinewidth": 0,
              "ticks": ""
             }
            },
            "type": "scattermap"
           }
          ],
          "scattermapbox": [
           {
            "marker": {
             "colorbar": {
              "outlinewidth": 0,
              "ticks": ""
             }
            },
            "type": "scattermapbox"
           }
          ],
          "scatterpolar": [
           {
            "marker": {
             "colorbar": {
              "outlinewidth": 0,
              "ticks": ""
             }
            },
            "type": "scatterpolar"
           }
          ],
          "scatterpolargl": [
           {
            "marker": {
             "colorbar": {
              "outlinewidth": 0,
              "ticks": ""
             }
            },
            "type": "scatterpolargl"
           }
          ],
          "scatterternary": [
           {
            "marker": {
             "colorbar": {
              "outlinewidth": 0,
              "ticks": ""
             }
            },
            "type": "scatterternary"
           }
          ],
          "surface": [
           {
            "colorbar": {
             "outlinewidth": 0,
             "ticks": ""
            },
            "colorscale": [
             [
              0,
              "#0d0887"
             ],
             [
              0.1111111111111111,
              "#46039f"
             ],
             [
              0.2222222222222222,
              "#7201a8"
             ],
             [
              0.3333333333333333,
              "#9c179e"
             ],
             [
              0.4444444444444444,
              "#bd3786"
             ],
             [
              0.5555555555555556,
              "#d8576b"
             ],
             [
              0.6666666666666666,
              "#ed7953"
             ],
             [
              0.7777777777777778,
              "#fb9f3a"
             ],
             [
              0.8888888888888888,
              "#fdca26"
             ],
             [
              1,
              "#f0f921"
             ]
            ],
            "type": "surface"
           }
          ],
          "table": [
           {
            "cells": {
             "fill": {
              "color": "#EBF0F8"
             },
             "line": {
              "color": "white"
             }
            },
            "header": {
             "fill": {
              "color": "#C8D4E3"
             },
             "line": {
              "color": "white"
             }
            },
            "type": "table"
           }
          ]
         },
         "layout": {
          "annotationdefaults": {
           "arrowcolor": "#2a3f5f",
           "arrowhead": 0,
           "arrowwidth": 1
          },
          "autotypenumbers": "strict",
          "coloraxis": {
           "colorbar": {
            "outlinewidth": 0,
            "ticks": ""
           }
          },
          "colorscale": {
           "diverging": [
            [
             0,
             "#8e0152"
            ],
            [
             0.1,
             "#c51b7d"
            ],
            [
             0.2,
             "#de77ae"
            ],
            [
             0.3,
             "#f1b6da"
            ],
            [
             0.4,
             "#fde0ef"
            ],
            [
             0.5,
             "#f7f7f7"
            ],
            [
             0.6,
             "#e6f5d0"
            ],
            [
             0.7,
             "#b8e186"
            ],
            [
             0.8,
             "#7fbc41"
            ],
            [
             0.9,
             "#4d9221"
            ],
            [
             1,
             "#276419"
            ]
           ],
           "sequential": [
            [
             0,
             "#0d0887"
            ],
            [
             0.1111111111111111,
             "#46039f"
            ],
            [
             0.2222222222222222,
             "#7201a8"
            ],
            [
             0.3333333333333333,
             "#9c179e"
            ],
            [
             0.4444444444444444,
             "#bd3786"
            ],
            [
             0.5555555555555556,
             "#d8576b"
            ],
            [
             0.6666666666666666,
             "#ed7953"
            ],
            [
             0.7777777777777778,
             "#fb9f3a"
            ],
            [
             0.8888888888888888,
             "#fdca26"
            ],
            [
             1,
             "#f0f921"
            ]
           ],
           "sequentialminus": [
            [
             0,
             "#0d0887"
            ],
            [
             0.1111111111111111,
             "#46039f"
            ],
            [
             0.2222222222222222,
             "#7201a8"
            ],
            [
             0.3333333333333333,
             "#9c179e"
            ],
            [
             0.4444444444444444,
             "#bd3786"
            ],
            [
             0.5555555555555556,
             "#d8576b"
            ],
            [
             0.6666666666666666,
             "#ed7953"
            ],
            [
             0.7777777777777778,
             "#fb9f3a"
            ],
            [
             0.8888888888888888,
             "#fdca26"
            ],
            [
             1,
             "#f0f921"
            ]
           ]
          },
          "colorway": [
           "#636efa",
           "#EF553B",
           "#00cc96",
           "#ab63fa",
           "#FFA15A",
           "#19d3f3",
           "#FF6692",
           "#B6E880",
           "#FF97FF",
           "#FECB52"
          ],
          "font": {
           "color": "#2a3f5f"
          },
          "geo": {
           "bgcolor": "white",
           "lakecolor": "white",
           "landcolor": "#E5ECF6",
           "showlakes": true,
           "showland": true,
           "subunitcolor": "white"
          },
          "hoverlabel": {
           "align": "left"
          },
          "hovermode": "closest",
          "mapbox": {
           "style": "light"
          },
          "paper_bgcolor": "white",
          "plot_bgcolor": "#E5ECF6",
          "polar": {
           "angularaxis": {
            "gridcolor": "white",
            "linecolor": "white",
            "ticks": ""
           },
           "bgcolor": "#E5ECF6",
           "radialaxis": {
            "gridcolor": "white",
            "linecolor": "white",
            "ticks": ""
           }
          },
          "scene": {
           "xaxis": {
            "backgroundcolor": "#E5ECF6",
            "gridcolor": "white",
            "gridwidth": 2,
            "linecolor": "white",
            "showbackground": true,
            "ticks": "",
            "zerolinecolor": "white"
           },
           "yaxis": {
            "backgroundcolor": "#E5ECF6",
            "gridcolor": "white",
            "gridwidth": 2,
            "linecolor": "white",
            "showbackground": true,
            "ticks": "",
            "zerolinecolor": "white"
           },
           "zaxis": {
            "backgroundcolor": "#E5ECF6",
            "gridcolor": "white",
            "gridwidth": 2,
            "linecolor": "white",
            "showbackground": true,
            "ticks": "",
            "zerolinecolor": "white"
           }
          },
          "shapedefaults": {
           "line": {
            "color": "#2a3f5f"
           }
          },
          "ternary": {
           "aaxis": {
            "gridcolor": "white",
            "linecolor": "white",
            "ticks": ""
           },
           "baxis": {
            "gridcolor": "white",
            "linecolor": "white",
            "ticks": ""
           },
           "bgcolor": "#E5ECF6",
           "caxis": {
            "gridcolor": "white",
            "linecolor": "white",
            "ticks": ""
           }
          },
          "title": {
           "x": 0.05
          },
          "xaxis": {
           "automargin": true,
           "gridcolor": "white",
           "linecolor": "white",
           "ticks": "",
           "title": {
            "standoff": 15
           },
           "zerolinecolor": "white",
           "zerolinewidth": 2
          },
          "yaxis": {
           "automargin": true,
           "gridcolor": "white",
           "linecolor": "white",
           "ticks": "",
           "title": {
            "standoff": 15
           },
           "zerolinecolor": "white",
           "zerolinewidth": 2
          }
         }
        },
        "title": {
         "text": "Argument Correctness Scores: Models vs Languages/Categories<br><sub>Categories: no_tool_call | absolute_date | relative_date</sub>"
        },
        "xaxis": {
         "anchor": "y",
         "domain": [
          0,
          1
         ],
         "side": "bottom",
         "tickangle": 45,
         "title": {
          "text": "Language_Category"
         }
        },
        "yaxis": {
         "anchor": "x",
         "autorange": "reversed",
         "domain": [
          0,
          1
         ],
         "side": "left",
         "title": {
          "text": "Model"
         }
        }
       }
      }
     },
     "metadata": {},
     "output_type": "display_data"
    },
    {
     "name": "stdout",
     "output_type": "stream",
     "text": [
      "✓ Exported Argument Correctness detailed category heatmap\n",
      "\\nArgument Correctness - Category Performance Summary:\n",
      "               Tests  Mean Score  Std Dev\n",
      "category                                 \n",
      "no_tool_call     420      0.9536   0.2092\n",
      "absolute_date    840      0.8893   0.3140\n",
      "relative_date    630      0.6624   0.3707\n"
     ]
    },
    {
     "data": {
      "application/vnd.plotly.v1+json": {
       "config": {
        "plotlyServerURL": "https://plot.ly"
       },
       "data": [
        {
         "coloraxis": "coloraxis",
         "hovertemplate": "Language_Category: %{x}<br>Model: %{y}<br>Score: %{z}<extra></extra>",
         "name": "0",
         "text": {
          "bdata": "zczMzMzM7D8AAAAAAADgP2Q730+Nl+4/zczMzMzM7D8AAAAAAADgP2Q730+Nl+4/mpmZmZmZ6T8AAAAAAADYP/7UeOkmMeg/AAAAAAAA8D8AAAAAAADgPzEIrBxaZOs/AAAAAAAA8D8AAAAAAADgP2Q730+Nl+4/zczMzMzM7D+amZmZmZnZP3Noke18P+k/AAAAAAAA8D9mZmZmZmbePxsv3SQGge0/MzMzMzMz6z8AAAAAAADwP1g5tMh2vus/AAAAAAAA8D8AAAAAAADwP0Jg5dAi2+0/AAAAAAAA8D8AAAAAAADwPwAAAAAAAPA/AAAAAAAA8D8AAAAAAADwP83MzMzMzOw/AAAAAAAA8D8AAAAAAADwPyUGgZVDi+g/AAAAAAAA8D8AAAAAAADwP0Jg5dAi2+0/AAAAAAAA8D8AAAAAAADwP4ts5/up8e4/AAAAAAAA8D8AAAAAAADwP1g5tMh2vus/AAAAAAAA8D8AAAAAAADwP3WTGARWDuE/AAAAAAAA8D8AAAAAAADwPyUGgZVDi+g/AAAAAAAA8D8AAAAAAADwP0Jg5dAi2+0/AAAAAAAA8D8AAAAAAADwPyUGgZVDi+g/AAAAAAAA8D8AAAAAAADwP5qZmZmZmek/AAAAAAAA8D8AAAAAAADwP/LSTWIQWOU/AAAAAAAA8D8AAAAAAADwP0Jg5dAi2+0/AAAAAAAA8D8AAAAAAADwPwAAAAAAAPA/AAAAAAAA8D8AAAAAAADwP83MzMzMzOw/AAAAAAAA8D8AAAAAAADwP9nO91Pjpe8/AAAAAAAA8D8AAAAAAADwPwAAAAAAAPA/AAAAAAAA8D8AAAAAAADwP0Jg5dAi2+0/AAAAAAAA8D8AAAAAAADwP83MzMzMzOw/zczMzMzM7D+amZmZmZntP4ts5/up8eY/MzMzMzMz4z8AAAAAAADwPxfZzvdT490/ZmZmZmZm5j8AAAAAAADwP05iEFg5tOA/zczMzMzM7D9mZmZmZmbuP7Kd76fGS98/AAAAAAAA8D9mZmZmZmbuPxfZzvdT490/ZmZmZmZm5j8zMzMzMzPrP7bz/dR46d4/AAAAAAAA8D8zMzMzMzPrP76fGi/dJOo/AAAAAAAA8D8AAAAAAADwPwAAAAAAAPA/AAAAAAAA8D8AAAAAAADwP6abxCCwcuw/zczMzMzM7D8AAAAAAADwP9nO91Pjpe8/AAAAAAAA8D8AAAAAAADsP9nO91Pjpe8/AAAAAAAA8D8AAAAAAADwP9nO91Pjpe8/AAAAAAAA8D8AAAAAAADwPwAAAAAAAPA/AAAAAAAA8D8AAAAAAADwPwAAAAAAAPA/",
          "dtype": "f8",
          "shape": "6, 21"
         },
         "textfont": {
          "size": 8
         },
         "texttemplate": "%{text}",
         "type": "heatmap",
         "x": [
          "deu_no_tool_call",
          "deu_absolute_date",
          "deu_relative_date",
          "eng_no_tool_call",
          "eng_absolute_date",
          "eng_relative_date",
          "est_no_tool_call",
          "est_absolute_date",
          "est_relative_date",
          "fra_no_tool_call",
          "fra_absolute_date",
          "fra_relative_date",
          "nld_no_tool_call",
          "nld_absolute_date",
          "nld_relative_date",
          "pol_no_tool_call",
          "pol_absolute_date",
          "pol_relative_date",
          "por_no_tool_call",
          "por_absolute_date",
          "por_relative_date"
         ],
         "xaxis": "x",
         "y": [
          "Mistral-Nemo-Instruct-2407",
          "Qwen3-14B",
          "Qwen3-4B",
          "Qwen3-8B",
          "SmolLM3-3B",
          "gpt-oss-20b"
         ],
         "yaxis": "y",
         "z": {
          "bdata": "zczMzMzM7D8AAAAAAADgPz/pkz7pk+4/zczMzMzM7D8AAAAAAADgPz/pkz7pk+4/mpmZmZmZ6T8AAAAAAADYP9mCLdiCLeg/AAAAAAAA8D8AAAAAAADgPwy2YAu2YOs/AAAAAAAA8D8AAAAAAADgPz/pkz7pk+4/zczMzMzM7D+amZmZmZnZP+qTPumTPuk/AAAAAAAA8D9mZmZmZmbePy7Ygi3Ygu0/MzMzMzMz6z8AAAAAAADwP7y7u7u7u+s/AAAAAAAA8D8AAAAAAADwP97d3d3d3e0/AAAAAAAA8D8AAAAAAADwPwAAAAAAAPA/AAAAAAAA8D8AAAAAAADwP83MzMzMzOw/AAAAAAAA8D8AAAAAAADwP4mIiIiIiOg/AAAAAAAA8D8AAAAAAADwP97d3d3d3e0/AAAAAAAA8D8AAAAAAADwP+/u7u7u7u4/AAAAAAAA8D8AAAAAAADwP7y7u7u7u+s/AAAAAAAA8D8AAAAAAADwPxEREREREeE/AAAAAAAA8D8AAAAAAADwP4mIiIiIiOg/AAAAAAAA8D8AAAAAAADwP97d3d3d3e0/AAAAAAAA8D8AAAAAAADwP4mIiIiIiOg/AAAAAAAA8D8AAAAAAADwP5qZmZmZmek/AAAAAAAA8D8AAAAAAADwP1VVVVVVVeU/AAAAAAAA8D8AAAAAAADwP97d3d3d3e0/AAAAAAAA8D8AAAAAAADwPwAAAAAAAPA/AAAAAAAA8D8AAAAAAADwP83MzMzMzOw/AAAAAAAA8D8AAAAAAADwP1D6pE/6pO8/AAAAAAAA8D8AAAAAAADwPwAAAAAAAPA/AAAAAAAA8D8AAAAAAADwP97d3d3d3e0/AAAAAAAA8D8AAAAAAADwP83MzMzMzOw/zczMzMzM7D+amZmZmZntP+/u7u7u7uY/MzMzMzMz4z8AAAAAAADwP97d3d3d3d0/ZmZmZmZm5j8AAAAAAADwP2ELtmALtuA/zczMzMzM7D9mZmZmZmbuP5/0SZ/0Sd8/AAAAAAAA8D9mZmZmZmbuP97d3d3d3d0/ZmZmZmZm5j8zMzMzMzPrP+/u7u7u7t4/AAAAAAAA8D8zMzMzMzPrPyIiIiIiIuo/AAAAAAAA8D8AAAAAAADwPwAAAAAAAPA/AAAAAAAA8D8AAAAAAADwPx3HcRzHcew/zczMzMzM7D8AAAAAAADwP1D6pE/6pO8/AAAAAAAA8D8AAAAAAADsP1D6pE/6pO8/AAAAAAAA8D8AAAAAAADwP1D6pE/6pO8/AAAAAAAA8D8AAAAAAADwPwAAAAAAAPA/AAAAAAAA8D8AAAAAAADwPwAAAAAAAPA/",
          "dtype": "f8",
          "shape": "6, 21"
         }
        }
       ],
       "layout": {
        "coloraxis": {
         "colorbar": {
          "title": {
           "text": "Score"
          }
         },
         "colorscale": [
          [
           0,
           "rgb(165,0,38)"
          ],
          [
           0.1,
           "rgb(215,48,39)"
          ],
          [
           0.2,
           "rgb(244,109,67)"
          ],
          [
           0.3,
           "rgb(253,174,97)"
          ],
          [
           0.4,
           "rgb(254,224,139)"
          ],
          [
           0.5,
           "rgb(255,255,191)"
          ],
          [
           0.6,
           "rgb(217,239,139)"
          ],
          [
           0.7,
           "rgb(166,217,106)"
          ],
          [
           0.8,
           "rgb(102,189,99)"
          ],
          [
           0.9,
           "rgb(26,152,80)"
          ],
          [
           1,
           "rgb(0,104,55)"
          ]
         ]
        },
        "height": 500,
        "margin": {
         "b": 150
        },
        "shapes": [
         {
          "line": {
           "color": "black",
           "width": 2
          },
          "type": "line",
          "x0": 2.5,
          "x1": 2.5,
          "y0": -0.5,
          "y1": 5.5
         },
         {
          "line": {
           "color": "black",
           "width": 2
          },
          "type": "line",
          "x0": 5.5,
          "x1": 5.5,
          "y0": -0.5,
          "y1": 5.5
         },
         {
          "line": {
           "color": "black",
           "width": 2
          },
          "type": "line",
          "x0": 8.5,
          "x1": 8.5,
          "y0": -0.5,
          "y1": 5.5
         },
         {
          "line": {
           "color": "black",
           "width": 2
          },
          "type": "line",
          "x0": 11.5,
          "x1": 11.5,
          "y0": -0.5,
          "y1": 5.5
         },
         {
          "line": {
           "color": "black",
           "width": 2
          },
          "type": "line",
          "x0": 14.5,
          "x1": 14.5,
          "y0": -0.5,
          "y1": 5.5
         },
         {
          "line": {
           "color": "black",
           "width": 2
          },
          "type": "line",
          "x0": 17.5,
          "x1": 17.5,
          "y0": -0.5,
          "y1": 5.5
         }
        ],
        "template": {
         "data": {
          "bar": [
           {
            "error_x": {
             "color": "#2a3f5f"
            },
            "error_y": {
             "color": "#2a3f5f"
            },
            "marker": {
             "line": {
              "color": "#E5ECF6",
              "width": 0.5
             },
             "pattern": {
              "fillmode": "overlay",
              "size": 10,
              "solidity": 0.2
             }
            },
            "type": "bar"
           }
          ],
          "barpolar": [
           {
            "marker": {
             "line": {
              "color": "#E5ECF6",
              "width": 0.5
             },
             "pattern": {
              "fillmode": "overlay",
              "size": 10,
              "solidity": 0.2
             }
            },
            "type": "barpolar"
           }
          ],
          "carpet": [
           {
            "aaxis": {
             "endlinecolor": "#2a3f5f",
             "gridcolor": "white",
             "linecolor": "white",
             "minorgridcolor": "white",
             "startlinecolor": "#2a3f5f"
            },
            "baxis": {
             "endlinecolor": "#2a3f5f",
             "gridcolor": "white",
             "linecolor": "white",
             "minorgridcolor": "white",
             "startlinecolor": "#2a3f5f"
            },
            "type": "carpet"
           }
          ],
          "choropleth": [
           {
            "colorbar": {
             "outlinewidth": 0,
             "ticks": ""
            },
            "type": "choropleth"
           }
          ],
          "contour": [
           {
            "colorbar": {
             "outlinewidth": 0,
             "ticks": ""
            },
            "colorscale": [
             [
              0,
              "#0d0887"
             ],
             [
              0.1111111111111111,
              "#46039f"
             ],
             [
              0.2222222222222222,
              "#7201a8"
             ],
             [
              0.3333333333333333,
              "#9c179e"
             ],
             [
              0.4444444444444444,
              "#bd3786"
             ],
             [
              0.5555555555555556,
              "#d8576b"
             ],
             [
              0.6666666666666666,
              "#ed7953"
             ],
             [
              0.7777777777777778,
              "#fb9f3a"
             ],
             [
              0.8888888888888888,
              "#fdca26"
             ],
             [
              1,
              "#f0f921"
             ]
            ],
            "type": "contour"
           }
          ],
          "contourcarpet": [
           {
            "colorbar": {
             "outlinewidth": 0,
             "ticks": ""
            },
            "type": "contourcarpet"
           }
          ],
          "heatmap": [
           {
            "colorbar": {
             "outlinewidth": 0,
             "ticks": ""
            },
            "colorscale": [
             [
              0,
              "#0d0887"
             ],
             [
              0.1111111111111111,
              "#46039f"
             ],
             [
              0.2222222222222222,
              "#7201a8"
             ],
             [
              0.3333333333333333,
              "#9c179e"
             ],
             [
              0.4444444444444444,
              "#bd3786"
             ],
             [
              0.5555555555555556,
              "#d8576b"
             ],
             [
              0.6666666666666666,
              "#ed7953"
             ],
             [
              0.7777777777777778,
              "#fb9f3a"
             ],
             [
              0.8888888888888888,
              "#fdca26"
             ],
             [
              1,
              "#f0f921"
             ]
            ],
            "type": "heatmap"
           }
          ],
          "histogram": [
           {
            "marker": {
             "pattern": {
              "fillmode": "overlay",
              "size": 10,
              "solidity": 0.2
             }
            },
            "type": "histogram"
           }
          ],
          "histogram2d": [
           {
            "colorbar": {
             "outlinewidth": 0,
             "ticks": ""
            },
            "colorscale": [
             [
              0,
              "#0d0887"
             ],
             [
              0.1111111111111111,
              "#46039f"
             ],
             [
              0.2222222222222222,
              "#7201a8"
             ],
             [
              0.3333333333333333,
              "#9c179e"
             ],
             [
              0.4444444444444444,
              "#bd3786"
             ],
             [
              0.5555555555555556,
              "#d8576b"
             ],
             [
              0.6666666666666666,
              "#ed7953"
             ],
             [
              0.7777777777777778,
              "#fb9f3a"
             ],
             [
              0.8888888888888888,
              "#fdca26"
             ],
             [
              1,
              "#f0f921"
             ]
            ],
            "type": "histogram2d"
           }
          ],
          "histogram2dcontour": [
           {
            "colorbar": {
             "outlinewidth": 0,
             "ticks": ""
            },
            "colorscale": [
             [
              0,
              "#0d0887"
             ],
             [
              0.1111111111111111,
              "#46039f"
             ],
             [
              0.2222222222222222,
              "#7201a8"
             ],
             [
              0.3333333333333333,
              "#9c179e"
             ],
             [
              0.4444444444444444,
              "#bd3786"
             ],
             [
              0.5555555555555556,
              "#d8576b"
             ],
             [
              0.6666666666666666,
              "#ed7953"
             ],
             [
              0.7777777777777778,
              "#fb9f3a"
             ],
             [
              0.8888888888888888,
              "#fdca26"
             ],
             [
              1,
              "#f0f921"
             ]
            ],
            "type": "histogram2dcontour"
           }
          ],
          "mesh3d": [
           {
            "colorbar": {
             "outlinewidth": 0,
             "ticks": ""
            },
            "type": "mesh3d"
           }
          ],
          "parcoords": [
           {
            "line": {
             "colorbar": {
              "outlinewidth": 0,
              "ticks": ""
             }
            },
            "type": "parcoords"
           }
          ],
          "pie": [
           {
            "automargin": true,
            "type": "pie"
           }
          ],
          "scatter": [
           {
            "fillpattern": {
             "fillmode": "overlay",
             "size": 10,
             "solidity": 0.2
            },
            "type": "scatter"
           }
          ],
          "scatter3d": [
           {
            "line": {
             "colorbar": {
              "outlinewidth": 0,
              "ticks": ""
             }
            },
            "marker": {
             "colorbar": {
              "outlinewidth": 0,
              "ticks": ""
             }
            },
            "type": "scatter3d"
           }
          ],
          "scattercarpet": [
           {
            "marker": {
             "colorbar": {
              "outlinewidth": 0,
              "ticks": ""
             }
            },
            "type": "scattercarpet"
           }
          ],
          "scattergeo": [
           {
            "marker": {
             "colorbar": {
              "outlinewidth": 0,
              "ticks": ""
             }
            },
            "type": "scattergeo"
           }
          ],
          "scattergl": [
           {
            "marker": {
             "colorbar": {
              "outlinewidth": 0,
              "ticks": ""
             }
            },
            "type": "scattergl"
           }
          ],
          "scattermap": [
           {
            "marker": {
             "colorbar": {
              "outlinewidth": 0,
              "ticks": ""
             }
            },
            "type": "scattermap"
           }
          ],
          "scattermapbox": [
           {
            "marker": {
             "colorbar": {
              "outlinewidth": 0,
              "ticks": ""
             }
            },
            "type": "scattermapbox"
           }
          ],
          "scatterpolar": [
           {
            "marker": {
             "colorbar": {
              "outlinewidth": 0,
              "ticks": ""
             }
            },
            "type": "scatterpolar"
           }
          ],
          "scatterpolargl": [
           {
            "marker": {
             "colorbar": {
              "outlinewidth": 0,
              "ticks": ""
             }
            },
            "type": "scatterpolargl"
           }
          ],
          "scatterternary": [
           {
            "marker": {
             "colorbar": {
              "outlinewidth": 0,
              "ticks": ""
             }
            },
            "type": "scatterternary"
           }
          ],
          "surface": [
           {
            "colorbar": {
             "outlinewidth": 0,
             "ticks": ""
            },
            "colorscale": [
             [
              0,
              "#0d0887"
             ],
             [
              0.1111111111111111,
              "#46039f"
             ],
             [
              0.2222222222222222,
              "#7201a8"
             ],
             [
              0.3333333333333333,
              "#9c179e"
             ],
             [
              0.4444444444444444,
              "#bd3786"
             ],
             [
              0.5555555555555556,
              "#d8576b"
             ],
             [
              0.6666666666666666,
              "#ed7953"
             ],
             [
              0.7777777777777778,
              "#fb9f3a"
             ],
             [
              0.8888888888888888,
              "#fdca26"
             ],
             [
              1,
              "#f0f921"
             ]
            ],
            "type": "surface"
           }
          ],
          "table": [
           {
            "cells": {
             "fill": {
              "color": "#EBF0F8"
             },
             "line": {
              "color": "white"
             }
            },
            "header": {
             "fill": {
              "color": "#C8D4E3"
             },
             "line": {
              "color": "white"
             }
            },
            "type": "table"
           }
          ]
         },
         "layout": {
          "annotationdefaults": {
           "arrowcolor": "#2a3f5f",
           "arrowhead": 0,
           "arrowwidth": 1
          },
          "autotypenumbers": "strict",
          "coloraxis": {
           "colorbar": {
            "outlinewidth": 0,
            "ticks": ""
           }
          },
          "colorscale": {
           "diverging": [
            [
             0,
             "#8e0152"
            ],
            [
             0.1,
             "#c51b7d"
            ],
            [
             0.2,
             "#de77ae"
            ],
            [
             0.3,
             "#f1b6da"
            ],
            [
             0.4,
             "#fde0ef"
            ],
            [
             0.5,
             "#f7f7f7"
            ],
            [
             0.6,
             "#e6f5d0"
            ],
            [
             0.7,
             "#b8e186"
            ],
            [
             0.8,
             "#7fbc41"
            ],
            [
             0.9,
             "#4d9221"
            ],
            [
             1,
             "#276419"
            ]
           ],
           "sequential": [
            [
             0,
             "#0d0887"
            ],
            [
             0.1111111111111111,
             "#46039f"
            ],
            [
             0.2222222222222222,
             "#7201a8"
            ],
            [
             0.3333333333333333,
             "#9c179e"
            ],
            [
             0.4444444444444444,
             "#bd3786"
            ],
            [
             0.5555555555555556,
             "#d8576b"
            ],
            [
             0.6666666666666666,
             "#ed7953"
            ],
            [
             0.7777777777777778,
             "#fb9f3a"
            ],
            [
             0.8888888888888888,
             "#fdca26"
            ],
            [
             1,
             "#f0f921"
            ]
           ],
           "sequentialminus": [
            [
             0,
             "#0d0887"
            ],
            [
             0.1111111111111111,
             "#46039f"
            ],
            [
             0.2222222222222222,
             "#7201a8"
            ],
            [
             0.3333333333333333,
             "#9c179e"
            ],
            [
             0.4444444444444444,
             "#bd3786"
            ],
            [
             0.5555555555555556,
             "#d8576b"
            ],
            [
             0.6666666666666666,
             "#ed7953"
            ],
            [
             0.7777777777777778,
             "#fb9f3a"
            ],
            [
             0.8888888888888888,
             "#fdca26"
            ],
            [
             1,
             "#f0f921"
            ]
           ]
          },
          "colorway": [
           "#636efa",
           "#EF553B",
           "#00cc96",
           "#ab63fa",
           "#FFA15A",
           "#19d3f3",
           "#FF6692",
           "#B6E880",
           "#FF97FF",
           "#FECB52"
          ],
          "font": {
           "color": "#2a3f5f"
          },
          "geo": {
           "bgcolor": "white",
           "lakecolor": "white",
           "landcolor": "#E5ECF6",
           "showlakes": true,
           "showland": true,
           "subunitcolor": "white"
          },
          "hoverlabel": {
           "align": "left"
          },
          "hovermode": "closest",
          "mapbox": {
           "style": "light"
          },
          "paper_bgcolor": "white",
          "plot_bgcolor": "#E5ECF6",
          "polar": {
           "angularaxis": {
            "gridcolor": "white",
            "linecolor": "white",
            "ticks": ""
           },
           "bgcolor": "#E5ECF6",
           "radialaxis": {
            "gridcolor": "white",
            "linecolor": "white",
            "ticks": ""
           }
          },
          "scene": {
           "xaxis": {
            "backgroundcolor": "#E5ECF6",
            "gridcolor": "white",
            "gridwidth": 2,
            "linecolor": "white",
            "showbackground": true,
            "ticks": "",
            "zerolinecolor": "white"
           },
           "yaxis": {
            "backgroundcolor": "#E5ECF6",
            "gridcolor": "white",
            "gridwidth": 2,
            "linecolor": "white",
            "showbackground": true,
            "ticks": "",
            "zerolinecolor": "white"
           },
           "zaxis": {
            "backgroundcolor": "#E5ECF6",
            "gridcolor": "white",
            "gridwidth": 2,
            "linecolor": "white",
            "showbackground": true,
            "ticks": "",
            "zerolinecolor": "white"
           }
          },
          "shapedefaults": {
           "line": {
            "color": "#2a3f5f"
           }
          },
          "ternary": {
           "aaxis": {
            "gridcolor": "white",
            "linecolor": "white",
            "ticks": ""
           },
           "baxis": {
            "gridcolor": "white",
            "linecolor": "white",
            "ticks": ""
           },
           "bgcolor": "#E5ECF6",
           "caxis": {
            "gridcolor": "white",
            "linecolor": "white",
            "ticks": ""
           }
          },
          "title": {
           "x": 0.05
          },
          "xaxis": {
           "automargin": true,
           "gridcolor": "white",
           "linecolor": "white",
           "ticks": "",
           "title": {
            "standoff": 15
           },
           "zerolinecolor": "white",
           "zerolinewidth": 2
          },
          "yaxis": {
           "automargin": true,
           "gridcolor": "white",
           "linecolor": "white",
           "ticks": "",
           "title": {
            "standoff": 15
           },
           "zerolinecolor": "white",
           "zerolinewidth": 2
          }
         }
        },
        "title": {
         "text": "Tool Correctness Scores: Models vs Languages/Categories<br><sub>Categories: no_tool_call | absolute_date | relative_date</sub>"
        },
        "xaxis": {
         "anchor": "y",
         "domain": [
          0,
          1
         ],
         "side": "bottom",
         "tickangle": 45,
         "title": {
          "text": "Language_Category"
         }
        },
        "yaxis": {
         "anchor": "x",
         "autorange": "reversed",
         "domain": [
          0,
          1
         ],
         "side": "left",
         "title": {
          "text": "Model"
         }
        }
       }
      }
     },
     "metadata": {},
     "output_type": "display_data"
    },
    {
     "name": "stdout",
     "output_type": "stream",
     "text": [
      "✓ Exported Tool Correctness detailed category heatmap\n",
      "\\nTool Correctness - Category Performance Summary:\n",
      "               Tests  Mean Score  Std Dev\n",
      "category                                 \n",
      "no_tool_call     420      0.9536   0.2092\n",
      "absolute_date    840      0.8964   0.2303\n",
      "relative_date    630      0.8419   0.3250\n"
     ]
    }
   ],
   "source": [
    "# Create detailed category breakdown heatmaps\n",
    "for metric in metrics:\n",
    "    metric_data = detailed_df[detailed_df['metric'] == metric]\n",
    "    \n",
    "    # Calculate mean scores for each model-language-category combination\n",
    "    detailed_pivot = metric_data.groupby(['model_clean', 'language', 'category'])['score'].mean().reset_index()\n",
    "    \n",
    "    # Create a pivot table with language_category as columns\n",
    "    pivot_detailed = detailed_pivot.pivot_table(\n",
    "        values='score',\n",
    "        index='model_clean', \n",
    "        columns=['language', 'category'],\n",
    "        aggfunc='mean'\n",
    "    )\n",
    "    \n",
    "    # Flatten column names to create readable labels\n",
    "    pivot_detailed.columns = [f\"{lang}_{cat}\" for lang, cat in pivot_detailed.columns]\n",
    "    \n",
    "    # Reorder columns to group by language\n",
    "    languages = sorted(detailed_df['language'].unique())\n",
    "    categories = ['no_tool_call', 'absolute_date', 'relative_date']\n",
    "    ordered_cols = []\n",
    "    for lang in languages:\n",
    "        for cat in categories:\n",
    "            col_name = f\"{lang}_{cat}\"\n",
    "            if col_name in pivot_detailed.columns:\n",
    "                ordered_cols.append(col_name)\n",
    "    \n",
    "    pivot_detailed = pivot_detailed[ordered_cols]\n",
    "    \n",
    "    # Create heatmap\n",
    "    fig = px.imshow(\n",
    "        pivot_detailed,\n",
    "        title=f\"{metric} Scores: Models vs Languages/Categories<br><sub>Categories: no_tool_call | absolute_date | relative_date</sub>\",\n",
    "        labels=dict(x=\"Language_Category\", y=\"Model\", color=\"Score\"),\n",
    "        color_continuous_scale=\"RdYlGn\",\n",
    "        aspect=\"auto\"\n",
    "    )\n",
    "    \n",
    "    # Add text annotations\n",
    "    fig.update_traces(\n",
    "        text=pivot_detailed.round(3).values,\n",
    "        texttemplate=\"%{text}\",\n",
    "        textfont={\"size\": 8}\n",
    "    )\n",
    "    \n",
    "    # Customize layout for better readability\n",
    "    fig.update_layout(\n",
    "        height=500,\n",
    "        xaxis={'tickangle': 45, 'side': 'bottom'},\n",
    "        yaxis={'side': 'left'},\n",
    "        margin=dict(b=150)  # Extra bottom margin for rotated labels\n",
    "    )\n",
    "    \n",
    "    # Add vertical lines to separate language groups\n",
    "    shapes = []\n",
    "    for i, lang in enumerate(languages[:-1]):  # Don't add line after last language\n",
    "        x_pos = (i + 1) * len(categories) - 0.5\n",
    "        shapes.append(\n",
    "            dict(\n",
    "                type=\"line\",\n",
    "                x0=x_pos, x1=x_pos,\n",
    "                y0=-0.5, y1=len(pivot_detailed.index) - 0.5,\n",
    "                line=dict(color=\"black\", width=2)\n",
    "            )\n",
    "        )\n",
    "    \n",
    "    fig.update_layout(shapes=shapes)\n",
    "    fig.show()\n",
    "    \n",
    "    # Export to HTML\n",
    "    metric_filename = metric.replace(' ', '_').replace('/', '_').lower()\n",
    "    fig.write_html(f\"{docs_dir}/{metric_filename}_detailed_category_heatmap.html\")\n",
    "    print(f\"✓ Exported {metric} detailed category heatmap\")\n",
    "    \n",
    "    # Print summary statistics for this detailed breakdown\n",
    "    print(f\"\\\\n{metric} - Category Performance Summary:\")\n",
    "    category_summary = metric_data.groupby(['category'])['score'].agg(['count', 'mean', 'std']).round(4)\n",
    "    category_summary.columns = ['Tests', 'Mean Score', 'Std Dev']\n",
    "    print(category_summary.sort_values('Mean Score', ascending=False))"
   ]
  },
  {
   "cell_type": "code",
   "execution_count": 56,
   "metadata": {},
   "outputs": [
    {
     "name": "stdout",
     "output_type": "stream",
     "text": [
      "Performance by Language (averaged across all models and metrics):\n"
     ]
    },
    {
     "data": {
      "text/html": [
       "<div>\n",
       "<style scoped>\n",
       "    .dataframe tbody tr th:only-of-type {\n",
       "        vertical-align: middle;\n",
       "    }\n",
       "\n",
       "    .dataframe tbody tr th {\n",
       "        vertical-align: top;\n",
       "    }\n",
       "\n",
       "    .dataframe thead th {\n",
       "        text-align: right;\n",
       "    }\n",
       "</style>\n",
       "<table border=\"1\" class=\"dataframe\">\n",
       "  <thead>\n",
       "    <tr style=\"text-align: right;\">\n",
       "      <th></th>\n",
       "      <th>Mean Score</th>\n",
       "      <th>Std Dev</th>\n",
       "      <th>Data Points</th>\n",
       "    </tr>\n",
       "    <tr>\n",
       "      <th>language</th>\n",
       "      <th></th>\n",
       "      <th></th>\n",
       "      <th></th>\n",
       "    </tr>\n",
       "  </thead>\n",
       "  <tbody>\n",
       "    <tr>\n",
       "      <th>nld</th>\n",
       "      <td>0.8602</td>\n",
       "      <td>0.1176</td>\n",
       "      <td>12</td>\n",
       "    </tr>\n",
       "    <tr>\n",
       "      <th>por</th>\n",
       "      <td>0.8492</td>\n",
       "      <td>0.1332</td>\n",
       "      <td>12</td>\n",
       "    </tr>\n",
       "    <tr>\n",
       "      <th>deu</th>\n",
       "      <td>0.8481</td>\n",
       "      <td>0.1232</td>\n",
       "      <td>12</td>\n",
       "    </tr>\n",
       "    <tr>\n",
       "      <th>fra</th>\n",
       "      <td>0.8465</td>\n",
       "      <td>0.1350</td>\n",
       "      <td>12</td>\n",
       "    </tr>\n",
       "    <tr>\n",
       "      <th>eng</th>\n",
       "      <td>0.8405</td>\n",
       "      <td>0.1354</td>\n",
       "      <td>12</td>\n",
       "    </tr>\n",
       "    <tr>\n",
       "      <th>est</th>\n",
       "      <td>0.8133</td>\n",
       "      <td>0.1602</td>\n",
       "      <td>12</td>\n",
       "    </tr>\n",
       "    <tr>\n",
       "      <th>pol</th>\n",
       "      <td>0.8089</td>\n",
       "      <td>0.1875</td>\n",
       "      <td>12</td>\n",
       "    </tr>\n",
       "  </tbody>\n",
       "</table>\n",
       "</div>"
      ],
      "text/plain": [
       "          Mean Score  Std Dev  Data Points\n",
       "language                                  \n",
       "nld           0.8602   0.1176           12\n",
       "por           0.8492   0.1332           12\n",
       "deu           0.8481   0.1232           12\n",
       "fra           0.8465   0.1350           12\n",
       "eng           0.8405   0.1354           12\n",
       "est           0.8133   0.1602           12\n",
       "pol           0.8089   0.1875           12"
      ]
     },
     "metadata": {},
     "output_type": "display_data"
    },
    {
     "data": {
      "application/vnd.plotly.v1+json": {
       "config": {
        "plotlyServerURL": "https://plot.ly"
       },
       "data": [
        {
         "hovertemplate": "Language=%{x}<br>Average Score=%{y}<extra></extra>",
         "legendgroup": "",
         "marker": {
          "color": "#636efa",
          "pattern": {
           "shape": ""
          }
         },
         "name": "",
         "orientation": "v",
         "showlegend": false,
         "textposition": "auto",
         "type": "bar",
         "x": [
          "nld",
          "por",
          "deu",
          "fra",
          "eng",
          "est",
          "pol"
         ],
         "xaxis": "x",
         "y": {
          "bdata": "SZ2AJsKG6z8ibHh6pSzrP2uad5yiI+s/SgwCK4cW6z9MN4lBYOXqPxHHuriNBuo/NIC3QILi6T8=",
          "dtype": "f8"
         },
         "yaxis": "y"
        }
       ],
       "layout": {
        "barmode": "relative",
        "height": 400,
        "legend": {
         "tracegroupgap": 0
        },
        "template": {
         "data": {
          "bar": [
           {
            "error_x": {
             "color": "#2a3f5f"
            },
            "error_y": {
             "color": "#2a3f5f"
            },
            "marker": {
             "line": {
              "color": "#E5ECF6",
              "width": 0.5
             },
             "pattern": {
              "fillmode": "overlay",
              "size": 10,
              "solidity": 0.2
             }
            },
            "type": "bar"
           }
          ],
          "barpolar": [
           {
            "marker": {
             "line": {
              "color": "#E5ECF6",
              "width": 0.5
             },
             "pattern": {
              "fillmode": "overlay",
              "size": 10,
              "solidity": 0.2
             }
            },
            "type": "barpolar"
           }
          ],
          "carpet": [
           {
            "aaxis": {
             "endlinecolor": "#2a3f5f",
             "gridcolor": "white",
             "linecolor": "white",
             "minorgridcolor": "white",
             "startlinecolor": "#2a3f5f"
            },
            "baxis": {
             "endlinecolor": "#2a3f5f",
             "gridcolor": "white",
             "linecolor": "white",
             "minorgridcolor": "white",
             "startlinecolor": "#2a3f5f"
            },
            "type": "carpet"
           }
          ],
          "choropleth": [
           {
            "colorbar": {
             "outlinewidth": 0,
             "ticks": ""
            },
            "type": "choropleth"
           }
          ],
          "contour": [
           {
            "colorbar": {
             "outlinewidth": 0,
             "ticks": ""
            },
            "colorscale": [
             [
              0,
              "#0d0887"
             ],
             [
              0.1111111111111111,
              "#46039f"
             ],
             [
              0.2222222222222222,
              "#7201a8"
             ],
             [
              0.3333333333333333,
              "#9c179e"
             ],
             [
              0.4444444444444444,
              "#bd3786"
             ],
             [
              0.5555555555555556,
              "#d8576b"
             ],
             [
              0.6666666666666666,
              "#ed7953"
             ],
             [
              0.7777777777777778,
              "#fb9f3a"
             ],
             [
              0.8888888888888888,
              "#fdca26"
             ],
             [
              1,
              "#f0f921"
             ]
            ],
            "type": "contour"
           }
          ],
          "contourcarpet": [
           {
            "colorbar": {
             "outlinewidth": 0,
             "ticks": ""
            },
            "type": "contourcarpet"
           }
          ],
          "heatmap": [
           {
            "colorbar": {
             "outlinewidth": 0,
             "ticks": ""
            },
            "colorscale": [
             [
              0,
              "#0d0887"
             ],
             [
              0.1111111111111111,
              "#46039f"
             ],
             [
              0.2222222222222222,
              "#7201a8"
             ],
             [
              0.3333333333333333,
              "#9c179e"
             ],
             [
              0.4444444444444444,
              "#bd3786"
             ],
             [
              0.5555555555555556,
              "#d8576b"
             ],
             [
              0.6666666666666666,
              "#ed7953"
             ],
             [
              0.7777777777777778,
              "#fb9f3a"
             ],
             [
              0.8888888888888888,
              "#fdca26"
             ],
             [
              1,
              "#f0f921"
             ]
            ],
            "type": "heatmap"
           }
          ],
          "histogram": [
           {
            "marker": {
             "pattern": {
              "fillmode": "overlay",
              "size": 10,
              "solidity": 0.2
             }
            },
            "type": "histogram"
           }
          ],
          "histogram2d": [
           {
            "colorbar": {
             "outlinewidth": 0,
             "ticks": ""
            },
            "colorscale": [
             [
              0,
              "#0d0887"
             ],
             [
              0.1111111111111111,
              "#46039f"
             ],
             [
              0.2222222222222222,
              "#7201a8"
             ],
             [
              0.3333333333333333,
              "#9c179e"
             ],
             [
              0.4444444444444444,
              "#bd3786"
             ],
             [
              0.5555555555555556,
              "#d8576b"
             ],
             [
              0.6666666666666666,
              "#ed7953"
             ],
             [
              0.7777777777777778,
              "#fb9f3a"
             ],
             [
              0.8888888888888888,
              "#fdca26"
             ],
             [
              1,
              "#f0f921"
             ]
            ],
            "type": "histogram2d"
           }
          ],
          "histogram2dcontour": [
           {
            "colorbar": {
             "outlinewidth": 0,
             "ticks": ""
            },
            "colorscale": [
             [
              0,
              "#0d0887"
             ],
             [
              0.1111111111111111,
              "#46039f"
             ],
             [
              0.2222222222222222,
              "#7201a8"
             ],
             [
              0.3333333333333333,
              "#9c179e"
             ],
             [
              0.4444444444444444,
              "#bd3786"
             ],
             [
              0.5555555555555556,
              "#d8576b"
             ],
             [
              0.6666666666666666,
              "#ed7953"
             ],
             [
              0.7777777777777778,
              "#fb9f3a"
             ],
             [
              0.8888888888888888,
              "#fdca26"
             ],
             [
              1,
              "#f0f921"
             ]
            ],
            "type": "histogram2dcontour"
           }
          ],
          "mesh3d": [
           {
            "colorbar": {
             "outlinewidth": 0,
             "ticks": ""
            },
            "type": "mesh3d"
           }
          ],
          "parcoords": [
           {
            "line": {
             "colorbar": {
              "outlinewidth": 0,
              "ticks": ""
             }
            },
            "type": "parcoords"
           }
          ],
          "pie": [
           {
            "automargin": true,
            "type": "pie"
           }
          ],
          "scatter": [
           {
            "fillpattern": {
             "fillmode": "overlay",
             "size": 10,
             "solidity": 0.2
            },
            "type": "scatter"
           }
          ],
          "scatter3d": [
           {
            "line": {
             "colorbar": {
              "outlinewidth": 0,
              "ticks": ""
             }
            },
            "marker": {
             "colorbar": {
              "outlinewidth": 0,
              "ticks": ""
             }
            },
            "type": "scatter3d"
           }
          ],
          "scattercarpet": [
           {
            "marker": {
             "colorbar": {
              "outlinewidth": 0,
              "ticks": ""
             }
            },
            "type": "scattercarpet"
           }
          ],
          "scattergeo": [
           {
            "marker": {
             "colorbar": {
              "outlinewidth": 0,
              "ticks": ""
             }
            },
            "type": "scattergeo"
           }
          ],
          "scattergl": [
           {
            "marker": {
             "colorbar": {
              "outlinewidth": 0,
              "ticks": ""
             }
            },
            "type": "scattergl"
           }
          ],
          "scattermap": [
           {
            "marker": {
             "colorbar": {
              "outlinewidth": 0,
              "ticks": ""
             }
            },
            "type": "scattermap"
           }
          ],
          "scattermapbox": [
           {
            "marker": {
             "colorbar": {
              "outlinewidth": 0,
              "ticks": ""
             }
            },
            "type": "scattermapbox"
           }
          ],
          "scatterpolar": [
           {
            "marker": {
             "colorbar": {
              "outlinewidth": 0,
              "ticks": ""
             }
            },
            "type": "scatterpolar"
           }
          ],
          "scatterpolargl": [
           {
            "marker": {
             "colorbar": {
              "outlinewidth": 0,
              "ticks": ""
             }
            },
            "type": "scatterpolargl"
           }
          ],
          "scatterternary": [
           {
            "marker": {
             "colorbar": {
              "outlinewidth": 0,
              "ticks": ""
             }
            },
            "type": "scatterternary"
           }
          ],
          "surface": [
           {
            "colorbar": {
             "outlinewidth": 0,
             "ticks": ""
            },
            "colorscale": [
             [
              0,
              "#0d0887"
             ],
             [
              0.1111111111111111,
              "#46039f"
             ],
             [
              0.2222222222222222,
              "#7201a8"
             ],
             [
              0.3333333333333333,
              "#9c179e"
             ],
             [
              0.4444444444444444,
              "#bd3786"
             ],
             [
              0.5555555555555556,
              "#d8576b"
             ],
             [
              0.6666666666666666,
              "#ed7953"
             ],
             [
              0.7777777777777778,
              "#fb9f3a"
             ],
             [
              0.8888888888888888,
              "#fdca26"
             ],
             [
              1,
              "#f0f921"
             ]
            ],
            "type": "surface"
           }
          ],
          "table": [
           {
            "cells": {
             "fill": {
              "color": "#EBF0F8"
             },
             "line": {
              "color": "white"
             }
            },
            "header": {
             "fill": {
              "color": "#C8D4E3"
             },
             "line": {
              "color": "white"
             }
            },
            "type": "table"
           }
          ]
         },
         "layout": {
          "annotationdefaults": {
           "arrowcolor": "#2a3f5f",
           "arrowhead": 0,
           "arrowwidth": 1
          },
          "autotypenumbers": "strict",
          "coloraxis": {
           "colorbar": {
            "outlinewidth": 0,
            "ticks": ""
           }
          },
          "colorscale": {
           "diverging": [
            [
             0,
             "#8e0152"
            ],
            [
             0.1,
             "#c51b7d"
            ],
            [
             0.2,
             "#de77ae"
            ],
            [
             0.3,
             "#f1b6da"
            ],
            [
             0.4,
             "#fde0ef"
            ],
            [
             0.5,
             "#f7f7f7"
            ],
            [
             0.6,
             "#e6f5d0"
            ],
            [
             0.7,
             "#b8e186"
            ],
            [
             0.8,
             "#7fbc41"
            ],
            [
             0.9,
             "#4d9221"
            ],
            [
             1,
             "#276419"
            ]
           ],
           "sequential": [
            [
             0,
             "#0d0887"
            ],
            [
             0.1111111111111111,
             "#46039f"
            ],
            [
             0.2222222222222222,
             "#7201a8"
            ],
            [
             0.3333333333333333,
             "#9c179e"
            ],
            [
             0.4444444444444444,
             "#bd3786"
            ],
            [
             0.5555555555555556,
             "#d8576b"
            ],
            [
             0.6666666666666666,
             "#ed7953"
            ],
            [
             0.7777777777777778,
             "#fb9f3a"
            ],
            [
             0.8888888888888888,
             "#fdca26"
            ],
            [
             1,
             "#f0f921"
            ]
           ],
           "sequentialminus": [
            [
             0,
             "#0d0887"
            ],
            [
             0.1111111111111111,
             "#46039f"
            ],
            [
             0.2222222222222222,
             "#7201a8"
            ],
            [
             0.3333333333333333,
             "#9c179e"
            ],
            [
             0.4444444444444444,
             "#bd3786"
            ],
            [
             0.5555555555555556,
             "#d8576b"
            ],
            [
             0.6666666666666666,
             "#ed7953"
            ],
            [
             0.7777777777777778,
             "#fb9f3a"
            ],
            [
             0.8888888888888888,
             "#fdca26"
            ],
            [
             1,
             "#f0f921"
            ]
           ]
          },
          "colorway": [
           "#636efa",
           "#EF553B",
           "#00cc96",
           "#ab63fa",
           "#FFA15A",
           "#19d3f3",
           "#FF6692",
           "#B6E880",
           "#FF97FF",
           "#FECB52"
          ],
          "font": {
           "color": "#2a3f5f"
          },
          "geo": {
           "bgcolor": "white",
           "lakecolor": "white",
           "landcolor": "#E5ECF6",
           "showlakes": true,
           "showland": true,
           "subunitcolor": "white"
          },
          "hoverlabel": {
           "align": "left"
          },
          "hovermode": "closest",
          "mapbox": {
           "style": "light"
          },
          "paper_bgcolor": "white",
          "plot_bgcolor": "#E5ECF6",
          "polar": {
           "angularaxis": {
            "gridcolor": "white",
            "linecolor": "white",
            "ticks": ""
           },
           "bgcolor": "#E5ECF6",
           "radialaxis": {
            "gridcolor": "white",
            "linecolor": "white",
            "ticks": ""
           }
          },
          "scene": {
           "xaxis": {
            "backgroundcolor": "#E5ECF6",
            "gridcolor": "white",
            "gridwidth": 2,
            "linecolor": "white",
            "showbackground": true,
            "ticks": "",
            "zerolinecolor": "white"
           },
           "yaxis": {
            "backgroundcolor": "#E5ECF6",
            "gridcolor": "white",
            "gridwidth": 2,
            "linecolor": "white",
            "showbackground": true,
            "ticks": "",
            "zerolinecolor": "white"
           },
           "zaxis": {
            "backgroundcolor": "#E5ECF6",
            "gridcolor": "white",
            "gridwidth": 2,
            "linecolor": "white",
            "showbackground": true,
            "ticks": "",
            "zerolinecolor": "white"
           }
          },
          "shapedefaults": {
           "line": {
            "color": "#2a3f5f"
           }
          },
          "ternary": {
           "aaxis": {
            "gridcolor": "white",
            "linecolor": "white",
            "ticks": ""
           },
           "baxis": {
            "gridcolor": "white",
            "linecolor": "white",
            "ticks": ""
           },
           "bgcolor": "#E5ECF6",
           "caxis": {
            "gridcolor": "white",
            "linecolor": "white",
            "ticks": ""
           }
          },
          "title": {
           "x": 0.05
          },
          "xaxis": {
           "automargin": true,
           "gridcolor": "white",
           "linecolor": "white",
           "ticks": "",
           "title": {
            "standoff": 15
           },
           "zerolinecolor": "white",
           "zerolinewidth": 2
          },
          "yaxis": {
           "automargin": true,
           "gridcolor": "white",
           "linecolor": "white",
           "ticks": "",
           "title": {
            "standoff": 15
           },
           "zerolinecolor": "white",
           "zerolinewidth": 2
          }
         }
        },
        "title": {
         "text": "Average Performance by Language (across all models and metrics)"
        },
        "xaxis": {
         "anchor": "y",
         "domain": [
          0,
          1
         ],
         "tickangle": 45,
         "title": {
          "text": "Language"
         }
        },
        "yaxis": {
         "anchor": "x",
         "domain": [
          0,
          1
         ],
         "title": {
          "text": "Average Score"
         }
        }
       }
      }
     },
     "metadata": {},
     "output_type": "display_data"
    }
   ],
   "source": [
    "# Language performance analysis\n",
    "print(\"Performance by Language (averaged across all models and metrics):\")\n",
    "lang_performance = df.groupby('language')['score'].agg(['mean', 'std', 'count']).round(4)\n",
    "lang_performance.columns = ['Mean Score', 'Std Dev', 'Data Points']\n",
    "lang_performance_sorted = lang_performance.sort_values('Mean Score', ascending=False)\n",
    "\n",
    "display(lang_performance_sorted)\n",
    "\n",
    "# Create bar chart for language performance\n",
    "fig = px.bar(\n",
    "    x=lang_performance_sorted.index,\n",
    "    y=lang_performance_sorted['Mean Score'],\n",
    "    title=\"Average Performance by Language (across all models and metrics)\",\n",
    "    labels={\"x\": \"Language\", \"y\": \"Average Score\"}\n",
    ")\n",
    "\n",
    "fig.update_layout(\n",
    "    height=400,\n",
    "    xaxis={'tickangle': 45}\n",
    ")\n",
    "\n",
    "fig.show()\n",
    "\n",
    "fig.write_html(f\"{docs_dir}/language_performance_bar_chart.html\")"
   ]
  },
  {
   "cell_type": "markdown",
   "metadata": {},
   "source": [
    "## Interesting examples to show\n",
    "\n",
    "* ID 4 of Mistral-Nemo-Instruct-2407 deu and eng, tool call for time (how wrong is this?)\n",
    "* ID 13 of Mistral-Nemo-Instruct-2407 est, decides to get current date for absolute time\n",
    "* ID 32 of gpt-oss-20b eng, wrong thinking for relative date"
   ]
  },
  {
   "cell_type": "markdown",
   "metadata": {},
   "source": [
    "## Is Dutch the best language to implements agents in?\n",
    "\n",
    "I wouldn't conclude that Dutch is the \"best language to implement agents in\" because:\n",
    "\n",
    "1. Marginal difference: The gap between Dutch (0.8602) and German/English is very small (~0.011)\n",
    "2. Statistical significance: With those standard deviations (0.1176 for Dutch), the differences might not be statistically significant\n",
    "3. Dataset specificity: This reflects performance on your specific evaluation dataset, not general agent capability\n",
    "3. Practical considerations: English still dominates in:\n",
    "- Available training data\n",
    "- Tool/API documentation\n",
    "- Developer resources\n",
    "- Real-world deployment scenarios\n",
    "\n",
    "The results suggest Dutch performs slightly better on your specific multilingual agent tasks, but for practical agent development, English remains the most viable choice due to ecosystem advantages. The small performance difference likely doesn't outweigh English's substantial practical benefits.\n",
    "\n",
    "### You are absolutely right!\n",
    "\n",
    "Exactly! It's a great example of how data can be misleading without proper context. The 0.007 difference between Dutch and German could easily be within the margin of error, especially with different sample sizes.\n",
    "\n",
    "Plus, even if Dutch genuinely performed 1-2% better on this specific benchmark, the practical reality is that you'd still choose English for agent development because:\n",
    "\n",
    "- 99% of Stack Overflow answers are in English\n",
    "- All major ML/AI libraries have English docs\n",
    "- Your team probably thinks in English when coding\n",
    "- Users expect English interfaces in most contexts\n",
    "\n",
    "It's similar to how a car might get 0.1 MPG better fuel economy, but if there are no gas stations that sell its special fuel, it's not actually the better choice!\n",
    "\n",
    "Your evaluation results are valuable for understanding model capabilities across languages, but the \"best\" language for implementation involves many more factors than just benchmark scores."
   ]
  },
  {
   "cell_type": "code",
   "execution_count": null,
   "metadata": {},
   "outputs": [],
   "source": []
  }
 ],
 "metadata": {
  "kernelspec": {
   "display_name": "belebele-llama",
   "language": "python",
   "name": "python3"
  },
  "language_info": {
   "codemirror_mode": {
    "name": "ipython",
    "version": 3
   },
   "file_extension": ".py",
   "mimetype": "text/x-python",
   "name": "python",
   "nbconvert_exporter": "python",
   "pygments_lexer": "ipython3",
   "version": "3.13.4"
  }
 },
 "nbformat": 4,
 "nbformat_minor": 4
}
