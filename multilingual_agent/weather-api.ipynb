{
 "cells": [
  {
   "cell_type": "code",
   "execution_count": 119,
   "id": "d1d78e1b-c53f-426e-bf82-f39939778905",
   "metadata": {},
   "outputs": [],
   "source": [
    "import requests\n",
    "from datetime import date\n",
    "from datetime import datetime, timedelta\n",
    "from typing import Any, Dict, List\n"
   ]
  },
  {
   "cell_type": "code",
   "execution_count": null,
   "id": "2619ad3f-08ed-4732-b935-3fec3deeda37",
   "metadata": {},
   "outputs": [],
   "source": []
  },
  {
   "cell_type": "code",
   "execution_count": 120,
   "id": "f29d8274-2ef1-4993-82f0-54a74ac27816",
   "metadata": {},
   "outputs": [],
   "source": [
    "\n",
    "def get_coordinates(city_name: str):\n",
    "    geocode_url = \"https://geocoding-api.open-meteo.com/v1/search\"\n",
    "    response = requests.get(geocode_url, params={\"name\": city_name})\n",
    "    response.raise_for_status()\n",
    "    data = response.json()\n",
    "    if data.get(\"results\"):\n",
    "        first = data[\"results\"][0]\n",
    "        return first[\"latitude\"], first[\"longitude\"]\n",
    "    else:\n",
    "        raise ValueError(f\"No coordinates found for '{city_name}'\")\n",
    "\n",
    "def get_future_forecast(latitude: float, longitude: float, target_date: str, timezone: str = \"auto\"):\n",
    "    url = \"https://api.open-meteo.com/v1/forecast\"\n",
    "    params = {\n",
    "        \"latitude\": latitude,\n",
    "        \"longitude\": longitude,\n",
    "        \"daily\": [\"temperature_2m_mean\", \"relative_humidity_2m_mean\", \"wind_speed_10m_max\"],\n",
    "        \"forecast_days\": 16,\n",
    "        \"timezone\": timezone\n",
    "    }\n",
    "    response = requests.get(url, params=params)\n",
    "    response.raise_for_status()\n",
    "    data = response.json()\n",
    "    try:\n",
    "        date_index = data[\"daily\"][\"time\"].index(target_date)\n",
    "        return {\n",
    "            \"temperature\": data[\"daily\"][\"temperature_2m_mean\"][date_index],\n",
    "            \"humidity\": data[\"daily\"][\"relative_humidity_2m_mean\"][date_index],\n",
    "            \"wind_speed\": data[\"daily\"][\"wind_speed_10m_max\"][date_index]\n",
    "        }\n",
    "    except:\n",
    "        return {\"error\": \"Forecast only extends to 16 days\"}"
   ]
  },
  {
   "cell_type": "code",
   "execution_count": null,
   "id": "a4401194-42fd-498b-85e0-49ccc1dc9bc3",
   "metadata": {},
   "outputs": [],
   "source": []
  },
  {
   "cell_type": "code",
   "execution_count": 121,
   "id": "0cd2f6e5-c773-416d-8e67-6c80cc0a170f",
   "metadata": {},
   "outputs": [],
   "source": [
    "def get_weather_forecast(city: str, forecast_date: str) -> Dict[str, int]:\n",
    "    try:\n",
    "        city_coordinates = get_coordinates(city)\n",
    "    except requests.exceptions.RequestException as e:\n",
    "        return {\"error\": str(e)}\n",
    "\n",
    "    data = get_future_forecast(city_coordinates[0], city_coordinates[1], forecast_date)\n",
    "    return data\n",
    "        \n",
    "    "
   ]
  },
  {
   "cell_type": "code",
   "execution_count": 126,
   "id": "b9440972-d280-440a-a112-b0a9283a0bd8",
   "metadata": {},
   "outputs": [
    {
     "data": {
      "text/plain": [
       "{'temperature': 18.3, 'humidity': 74, 'wind_speed': 12.0}"
      ]
     },
     "execution_count": 126,
     "metadata": {},
     "output_type": "execute_result"
    }
   ],
   "source": [
    "forecast = get_weather_forecast(\"Sao Paulo\", \"2025-09-15\")\n",
    "forecast"
   ]
  },
  {
   "cell_type": "code",
   "execution_count": null,
   "id": "1e5b2e47-ac4c-4f2a-9ca9-0baf5bc680a0",
   "metadata": {},
   "outputs": [],
   "source": []
  }
 ],
 "metadata": {
  "kernelspec": {
   "display_name": "Python 3 (ipykernel)",
   "language": "python",
   "name": "python3"
  },
  "language_info": {
   "codemirror_mode": {
    "name": "ipython",
    "version": 3
   },
   "file_extension": ".py",
   "mimetype": "text/x-python",
   "name": "python",
   "nbconvert_exporter": "python",
   "pygments_lexer": "ipython3",
   "version": "3.11.11"
  }
 },
 "nbformat": 4,
 "nbformat_minor": 5
}
